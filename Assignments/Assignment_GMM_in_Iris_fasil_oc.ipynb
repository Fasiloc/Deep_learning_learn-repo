{
  "nbformat": 4,
  "nbformat_minor": 0,
  "metadata": {
    "colab": {
      "name": "Assignment GMM in Iris fasil oc.ipynb",
      "provenance": [],
      "collapsed_sections": []
    },
    "kernelspec": {
      "name": "python3",
      "display_name": "Python 3"
    },
    "language_info": {
      "name": "python"
    }
  },
  "cells": [
    {
      "cell_type": "code",
      "execution_count": 1,
      "metadata": {
        "id": "yzwyFLrajsah"
      },
      "outputs": [],
      "source": [
        "import numpy as np\n",
        "import pandas as pd\n",
        "import matplotlib.pyplot as plt\n",
        "from pandas import DataFrame\n",
        "from sklearn import datasets\n",
        "from sklearn.mixture import GaussianMixture"
      ]
    },
    {
      "cell_type": "code",
      "source": [
        "# loading iris dataset\n",
        "iris = datasets.load_iris()\n",
        "\n",
        "# select 3rd and 4th columns\n",
        "X = iris.data[:, 2:4]\n",
        "\n",
        "# turn it into a dataframe\n",
        "d = pd.DataFrame(X)\n",
        "\n",
        "# plot the data\n",
        "plt.scatter(d[0], d[1])"
      ],
      "metadata": {
        "colab": {
          "base_uri": "https://localhost:8080/",
          "height": 282
        },
        "id": "3DptMVkvlyVl",
        "outputId": "c6779e0b-85d2-479e-9c70-e2eeebb1da94"
      },
      "execution_count": 14,
      "outputs": [
        {
          "output_type": "execute_result",
          "data": {
            "text/plain": [
              "<matplotlib.collections.PathCollection at 0x7f1eb0f1d150>"
            ]
          },
          "metadata": {},
          "execution_count": 14
        },
        {
          "output_type": "display_data",
          "data": {
            "text/plain": [
              "<Figure size 432x288 with 1 Axes>"
            ],
            "image/png": "[encoded data removed]"
          },
          "metadata": {
            "needs_background": "light"
          }
        }
      ]
    },
    {
      "cell_type": "code",
      "source": [
        "gmm = GaussianMixture(n_components = 3)\n",
        "\n",
        "# Fit the GMM model for the dataset\n",
        "gmm.fit(d)\n",
        "\n",
        "# Assign a label to each sample\n",
        "labels = gmm.predict(d)\n",
        "d['labels']= labels\n",
        "d0 = d[d['labels']== 0]\n",
        "d1 = d[d['labels']== 1]\n",
        "d2 = d[d['labels']== 2]\n",
        "\n",
        "# plot three clusters in same plot\n",
        "plt.scatter(d0[0], d0[1], c ='r')\n",
        "plt.scatter(d1[0], d1[1], c ='yellow')\n",
        "plt.scatter(d2[0], d2[1], c ='g')\n"
      ],
      "metadata": {
        "colab": {
          "base_uri": "https://localhost:8080/",
          "height": 282
        },
        "id": "oYtNxhABmER3",
        "outputId": "8bc4772c-9e2a-4fac-d820-5535487eff45"
      },
      "execution_count": 15,
      "outputs": [
        {
          "output_type": "execute_result",
          "data": {
            "text/plain": [
              "<matplotlib.collections.PathCollection at 0x7f1eb0ea4fd0>"
            ]
          },
          "metadata": {},
          "execution_count": 15
        },
        {
          "output_type": "display_data",
          "data": {
            "text/plain": [
              "<Figure size 432x288 with 1 Axes>"
            ],
            "image/png": "[encoded data removed]"
          },
          "metadata": {
            "needs_background": "light"
          }
        }
      ]
    },
    {
      "cell_type": "code",
      "source": [
        "# print the converged log-likelihood value\n",
        "print(gmm.lower_bound_)\n",
        "\n",
        "# print the number of iterations needed\n",
        "# for the log-likelihood value to converge\n",
        "print(gmm.n_iter_)\n"
      ],
      "metadata": {
        "colab": {
          "base_uri": "https://localhost:8080/"
        },
        "id": "-54oJwUAkUlz",
        "outputId": "4ede4891-a7ad-4261-9772-5d4bff0976e9"
      },
      "execution_count": 16,
      "outputs": [
        {
          "output_type": "stream",
          "name": "stdout",
          "text": [
            "-0.9023879113828757\n",
            "3\n"
          ]
        }
      ]
    },
    {
      "cell_type": "code",
      "source": [
        "print(gmm.means_)\n",
        "print('\\n')\n",
        "print(gmm.covariances_)"
      ],
      "metadata": {
        "colab": {
          "base_uri": "https://localhost:8080/"
        },
        "id": "vO29SJjGmcFV",
        "outputId": "63f63003-1981-4c8d-ac16-cfb6dae461ef"
      },
      "execution_count": 17,
      "outputs": [
        {
          "output_type": "stream",
          "name": "stdout",
          "text": [
            "[[1.4619995  0.24599977]\n",
            " [5.57721357 2.04303224]\n",
            " [4.30594388 1.34787855]]\n",
            "\n",
            "\n",
            "[[[0.02955684 0.00594793]\n",
            "  [0.00594793 0.01088496]]\n",
            "\n",
            " [[0.30034404 0.04402642]\n",
            "  [0.04402642 0.07200287]]\n",
            "\n",
            " [[0.24667113 0.08489919]\n",
            "  [0.08489919 0.04585075]]]\n"
          ]
        }
      ]
    },
    {
      "cell_type": "code",
      "source": [
        ""
      ],
      "metadata": {
        "id": "FhaC0rcJnc0e"
      },
      "execution_count": null,
      "outputs": []
    }
  ]
}