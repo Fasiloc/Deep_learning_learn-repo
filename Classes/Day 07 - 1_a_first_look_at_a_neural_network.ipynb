{
  "cells": [
    {
      "cell_type": "code",
      "execution_count": null,
      "metadata": {
        "id": "jwq49n_sn2tb"
      },
      "outputs": [],
      "source": [
        "import keras\n",
        "keras.__version__"
      ]
    },
    {
      "cell_type": "markdown",
      "source": [
        "\n",
        "#MNIST sample digits\n",
        "\n",
        "![image.png](data:image/png;base64,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)"
      ],
      "metadata": {
        "id": "z8hZGV2HohOo"
      }
    },
    {
      "cell_type": "markdown",
      "metadata": {
        "id": "x3dkLUSrn2tk"
      },
      "source": [
        "The MNIST dataset comes pre-loaded in Keras, in the form of a set of four Numpy arrays:"
      ]
    },
    {
      "cell_type": "code",
      "execution_count": 1,
      "metadata": {
        "collapsed": true,
        "colab": {
          "base_uri": "https://localhost:8080/"
        },
        "id": "DRhwEDRTn2tk",
        "outputId": "d447405d-9770-434c-979f-6f27f992e893"
      },
      "outputs": [
        {
          "output_type": "stream",
          "name": "stdout",
          "text": [
            "Downloading data from https://storage.googleapis.com/tensorflow/tf-keras-datasets/mnist.npz\n",
            "11493376/11490434 [==============================] - 0s 0us/step\n",
            "11501568/11490434 [==============================] - 0s 0us/step\n"
          ]
        }
      ],
      "source": [
        "from keras.datasets import mnist\n",
        "\n",
        "(train_images, train_labels), (test_images, test_labels) = mnist.load_data()"
      ]
    },
    {
      "cell_type": "code",
      "execution_count": 2,
      "metadata": {
        "colab": {
          "base_uri": "https://localhost:8080/"
        },
        "id": "5RuVmqN8n2tm",
        "outputId": "6222521a-4740-418e-d24a-05bbd56e9282"
      },
      "outputs": [
        {
          "output_type": "execute_result",
          "data": {
            "text/plain": [
              "(60000, 28, 28)"
            ]
          },
          "metadata": {},
          "execution_count": 2
        }
      ],
      "source": [
        "train_images.shape"
      ]
    },
    {
      "cell_type": "code",
      "execution_count": 3,
      "metadata": {
        "colab": {
          "base_uri": "https://localhost:8080/"
        },
        "id": "jIVMWJzWn2tm",
        "outputId": "72ce6538-2cd3-4971-a2dc-04866cbe3a0f"
      },
      "outputs": [
        {
          "output_type": "execute_result",
          "data": {
            "text/plain": [
              "60000"
            ]
          },
          "metadata": {},
          "execution_count": 3
        }
      ],
      "source": [
        "len(train_labels)"
      ]
    },
    {
      "cell_type": "code",
      "execution_count": 4,
      "metadata": {
        "colab": {
          "base_uri": "https://localhost:8080/"
        },
        "id": "R-oIWoqhn2tn",
        "outputId": "e676c99d-4b29-4de7-e25d-f5ea3af553cf"
      },
      "outputs": [
        {
          "output_type": "execute_result",
          "data": {
            "text/plain": [
              "array([5, 0, 4, ..., 5, 6, 8], dtype=uint8)"
            ]
          },
          "metadata": {},
          "execution_count": 4
        }
      ],
      "source": [
        "train_labels"
      ]
    },
    {
      "cell_type": "markdown",
      "metadata": {
        "id": "AW2u8Khgn2to"
      },
      "source": [
        "Let's have a look at the test data:"
      ]
    },
    {
      "cell_type": "code",
      "execution_count": 5,
      "metadata": {
        "colab": {
          "base_uri": "https://localhost:8080/"
        },
        "id": "4YPF9QIgn2tp",
        "outputId": "cd904930-baea-4fcb-9077-888f24e0a996"
      },
      "outputs": [
        {
          "output_type": "execute_result",
          "data": {
            "text/plain": [
              "(10000, 28, 28)"
            ]
          },
          "metadata": {},
          "execution_count": 5
        }
      ],
      "source": [
        "test_images.shape"
      ]
    },
    {
      "cell_type": "code",
      "execution_count": 6,
      "metadata": {
        "colab": {
          "base_uri": "https://localhost:8080/"
        },
        "id": "TuE950zjn2tp",
        "outputId": "512ebfbd-6e65-4008-d4c7-43a3efde0bd8"
      },
      "outputs": [
        {
          "output_type": "execute_result",
          "data": {
            "text/plain": [
              "10000"
            ]
          },
          "metadata": {},
          "execution_count": 6
        }
      ],
      "source": [
        "len(test_labels)"
      ]
    },
    {
      "cell_type": "code",
      "execution_count": 7,
      "metadata": {
        "colab": {
          "base_uri": "https://localhost:8080/"
        },
        "id": "5Sn5zjhAn2tq",
        "outputId": "fd34d939-ad19-445c-ff2e-36a8ceaab89f"
      },
      "outputs": [
        {
          "output_type": "execute_result",
          "data": {
            "text/plain": [
              "array([7, 2, 1, ..., 4, 5, 6], dtype=uint8)"
            ]
          },
          "metadata": {},
          "execution_count": 7
        }
      ],
      "source": [
        "test_labels"
      ]
    },
    {
      "cell_type": "code",
      "execution_count": 8,
      "metadata": {
        "collapsed": true,
        "id": "h7uzaMTWn2tr"
      },
      "outputs": [],
      "source": [
        "from keras import models\n",
        "from keras import layers\n",
        "\n",
        "network = models.Sequential()\n",
        "network.add(layers.Dense(512, activation='relu', input_shape=(28 * 28,)))\n",
        "network.add(layers.Dense(10, activation='softmax'))"
      ]
    },
    {
      "cell_type": "code",
      "execution_count": 9,
      "metadata": {
        "collapsed": true,
        "id": "tGnXu8jbn2ts"
      },
      "outputs": [],
      "source": [
        "network.compile(optimizer='rmsprop',\n",
        "                loss='categorical_crossentropy',\n",
        "                metrics=['accuracy'])"
      ]
    },
    {
      "cell_type": "code",
      "source": [
        "train_images.shape"
      ],
      "metadata": {
        "colab": {
          "base_uri": "https://localhost:8080/"
        },
        "id": "V408oCubh9aQ",
        "outputId": "caaf9917-6be7-4442-f0f3-d47b4c013c25"
      },
      "execution_count": 11,
      "outputs": [
        {
          "output_type": "execute_result",
          "data": {
            "text/plain": [
              "(60000, 28, 28)"
            ]
          },
          "metadata": {},
          "execution_count": 11
        }
      ]
    },
    {
      "cell_type": "code",
      "execution_count": 12,
      "metadata": {
        "collapsed": true,
        "id": "QnMz5_YUn2tt"
      },
      "outputs": [],
      "source": [
        "train_images = train_images.reshape((60000, 28 * 28))\n",
        "train_images = train_images.astype('float32') / 255\n",
        "\n",
        "test_images = test_images.reshape((10000, 28 * 28))\n",
        "test_images = test_images.astype('float32') / 255"
      ]
    },
    {
      "cell_type": "code",
      "source": [
        "train_images.shape"
      ],
      "metadata": {
        "colab": {
          "base_uri": "https://localhost:8080/"
        },
        "id": "X5Hjs3p5iLGI",
        "outputId": "815bdd04-6d03-49d6-9fa8-97c6d81ba587"
      },
      "execution_count": 13,
      "outputs": [
        {
          "output_type": "execute_result",
          "data": {
            "text/plain": [
              "(60000, 784)"
            ]
          },
          "metadata": {},
          "execution_count": 13
        }
      ]
    },
    {
      "cell_type": "code",
      "execution_count": 14,
      "metadata": {
        "collapsed": true,
        "id": "xJpE7DXwn2tt"
      },
      "outputs": [],
      "source": [
        "from tensorflow.keras.utils import to_categorical\n",
        "\n",
        "train_labels = to_categorical(train_labels)\n",
        "test_labels = to_categorical(test_labels)"
      ]
    },
    {
      "cell_type": "code",
      "source": [
        "test_labels"
      ],
      "metadata": {
        "id": "ovN2njOKovHw",
        "outputId": "2c5a0576-e75d-4950-9aeb-7d79b2f1ac97",
        "colab": {
          "base_uri": "https://localhost:8080/"
        }
      },
      "execution_count": 15,
      "outputs": [
        {
          "output_type": "execute_result",
          "data": {
            "text/plain": [
              "array([[0., 0., 0., ..., 1., 0., 0.],\n",
              "       [0., 0., 1., ..., 0., 0., 0.],\n",
              "       [0., 1., 0., ..., 0., 0., 0.],\n",
              "       ...,\n",
              "       [0., 0., 0., ..., 0., 0., 0.],\n",
              "       [0., 0., 0., ..., 0., 0., 0.],\n",
              "       [0., 0., 0., ..., 0., 0., 0.]], dtype=float32)"
            ]
          },
          "metadata": {},
          "execution_count": 15
        }
      ]
    },
    {
      "cell_type": "markdown",
      "metadata": {
        "id": "LwJIa-EQn2tu"
      },
      "source": [
        "We are now ready to train our network, which in Keras is done via a call to the `fit` method of the network: \n",
        "we \"fit\" the model to its training data."
      ]
    },
    {
      "cell_type": "code",
      "execution_count": 16,
      "metadata": {
        "colab": {
          "base_uri": "https://localhost:8080/"
        },
        "id": "0n9eqtbKn2tu",
        "outputId": "197e6e04-1555-4d97-8d5d-86d5b44bd034"
      },
      "outputs": [
        {
          "output_type": "stream",
          "name": "stdout",
          "text": [
            "Epoch 1/5\n",
            "469/469 [==============================] - 6s 12ms/step - loss: 0.2598 - accuracy: 0.9245\n",
            "Epoch 2/5\n",
            "469/469 [==============================] - 6s 13ms/step - loss: 0.1036 - accuracy: 0.9692\n",
            "Epoch 3/5\n",
            "469/469 [==============================] - 6s 12ms/step - loss: 0.0680 - accuracy: 0.9801\n",
            "Epoch 4/5\n",
            "469/469 [==============================] - 6s 12ms/step - loss: 0.0497 - accuracy: 0.9854\n",
            "Epoch 5/5\n",
            "469/469 [==============================] - 6s 12ms/step - loss: 0.0376 - accuracy: 0.9887\n"
          ]
        },
        {
          "output_type": "execute_result",
          "data": {
            "text/plain": [
              "<keras.callbacks.History at 0x7f9aafedf110>"
            ]
          },
          "metadata": {},
          "execution_count": 16
        }
      ],
      "source": [
        "network.fit(train_images, train_labels, epochs=5, batch_size=128)"
      ]
    },
    {
      "cell_type": "markdown",
      "metadata": {
        "id": "g8ky2hfYn2tu"
      },
      "source": [
        "Two quantities are being displayed during training: the \"loss\" of the network over the training data, and the accuracy of the network over \n",
        "the training data.\n",
        "\n",
        "We quickly reach an accuracy of 0.989 (i.e. 98.9%) on the training data. Now let's check that our model performs well on the test set too:"
      ]
    },
    {
      "cell_type": "code",
      "execution_count": 17,
      "metadata": {
        "colab": {
          "base_uri": "https://localhost:8080/"
        },
        "id": "ih0kD0xin2tv",
        "outputId": "6d3a8d17-0ae4-4b93-9481-908b667ff3eb"
      },
      "outputs": [
        {
          "output_type": "stream",
          "name": "stdout",
          "text": [
            "313/313 [==============================] - 2s 6ms/step - loss: 0.0663 - accuracy: 0.9786\n"
          ]
        }
      ],
      "source": [
        "test_loss, test_acc = network.evaluate(test_images, test_labels)"
      ]
    },
    {
      "cell_type": "code",
      "execution_count": 18,
      "metadata": {
        "colab": {
          "base_uri": "https://localhost:8080/"
        },
        "id": "RNBa9A1Hn2tv",
        "outputId": "eaf3fa26-ee36-4064-c01d-44137f2aed1b"
      },
      "outputs": [
        {
          "output_type": "stream",
          "name": "stdout",
          "text": [
            "test_acc: 0.978600025177002\n"
          ]
        }
      ],
      "source": [
        "print('test_acc:', test_acc)"
      ]
    }
  ],
  "metadata": {
    "kernelspec": {
      "display_name": "Python 3",
      "language": "python",
      "name": "python3"
    },
    "language_info": {
      "codemirror_mode": {
        "name": "ipython",
        "version": 3
      },
      "file_extension": ".py",
      "mimetype": "text/x-python",
      "name": "python",
      "nbconvert_exporter": "python",
      "pygments_lexer": "ipython3",
      "version": "3.7.6"
    },
    "colab": {
      "name": "1-a-first-look-at-a-neural-network.ipynb",
      "provenance": []
    }
  },
  "nbformat": 4,
  "nbformat_minor": 0
}
