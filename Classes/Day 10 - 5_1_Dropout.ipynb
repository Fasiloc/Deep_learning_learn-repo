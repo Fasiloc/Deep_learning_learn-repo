{
  "cells": [
    {
      "cell_type": "code",
      "execution_count": 1,
      "metadata": {
        "id": "KsFoTHDSPSXK",
        "colab": {
          "base_uri": "https://localhost:8080/",
          "height": 35
        },
        "outputId": "174da6fc-a265-4e68-af42-735a8e6436d2"
      },
      "outputs": [
        {
          "output_type": "execute_result",
          "data": {
            "text/plain": [
              "'2.8.0'"
            ],
            "application/vnd.google.colaboratory.intrinsic+json": {
              "type": "string"
            }
          },
          "metadata": {},
          "execution_count": 1
        }
      ],
      "source": [
        "import keras\n",
        "keras.__version__"
      ]
    },
    {
      "cell_type": "code",
      "execution_count": 2,
      "metadata": {
        "collapsed": true,
        "id": "GGsDvmd-PSXU",
        "colab": {
          "base_uri": "https://localhost:8080/"
        },
        "outputId": "bc6d147b-f231-41b2-a44d-c643b678b723"
      },
      "outputs": [
        {
          "output_type": "stream",
          "name": "stdout",
          "text": [
            "Downloading data from https://storage.googleapis.com/tensorflow/tf-keras-datasets/imdb.npz\n",
            "17465344/17464789 [==============================] - 0s 0us/step\n",
            "17473536/17464789 [==============================] - 0s 0us/step\n"
          ]
        }
      ],
      "source": [
        "from keras.datasets import imdb\n",
        "import numpy as np\n",
        "\n",
        "(train_data, train_labels), (test_data, test_labels) = imdb.load_data(num_words=10000)\n",
        "\n",
        "def vectorize_sequences(sequences, dimension=10000):\n",
        "    # Create an all-zero matrix of shape (len(sequences), dimension)\n",
        "    results = np.zeros((len(sequences), dimension))\n",
        "    for i, sequence in enumerate(sequences):\n",
        "        results[i, sequence] = 1.  # set specific indices of results[i] to 1s\n",
        "    return results\n",
        "\n",
        "# Our vectorized training data\n",
        "x_train = vectorize_sequences(train_data)\n",
        "# Our vectorized test data\n",
        "x_test = vectorize_sequences(test_data)\n",
        "# Our vectorized labels\n",
        "y_train = np.asarray(train_labels).astype('float32')\n",
        "y_test = np.asarray(test_labels).astype('float32')"
      ]
    },
    {
      "cell_type": "code",
      "execution_count": 3,
      "metadata": {
        "collapsed": true,
        "id": "kkvuIF6sPSXX"
      },
      "outputs": [],
      "source": [
        "from keras import models\n",
        "from keras import layers\n",
        "\n",
        "original_model = models.Sequential()\n",
        "original_model.add(layers.Dense(16, activation='relu', input_shape=(10000,)))\n",
        "original_model.add(layers.Dense(16, activation='relu'))\n",
        "original_model.add(layers.Dense(1, activation='sigmoid'))\n",
        "\n",
        "original_model.compile(optimizer='rmsprop',\n",
        "                       loss='binary_crossentropy',\n",
        "                       metrics=['acc'])"
      ]
    },
    {
      "cell_type": "markdown",
      "metadata": {
        "id": "mdp4OrPmPSXY"
      },
      "source": [
        "Now let's try to replace it with this smaller network:"
      ]
    },
    {
      "cell_type": "code",
      "execution_count": 5,
      "metadata": {
        "id": "tEYr5Bj_PSXa",
        "colab": {
          "base_uri": "https://localhost:8080/"
        },
        "outputId": "4f59a2a8-a9dc-4a69-bf8f-81900df01cb9"
      },
      "outputs": [
        {
          "output_type": "stream",
          "name": "stdout",
          "text": [
            "Epoch 1/20\n",
            "49/49 [==============================] - 4s 56ms/step - loss: 0.4505 - acc: 0.8183 - val_loss: 0.3384 - val_acc: 0.8776\n",
            "Epoch 2/20\n",
            "49/49 [==============================] - 2s 40ms/step - loss: 0.2604 - acc: 0.9080 - val_loss: 0.2848 - val_acc: 0.8898\n",
            "Epoch 3/20\n",
            "49/49 [==============================] - 2s 40ms/step - loss: 0.1992 - acc: 0.9300 - val_loss: 0.2817 - val_acc: 0.8872\n",
            "Epoch 4/20\n",
            "49/49 [==============================] - 2s 40ms/step - loss: 0.1677 - acc: 0.9412 - val_loss: 0.2962 - val_acc: 0.8826\n",
            "Epoch 5/20\n",
            "49/49 [==============================] - 2s 39ms/step - loss: 0.1422 - acc: 0.9481 - val_loss: 0.3108 - val_acc: 0.8809\n",
            "Epoch 6/20\n",
            "49/49 [==============================] - 2s 40ms/step - loss: 0.1239 - acc: 0.9586 - val_loss: 0.3399 - val_acc: 0.8737\n",
            "Epoch 7/20\n",
            "49/49 [==============================] - 2s 40ms/step - loss: 0.1094 - acc: 0.9624 - val_loss: 0.3564 - val_acc: 0.8734\n",
            "Epoch 8/20\n",
            "49/49 [==============================] - 2s 40ms/step - loss: 0.0949 - acc: 0.9691 - val_loss: 0.3940 - val_acc: 0.8665\n",
            "Epoch 9/20\n",
            "49/49 [==============================] - 2s 41ms/step - loss: 0.0817 - acc: 0.9743 - val_loss: 0.4111 - val_acc: 0.8687\n",
            "Epoch 10/20\n",
            "49/49 [==============================] - 3s 66ms/step - loss: 0.0724 - acc: 0.9771 - val_loss: 0.4658 - val_acc: 0.8606\n",
            "Epoch 11/20\n",
            "49/49 [==============================] - 2s 42ms/step - loss: 0.0595 - acc: 0.9824 - val_loss: 0.4729 - val_acc: 0.8635\n",
            "Epoch 12/20\n",
            "49/49 [==============================] - 2s 39ms/step - loss: 0.0524 - acc: 0.9837 - val_loss: 0.5024 - val_acc: 0.8610\n",
            "Epoch 13/20\n",
            "49/49 [==============================] - 2s 40ms/step - loss: 0.0406 - acc: 0.9890 - val_loss: 0.5749 - val_acc: 0.8532\n",
            "Epoch 14/20\n",
            "49/49 [==============================] - 2s 40ms/step - loss: 0.0348 - acc: 0.9912 - val_loss: 0.5798 - val_acc: 0.8569\n",
            "Epoch 15/20\n",
            "49/49 [==============================] - 2s 41ms/step - loss: 0.0294 - acc: 0.9925 - val_loss: 0.6129 - val_acc: 0.8564\n",
            "Epoch 16/20\n",
            "49/49 [==============================] - 2s 40ms/step - loss: 0.0230 - acc: 0.9944 - val_loss: 0.6617 - val_acc: 0.8518\n",
            "Epoch 17/20\n",
            "49/49 [==============================] - 2s 41ms/step - loss: 0.0215 - acc: 0.9939 - val_loss: 0.7858 - val_acc: 0.8434\n",
            "Epoch 18/20\n",
            "49/49 [==============================] - 2s 42ms/step - loss: 0.0128 - acc: 0.9976 - val_loss: 0.7443 - val_acc: 0.8511\n",
            "Epoch 19/20\n",
            "49/49 [==============================] - 2s 41ms/step - loss: 0.0131 - acc: 0.9964 - val_loss: 0.7848 - val_acc: 0.8518\n",
            "Epoch 20/20\n",
            "49/49 [==============================] - 2s 50ms/step - loss: 0.0112 - acc: 0.9968 - val_loss: 0.8108 - val_acc: 0.8514\n"
          ]
        }
      ],
      "source": [
        "original_hist = original_model.fit(x_train, y_train,\n",
        "                                   epochs=20,\n",
        "                                   batch_size=512,\n",
        "                                   validation_data=(x_test, y_test))"
      ]
    },
    {
      "cell_type": "code",
      "source": [
        "original_hist.history.keys()"
      ],
      "metadata": {
        "id": "3CVIlKVwR5Tu",
        "colab": {
          "base_uri": "https://localhost:8080/"
        },
        "outputId": "c0105b4a-4f4c-4e65-82dd-e3a806621516"
      },
      "execution_count": 6,
      "outputs": [
        {
          "output_type": "execute_result",
          "data": {
            "text/plain": [
              "dict_keys(['loss', 'acc', 'val_loss', 'val_acc'])"
            ]
          },
          "metadata": {},
          "execution_count": 6
        }
      ]
    },
    {
      "cell_type": "code",
      "execution_count": 8,
      "metadata": {
        "collapsed": true,
        "id": "nhRXyjGUPSXm"
      },
      "outputs": [],
      "source": [
        "dpt_model = models.Sequential()\n",
        "dpt_model.add(layers.Dense(16, activation='relu', input_shape=(10000,)))\n",
        "dpt_model.add(layers.Dropout(0.5))\n",
        "dpt_model.add(layers.Dense(16, activation='relu'))\n",
        "dpt_model.add(layers.Dropout(0.5))\n",
        "dpt_model.add(layers.Dense(1, activation='sigmoid'))\n",
        "\n",
        "dpt_model.compile(optimizer='rmsprop',\n",
        "                  loss='binary_crossentropy',\n",
        "                  metrics=['acc'])"
      ]
    },
    {
      "cell_type": "markdown",
      "source": [
        "given layer would normally return a vector [0.2, 0.5, 1.3, 0.8, 1.1]\n"
      ],
      "metadata": {
        "id": "FpvZYjjeVMMX"
      }
    },
    {
      "cell_type": "markdown",
      "source": [
        "After applying dropout, this vector will have a few zero entries\n",
        "distributed at random: \n",
        "for example, [0, 0.5, 1.3, 0, 1.1]."
      ],
      "metadata": {
        "id": "gZ-d_yySVW9F"
      }
    },
    {
      "cell_type": "code",
      "execution_count": 9,
      "metadata": {
        "id": "vzrlSYQRPSXm",
        "colab": {
          "base_uri": "https://localhost:8080/"
        },
        "outputId": "512a45ea-7fac-4b6e-cdd1-44185afaa954"
      },
      "outputs": [
        {
          "output_type": "stream",
          "name": "stdout",
          "text": [
            "Epoch 1/20\n",
            "49/49 [==============================] - 3s 55ms/step - loss: 0.6421 - acc: 0.6591 - val_loss: 0.5837 - val_acc: 0.7548\n",
            "Epoch 2/20\n",
            "49/49 [==============================] - 2s 51ms/step - loss: 0.5539 - acc: 0.7984 - val_loss: 0.5061 - val_acc: 0.8497\n",
            "Epoch 3/20\n",
            "49/49 [==============================] - 2s 39ms/step - loss: 0.4906 - acc: 0.8463 - val_loss: 0.4543 - val_acc: 0.8767\n",
            "Epoch 4/20\n",
            "49/49 [==============================] - 3s 59ms/step - loss: 0.4419 - acc: 0.8747 - val_loss: 0.4175 - val_acc: 0.8776\n",
            "Epoch 5/20\n",
            "49/49 [==============================] - 2s 41ms/step - loss: 0.3983 - acc: 0.8904 - val_loss: 0.3839 - val_acc: 0.8780\n",
            "Epoch 6/20\n",
            "49/49 [==============================] - 2s 39ms/step - loss: 0.3535 - acc: 0.8912 - val_loss: 0.3531 - val_acc: 0.8808\n",
            "Epoch 7/20\n",
            "49/49 [==============================] - 2s 40ms/step - loss: 0.3194 - acc: 0.9018 - val_loss: 0.3376 - val_acc: 0.8806\n",
            "Epoch 8/20\n",
            "49/49 [==============================] - 2s 40ms/step - loss: 0.2846 - acc: 0.9133 - val_loss: 0.3429 - val_acc: 0.8806\n",
            "Epoch 9/20\n",
            "49/49 [==============================] - 2s 40ms/step - loss: 0.2698 - acc: 0.9183 - val_loss: 0.3290 - val_acc: 0.8772\n",
            "Epoch 10/20\n",
            "49/49 [==============================] - 2s 40ms/step - loss: 0.2427 - acc: 0.9254 - val_loss: 0.3380 - val_acc: 0.8771\n",
            "Epoch 11/20\n",
            "49/49 [==============================] - 2s 40ms/step - loss: 0.2258 - acc: 0.9326 - val_loss: 0.3461 - val_acc: 0.8734\n",
            "Epoch 12/20\n",
            "49/49 [==============================] - 2s 40ms/step - loss: 0.2123 - acc: 0.9364 - val_loss: 0.3864 - val_acc: 0.8772\n",
            "Epoch 13/20\n",
            "49/49 [==============================] - 2s 41ms/step - loss: 0.2067 - acc: 0.9377 - val_loss: 0.3928 - val_acc: 0.8772\n",
            "Epoch 14/20\n",
            "49/49 [==============================] - 3s 63ms/step - loss: 0.1854 - acc: 0.9448 - val_loss: 0.4066 - val_acc: 0.8756\n",
            "Epoch 15/20\n",
            "49/49 [==============================] - 2s 44ms/step - loss: 0.1745 - acc: 0.9485 - val_loss: 0.4324 - val_acc: 0.8752\n",
            "Epoch 16/20\n",
            "49/49 [==============================] - 2s 40ms/step - loss: 0.1648 - acc: 0.9509 - val_loss: 0.4306 - val_acc: 0.8711\n",
            "Epoch 17/20\n",
            "49/49 [==============================] - 2s 40ms/step - loss: 0.1607 - acc: 0.9536 - val_loss: 0.4481 - val_acc: 0.8712\n",
            "Epoch 18/20\n",
            "49/49 [==============================] - 2s 41ms/step - loss: 0.1539 - acc: 0.9544 - val_loss: 0.5036 - val_acc: 0.8734\n",
            "Epoch 19/20\n",
            "49/49 [==============================] - 2s 41ms/step - loss: 0.1417 - acc: 0.9597 - val_loss: 0.5221 - val_acc: 0.8719\n",
            "Epoch 20/20\n",
            "49/49 [==============================] - 2s 39ms/step - loss: 0.1371 - acc: 0.9604 - val_loss: 0.5183 - val_acc: 0.8735\n"
          ]
        }
      ],
      "source": [
        "dpt_model_hist = dpt_model.fit(x_train, y_train,\n",
        "                               epochs=20,\n",
        "                               batch_size=512,\n",
        "                               validation_data=(x_test, y_test))"
      ]
    },
    {
      "cell_type": "code",
      "source": [
        "dpt_model_hist.history.keys()"
      ],
      "metadata": {
        "colab": {
          "base_uri": "https://localhost:8080/"
        },
        "id": "fQ4KVjC7W7Ru",
        "outputId": "c2e82091-b962-44b3-8987-ad7e2e6d172b"
      },
      "execution_count": 10,
      "outputs": [
        {
          "output_type": "execute_result",
          "data": {
            "text/plain": [
              "dict_keys(['loss', 'acc', 'val_loss', 'val_acc'])"
            ]
          },
          "metadata": {},
          "execution_count": 10
        }
      ]
    },
    {
      "cell_type": "code",
      "execution_count": 11,
      "metadata": {
        "collapsed": true,
        "id": "qXiT-T5tPSXc"
      },
      "outputs": [],
      "source": [
        "epochs = range(1, 21)\n",
        "original_val_loss = original_hist.history['val_loss']\n",
        "dpt_model_val_loss = dpt_model_hist.history['val_loss']"
      ]
    },
    {
      "cell_type": "markdown",
      "metadata": {
        "id": "-vznQzWhPSXm"
      },
      "source": [
        "Let's plot the results:"
      ]
    },
    {
      "cell_type": "code",
      "execution_count": 12,
      "metadata": {
        "id": "0aNUCWs5PSXn",
        "colab": {
          "base_uri": "https://localhost:8080/",
          "height": 279
        },
        "outputId": "361bf234-03ce-4b79-f2ae-307f28f57db6"
      },
      "outputs": [
        {
          "output_type": "display_data",
          "data": {
            "text/plain": [
              "<Figure size 432x288 with 1 Axes>"
            ],
            "image/png": "[encoded data removed]"
          },
          "metadata": {
            "needs_background": "light"
          }
        }
      ],
      "source": [
        "\n",
        "import matplotlib.pyplot as plt\n",
        "plt.plot(epochs, original_val_loss, 'b+', label='Original model')\n",
        "plt.plot(epochs, dpt_model_val_loss, 'bo', label='Dropout-regularized model')\n",
        "plt.xlabel('Epochs')\n",
        "plt.ylabel('Validation loss')\n",
        "plt.legend()\n",
        "\n",
        "plt.show()"
      ]
    },
    {
      "cell_type": "markdown",
      "source": [
        "#The universal workflow of neural network learning\n",
        "1. Defining the problem and assembling a dataset\n",
        "2. Choosing a measure of success\n",
        "3. Deciding on an evaluation protocol\n",
        "4. Preparing your data\n",
        "5. Developing a model that does better than a baseline\n",
        "6. Scaling up: developing a model that overfits\n",
        "7. Regularizing your model and tuning your hyperparameters\n",
        "\n"
      ],
      "metadata": {
        "id": "m0cv3gOk9750"
      }
    }
  ],
  "metadata": {
    "kernelspec": {
      "display_name": "Python 3",
      "language": "python",
      "name": "python3"
    },
    "language_info": {
      "codemirror_mode": {
        "name": "ipython",
        "version": 3
      },
      "file_extension": ".py",
      "mimetype": "text/x-python",
      "name": "python",
      "nbconvert_exporter": "python",
      "pygments_lexer": "ipython3",
      "version": "3.5.2"
    },
    "colab": {
      "name": "5.1-Dropout.ipynb",
      "provenance": []
    }
  },
  "nbformat": 4,
  "nbformat_minor": 0
}