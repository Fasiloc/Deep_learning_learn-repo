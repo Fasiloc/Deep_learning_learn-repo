{
  "cells": [
    {
      "cell_type": "code",
      "execution_count": 3,
      "metadata": {
        "id": "KsFoTHDSPSXK",
        "colab": {
          "base_uri": "https://localhost:8080/",
          "height": 35
        },
        "outputId": "3f7eb479-0f86-4f11-81ec-52fcc19188fb"
      },
      "outputs": [
        {
          "output_type": "execute_result",
          "data": {
            "text/plain": [
              "'2.8.0'"
            ],
            "application/vnd.google.colaboratory.intrinsic+json": {
              "type": "string"
            }
          },
          "metadata": {},
          "execution_count": 3
        }
      ],
      "source": [
        "import keras\n",
        "keras.__version__"
      ]
    },
    {
      "cell_type": "code",
      "execution_count": 4,
      "metadata": {
        "collapsed": true,
        "id": "GGsDvmd-PSXU"
      },
      "outputs": [],
      "source": [
        "from keras.datasets import imdb\n",
        "import numpy as np\n",
        "\n",
        "(train_data, train_labels), (test_data, test_labels) = imdb.load_data(num_words=10000)\n",
        "\n",
        "def vectorize_sequences(sequences, dimension=10000):\n",
        "    # Create an all-zero matrix of shape (len(sequences), dimension)\n",
        "    results = np.zeros((len(sequences), dimension))\n",
        "    for i, sequence in enumerate(sequences):\n",
        "        results[i, sequence] = 1.  # set specific indices of results[i] to 1s\n",
        "    return results\n",
        "\n",
        "# Our vectorized training data\n",
        "x_train = vectorize_sequences(train_data)\n",
        "# Our vectorized test data\n",
        "x_test = vectorize_sequences(test_data)\n",
        "# Our vectorized labels\n",
        "y_train = np.asarray(train_labels).astype('float32')\n",
        "y_test = np.asarray(test_labels).astype('float32')"
      ]
    },
    {
      "cell_type": "code",
      "execution_count": 5,
      "metadata": {
        "collapsed": true,
        "id": "kkvuIF6sPSXX"
      },
      "outputs": [],
      "source": [
        "from keras import models\n",
        "from keras import layers\n",
        "\n",
        "original_model = models.Sequential()\n",
        "original_model.add(layers.Dense(16, activation='relu', input_shape=(10000,)))\n",
        "original_model.add(layers.Dense(16, activation='relu'))\n",
        "original_model.add(layers.Dense(1, activation='sigmoid'))\n",
        "\n",
        "original_model.compile(optimizer='rmsprop',\n",
        "                       loss='binary_crossentropy',\n",
        "                       metrics=['acc'])"
      ]
    },
    {
      "cell_type": "markdown",
      "metadata": {
        "id": "mdp4OrPmPSXY"
      },
      "source": [
        "Now let's try to replace it with this smaller network:"
      ]
    },
    {
      "cell_type": "code",
      "execution_count": 16,
      "metadata": {
        "collapsed": true,
        "id": "TUhPjQ9aPSXZ"
      },
      "outputs": [],
      "source": [
        "smaller_model = models.Sequential()\n",
        "smaller_model.add(layers.Dense(4, activation='relu', input_shape=(10000,)))\n",
        "smaller_model.add(layers.Dense(4, activation='relu'))\n",
        "smaller_model.add(layers.Dense(1, activation='sigmoid'))\n",
        "\n",
        "smaller_model.compile(optimizer='rmsprop',\n",
        "                      loss='binary_crossentropy',\n",
        "                      metrics=['acc'])"
      ]
    },
    {
      "cell_type": "markdown",
      "metadata": {
        "id": "jrCyIPYmPSXZ"
      },
      "source": [
        "\n",
        "Here's a comparison of the validation losses of the original network and the smaller network. The dots are the validation loss values of \n",
        "the smaller network, and the crosses are the initial network (remember: a lower validation loss signals a better model)."
      ]
    },
    {
      "cell_type": "code",
      "execution_count": 6,
      "metadata": {
        "id": "tEYr5Bj_PSXa",
        "colab": {
          "base_uri": "https://localhost:8080/"
        },
        "outputId": "30ae512b-c1f6-4681-ceb0-55faddf86d07"
      },
      "outputs": [
        {
          "output_type": "stream",
          "name": "stdout",
          "text": [
            "Epoch 1/20\n",
            "49/49 [==============================] - 4s 58ms/step - loss: 0.4528 - acc: 0.8269 - val_loss: 0.3361 - val_acc: 0.8819\n",
            "Epoch 2/20\n",
            "49/49 [==============================] - 2s 40ms/step - loss: 0.2609 - acc: 0.9086 - val_loss: 0.2843 - val_acc: 0.8884\n",
            "Epoch 3/20\n",
            "49/49 [==============================] - 2s 40ms/step - loss: 0.2001 - acc: 0.9280 - val_loss: 0.2933 - val_acc: 0.8803\n",
            "Epoch 4/20\n",
            "49/49 [==============================] - 2s 40ms/step - loss: 0.1663 - acc: 0.9408 - val_loss: 0.2998 - val_acc: 0.8814\n",
            "Epoch 5/20\n",
            "49/49 [==============================] - 2s 40ms/step - loss: 0.1400 - acc: 0.9516 - val_loss: 0.3235 - val_acc: 0.8764\n",
            "Epoch 6/20\n",
            "49/49 [==============================] - 2s 40ms/step - loss: 0.1215 - acc: 0.9594 - val_loss: 0.3455 - val_acc: 0.8720\n",
            "Epoch 7/20\n",
            "49/49 [==============================] - 2s 41ms/step - loss: 0.1040 - acc: 0.9642 - val_loss: 0.3935 - val_acc: 0.8616\n",
            "Epoch 8/20\n",
            "49/49 [==============================] - 2s 41ms/step - loss: 0.0896 - acc: 0.9710 - val_loss: 0.4213 - val_acc: 0.8599\n",
            "Epoch 9/20\n",
            "49/49 [==============================] - 2s 40ms/step - loss: 0.0756 - acc: 0.9759 - val_loss: 0.4709 - val_acc: 0.8571\n",
            "Epoch 10/20\n",
            "49/49 [==============================] - 2s 41ms/step - loss: 0.0649 - acc: 0.9809 - val_loss: 0.4627 - val_acc: 0.8586\n",
            "Epoch 11/20\n",
            "49/49 [==============================] - 2s 42ms/step - loss: 0.0557 - acc: 0.9835 - val_loss: 0.4858 - val_acc: 0.8630\n",
            "Epoch 12/20\n",
            "49/49 [==============================] - 2s 42ms/step - loss: 0.0454 - acc: 0.9880 - val_loss: 0.5186 - val_acc: 0.8574\n",
            "Epoch 13/20\n",
            "49/49 [==============================] - 2s 40ms/step - loss: 0.0371 - acc: 0.9898 - val_loss: 0.5524 - val_acc: 0.8574\n",
            "Epoch 14/20\n",
            "49/49 [==============================] - 2s 41ms/step - loss: 0.0325 - acc: 0.9915 - val_loss: 0.5824 - val_acc: 0.8573\n",
            "Epoch 15/20\n",
            "49/49 [==============================] - 2s 41ms/step - loss: 0.0264 - acc: 0.9933 - val_loss: 0.6241 - val_acc: 0.8556\n",
            "Epoch 16/20\n",
            "49/49 [==============================] - 2s 41ms/step - loss: 0.0201 - acc: 0.9953 - val_loss: 0.6668 - val_acc: 0.8546\n",
            "Epoch 17/20\n",
            "49/49 [==============================] - 2s 40ms/step - loss: 0.0171 - acc: 0.9962 - val_loss: 0.7194 - val_acc: 0.8544\n",
            "Epoch 18/20\n",
            "49/49 [==============================] - 2s 43ms/step - loss: 0.0128 - acc: 0.9974 - val_loss: 0.7555 - val_acc: 0.8530\n",
            "Epoch 19/20\n",
            "49/49 [==============================] - 2s 41ms/step - loss: 0.0111 - acc: 0.9973 - val_loss: 0.9120 - val_acc: 0.8380\n",
            "Epoch 20/20\n",
            "49/49 [==============================] - 2s 41ms/step - loss: 0.0096 - acc: 0.9981 - val_loss: 0.8417 - val_acc: 0.8506\n"
          ]
        }
      ],
      "source": [
        "original_hist = original_model.fit(x_train, y_train,\n",
        "                                   epochs=20,\n",
        "                                   batch_size=512,\n",
        "                                   validation_data=(x_test, y_test))"
      ]
    },
    {
      "cell_type": "code",
      "execution_count": 17,
      "metadata": {
        "id": "pIRPfLaaPSXb",
        "colab": {
          "base_uri": "https://localhost:8080/"
        },
        "outputId": "1a88f3e7-bb50-4f51-b359-b37ecb9a09bf"
      },
      "outputs": [
        {
          "output_type": "stream",
          "name": "stdout",
          "text": [
            "Epoch 1/20\n",
            "49/49 [==============================] - 4s 64ms/step - loss: 0.5285 - acc: 0.8073 - val_loss: 0.4225 - val_acc: 0.8637\n",
            "Epoch 2/20\n",
            "49/49 [==============================] - 2s 40ms/step - loss: 0.3331 - acc: 0.8970 - val_loss: 0.3265 - val_acc: 0.8840\n",
            "Epoch 3/20\n",
            "49/49 [==============================] - 2s 37ms/step - loss: 0.2544 - acc: 0.9174 - val_loss: 0.2938 - val_acc: 0.8893\n",
            "Epoch 4/20\n",
            "49/49 [==============================] - 2s 38ms/step - loss: 0.2136 - acc: 0.9294 - val_loss: 0.2865 - val_acc: 0.8868\n",
            "Epoch 5/20\n",
            "49/49 [==============================] - 2s 38ms/step - loss: 0.1873 - acc: 0.9376 - val_loss: 0.2822 - val_acc: 0.8874\n",
            "Epoch 6/20\n",
            "49/49 [==============================] - 2s 37ms/step - loss: 0.1683 - acc: 0.9444 - val_loss: 0.2841 - val_acc: 0.8870\n",
            "Epoch 7/20\n",
            "49/49 [==============================] - 2s 38ms/step - loss: 0.1522 - acc: 0.9497 - val_loss: 0.2991 - val_acc: 0.8811\n",
            "Epoch 8/20\n",
            "49/49 [==============================] - 2s 41ms/step - loss: 0.1395 - acc: 0.9543 - val_loss: 0.2988 - val_acc: 0.8820\n",
            "Epoch 9/20\n",
            "49/49 [==============================] - 2s 39ms/step - loss: 0.1287 - acc: 0.9582 - val_loss: 0.3137 - val_acc: 0.8786\n",
            "Epoch 10/20\n",
            "49/49 [==============================] - 2s 40ms/step - loss: 0.1193 - acc: 0.9615 - val_loss: 0.3204 - val_acc: 0.8782\n",
            "Epoch 11/20\n",
            "49/49 [==============================] - 2s 37ms/step - loss: 0.1108 - acc: 0.9650 - val_loss: 0.3388 - val_acc: 0.8749\n",
            "Epoch 12/20\n",
            "49/49 [==============================] - 2s 37ms/step - loss: 0.1028 - acc: 0.9680 - val_loss: 0.3476 - val_acc: 0.8740\n",
            "Epoch 13/20\n",
            "49/49 [==============================] - 2s 39ms/step - loss: 0.0960 - acc: 0.9704 - val_loss: 0.3602 - val_acc: 0.8717\n",
            "Epoch 14/20\n",
            "49/49 [==============================] - 2s 38ms/step - loss: 0.0896 - acc: 0.9720 - val_loss: 0.3785 - val_acc: 0.8685\n",
            "Epoch 15/20\n",
            "49/49 [==============================] - 2s 40ms/step - loss: 0.0833 - acc: 0.9754 - val_loss: 0.3892 - val_acc: 0.8681\n",
            "Epoch 16/20\n",
            "49/49 [==============================] - 2s 40ms/step - loss: 0.0780 - acc: 0.9774 - val_loss: 0.4089 - val_acc: 0.8668\n",
            "Epoch 17/20\n",
            "49/49 [==============================] - 2s 38ms/step - loss: 0.0727 - acc: 0.9791 - val_loss: 0.4223 - val_acc: 0.8647\n",
            "Epoch 18/20\n",
            "49/49 [==============================] - 2s 38ms/step - loss: 0.0679 - acc: 0.9808 - val_loss: 0.4390 - val_acc: 0.8633\n",
            "Epoch 19/20\n",
            "49/49 [==============================] - 2s 38ms/step - loss: 0.0635 - acc: 0.9822 - val_loss: 0.4574 - val_acc: 0.8630\n",
            "Epoch 20/20\n",
            "49/49 [==============================] - 2s 39ms/step - loss: 0.0589 - acc: 0.9842 - val_loss: 0.4765 - val_acc: 0.8595\n"
          ]
        }
      ],
      "source": [
        "smaller_model_hist = smaller_model.fit(x_train, y_train,\n",
        "                                       epochs=20,\n",
        "                                       batch_size=512,\n",
        "                                       validation_data=(x_test, y_test))"
      ]
    },
    {
      "cell_type": "code",
      "source": [
        "original_hist.history.keys()"
      ],
      "metadata": {
        "id": "3CVIlKVwR5Tu",
        "colab": {
          "base_uri": "https://localhost:8080/"
        },
        "outputId": "27124d57-b5eb-4421-f4eb-e054cbb8161f"
      },
      "execution_count": 12,
      "outputs": [
        {
          "output_type": "execute_result",
          "data": {
            "text/plain": [
              "dict_keys(['loss', 'acc', 'val_loss', 'val_acc'])"
            ]
          },
          "metadata": {},
          "execution_count": 12
        }
      ]
    },
    {
      "cell_type": "code",
      "source": [
        "smaller_model_hist.history.keys()"
      ],
      "metadata": {
        "id": "_g89yhccSEPD"
      },
      "execution_count": null,
      "outputs": []
    },
    {
      "cell_type": "code",
      "execution_count": 25,
      "metadata": {
        "collapsed": true,
        "id": "qXiT-T5tPSXc"
      },
      "outputs": [],
      "source": [
        "epochs = range(1, 21)\n",
        "original_val_loss = original_hist.history['val_loss']\n",
        "smaller_model_val_loss = smaller_model_hist.history['val_loss']"
      ]
    },
    {
      "cell_type": "code",
      "execution_count": 26,
      "metadata": {
        "id": "TucQCP08PSXc",
        "colab": {
          "base_uri": "https://localhost:8080/",
          "height": 279
        },
        "outputId": "371fc626-9005-406b-d5ce-2e50f699c363"
      },
      "outputs": [
        {
          "output_type": "display_data",
          "data": {
            "text/plain": [
              "<Figure size 432x288 with 1 Axes>"
            ],
            "image/png": "[encoded data removed]"
          },
          "metadata": {
            "needs_background": "light"
          }
        }
      ],
      "source": [
        "import matplotlib.pyplot as plt\n",
        "\n",
        "# b+ is for \"blue cross\"\n",
        "plt.plot(epochs, original_val_loss, 'b+', label='Original model')\n",
        "# \"bo\" is for \"blue dot\"\n",
        "plt.plot(epochs, smaller_model_val_loss, 'bo', label='Smaller model')\n",
        "plt.xlabel('Epochs')\n",
        "plt.ylabel('Validation loss')\n",
        "plt.legend()\n",
        "\n",
        "plt.show()"
      ]
    },
    {
      "cell_type": "markdown",
      "source": [
        ""
      ],
      "metadata": {
        "id": "cwFd-_OmUZu-"
      }
    },
    {
      "cell_type": "markdown",
      "source": [
        "#Define a bigger model and compare it with orginal model"
      ],
      "metadata": {
        "id": "ukCaJiZCUbMs"
      }
    },
    {
      "cell_type": "code",
      "execution_count": 18,
      "metadata": {
        "collapsed": true,
        "id": "ZAJpSrJZPSXd"
      },
      "outputs": [],
      "source": [
        "bigger_model = models.Sequential()\n",
        "bigger_model.add(layers.Dense(512, activation='relu', input_shape=(10000,)))\n",
        "bigger_model.add(layers.Dense(512, activation='relu'))\n",
        "bigger_model.add(layers.Dense(1, activation='sigmoid'))\n",
        "\n",
        "bigger_model.compile(optimizer='rmsprop',\n",
        "                     loss='binary_crossentropy',\n",
        "                     metrics=['acc'])"
      ]
    },
    {
      "cell_type": "code",
      "execution_count": 19,
      "metadata": {
        "id": "9_gVAojZPSXe",
        "colab": {
          "base_uri": "https://localhost:8080/"
        },
        "outputId": "ca1d4854-2d71-4c52-e38c-26b5552827e2"
      },
      "outputs": [
        {
          "output_type": "stream",
          "name": "stdout",
          "text": [
            "Epoch 1/20\n",
            "49/49 [==============================] - 19s 378ms/step - loss: 0.4567 - acc: 0.8071 - val_loss: 0.4519 - val_acc: 0.8046\n",
            "Epoch 2/20\n",
            "49/49 [==============================] - 17s 340ms/step - loss: 0.2288 - acc: 0.9086 - val_loss: 0.2747 - val_acc: 0.8878\n",
            "Epoch 3/20\n",
            "49/49 [==============================] - 16s 338ms/step - loss: 0.1310 - acc: 0.9506 - val_loss: 0.3495 - val_acc: 0.8771\n",
            "Epoch 4/20\n",
            "49/49 [==============================] - 17s 339ms/step - loss: 0.0657 - acc: 0.9787 - val_loss: 0.5338 - val_acc: 0.8263\n",
            "Epoch 5/20\n",
            "49/49 [==============================] - 16s 335ms/step - loss: 0.0647 - acc: 0.9869 - val_loss: 0.4727 - val_acc: 0.8827\n",
            "Epoch 6/20\n",
            "49/49 [==============================] - 16s 336ms/step - loss: 0.0382 - acc: 0.9907 - val_loss: 0.4773 - val_acc: 0.8817\n",
            "Epoch 7/20\n",
            "49/49 [==============================] - 17s 340ms/step - loss: 0.0013 - acc: 0.9999 - val_loss: 0.7597 - val_acc: 0.8813\n",
            "Epoch 8/20\n",
            "49/49 [==============================] - 17s 340ms/step - loss: 0.1111 - acc: 0.9877 - val_loss: 0.6207 - val_acc: 0.8797\n",
            "Epoch 9/20\n",
            "49/49 [==============================] - 16s 338ms/step - loss: 3.5933e-04 - acc: 1.0000 - val_loss: 0.7874 - val_acc: 0.8799\n",
            "Epoch 10/20\n",
            "49/49 [==============================] - 16s 337ms/step - loss: 6.1929e-05 - acc: 1.0000 - val_loss: 0.9368 - val_acc: 0.8796\n",
            "Epoch 11/20\n",
            "49/49 [==============================] - 16s 337ms/step - loss: 8.4078e-05 - acc: 1.0000 - val_loss: 5.7291 - val_acc: 0.6462\n",
            "Epoch 12/20\n",
            "49/49 [==============================] - 16s 336ms/step - loss: 0.1037 - acc: 0.9900 - val_loss: 0.8035 - val_acc: 0.8740\n",
            "Epoch 13/20\n",
            "49/49 [==============================] - 16s 337ms/step - loss: 5.9623e-05 - acc: 1.0000 - val_loss: 0.9232 - val_acc: 0.8759\n",
            "Epoch 14/20\n",
            "49/49 [==============================] - 16s 338ms/step - loss: 7.8948e-06 - acc: 1.0000 - val_loss: 1.0855 - val_acc: 0.8769\n",
            "Epoch 15/20\n",
            "49/49 [==============================] - 16s 337ms/step - loss: 1.2868e-06 - acc: 1.0000 - val_loss: 1.2574 - val_acc: 0.8768\n",
            "Epoch 16/20\n",
            "49/49 [==============================] - 16s 335ms/step - loss: 2.3203e-07 - acc: 1.0000 - val_loss: 1.3886 - val_acc: 0.8776\n",
            "Epoch 17/20\n",
            "49/49 [==============================] - 16s 337ms/step - loss: 5.3122e-08 - acc: 1.0000 - val_loss: 1.4939 - val_acc: 0.8776\n",
            "Epoch 18/20\n",
            "49/49 [==============================] - 17s 340ms/step - loss: 2.1469e-08 - acc: 1.0000 - val_loss: 1.5557 - val_acc: 0.8775\n",
            "Epoch 19/20\n",
            "49/49 [==============================] - 16s 336ms/step - loss: 1.3090e-08 - acc: 1.0000 - val_loss: 1.5914 - val_acc: 0.8774\n",
            "Epoch 20/20\n",
            "49/49 [==============================] - 16s 334ms/step - loss: 9.4490e-09 - acc: 1.0000 - val_loss: 1.6161 - val_acc: 0.8773\n"
          ]
        }
      ],
      "source": [
        "bigger_model_hist = bigger_model.fit(x_train, y_train,\n",
        "                                     epochs=20,\n",
        "                                     batch_size=512,\n",
        "                                     validation_data=(x_test, y_test))"
      ]
    },
    {
      "cell_type": "code",
      "execution_count": 27,
      "metadata": {
        "id": "dlfh1EZjPSXf",
        "colab": {
          "base_uri": "https://localhost:8080/",
          "height": 283
        },
        "outputId": "a4e14a9a-795e-4ab9-de72-d8ddbb43a9e0"
      },
      "outputs": [
        {
          "output_type": "display_data",
          "data": {
            "text/plain": [
              "<Figure size 432x288 with 1 Axes>"
            ],
            "image/png": "[encoded data removed]"
          },
          "metadata": {
            "needs_background": "light"
          }
        }
      ],
      "source": [
        "bigger_model_val_loss = bigger_model_hist.history['val_loss']\n",
        "\n",
        "plt.plot(epochs, original_val_loss, 'b+', label='Original model')\n",
        "plt.plot(epochs, bigger_model_val_loss, 'bo', label='Bigger model')\n",
        "plt.xlabel('Epochs')\n",
        "plt.ylabel('Validation loss')\n",
        "plt.legend()\n",
        "\n",
        "plt.show()"
      ]
    },
    {
      "cell_type": "code",
      "execution_count": 28,
      "metadata": {
        "id": "BU0FeEjhPSXf",
        "colab": {
          "base_uri": "https://localhost:8080/",
          "height": 279
        },
        "outputId": "643705f2-82d7-4bf9-c184-1f8276698ae8"
      },
      "outputs": [
        {
          "output_type": "display_data",
          "data": {
            "text/plain": [
              "<Figure size 432x288 with 1 Axes>"
            ],
            "image/png": "[encoded data removed]"
          },
          "metadata": {
            "needs_background": "light"
          }
        }
      ],
      "source": [
        "original_train_loss = original_hist.history['loss']\n",
        "bigger_model_train_loss = bigger_model_hist.history['loss']\n",
        "\n",
        "plt.plot(epochs, original_train_loss, 'b+', label='Original model')\n",
        "plt.plot(epochs, bigger_model_train_loss, 'bo', label='Bigger model')\n",
        "plt.xlabel('Epochs')\n",
        "plt.ylabel('Training loss')\n",
        "plt.legend()\n",
        "\n",
        "plt.show()"
      ]
    },
    {
      "cell_type": "code",
      "execution_count": 2,
      "metadata": {
        "collapsed": true,
        "id": "EEmzJMm3PSXh",
        "colab": {
          "base_uri": "https://localhost:8080/",
          "height": 235
        },
        "outputId": "7dc04c26-0916-455d-cc0e-243724b57b39"
      },
      "outputs": [
        {
          "output_type": "error",
          "ename": "NameError",
          "evalue": "ignored",
          "traceback": [
            "\u001b[0;31m---------------------------------------------------------------------------\u001b[0m",
            "\u001b[0;31mNameError\u001b[0m                                 Traceback (most recent call last)",
            "\u001b[0;32m<ipython-input-2-177f4dd984f6>\u001b[0m in \u001b[0;36m<module>\u001b[0;34m()\u001b[0m\n\u001b[1;32m      1\u001b[0m \u001b[0;32mfrom\u001b[0m \u001b[0mkeras\u001b[0m \u001b[0;32mimport\u001b[0m \u001b[0mregularizers\u001b[0m\u001b[0;34m\u001b[0m\u001b[0;34m\u001b[0m\u001b[0m\n\u001b[1;32m      2\u001b[0m \u001b[0;34m\u001b[0m\u001b[0m\n\u001b[0;32m----> 3\u001b[0;31m \u001b[0ml2_model\u001b[0m \u001b[0;34m=\u001b[0m \u001b[0mmodels\u001b[0m\u001b[0;34m.\u001b[0m\u001b[0mSequential\u001b[0m\u001b[0;34m(\u001b[0m\u001b[0;34m)\u001b[0m\u001b[0;34m\u001b[0m\u001b[0;34m\u001b[0m\u001b[0m\n\u001b[0m\u001b[1;32m      4\u001b[0m l2_model.add(layers.Dense(16, kernel_regularizer=regularizers.l2(0.001),\n\u001b[1;32m      5\u001b[0m                           activation='relu', input_shape=(10000,)))\n",
            "\u001b[0;31mNameError\u001b[0m: name 'models' is not defined"
          ]
        }
      ],
      "source": [
        "from keras import regularizers\n",
        "\n",
        "l2_model = models.Sequential()\n",
        "l2_model.add(layers.Dense(16, kernel_regularizer=regularizers.l2(0.001),\n",
        "                          activation='relu', input_shape=(10000,)))\n",
        "l2_model.add(layers.Dense(16, kernel_regularizer=regularizers.l2(0.001),\n",
        "                          activation='relu'))\n",
        "l2_model.add(layers.Dense(1, activation='sigmoid'))"
      ]
    },
    {
      "cell_type": "code",
      "execution_count": 30,
      "metadata": {
        "collapsed": true,
        "id": "-j0KAENPPSXh"
      },
      "outputs": [],
      "source": [
        "l2_model.compile(optimizer='rmsprop',\n",
        "                 loss='binary_crossentropy',\n",
        "                 metrics=['acc'])"
      ]
    },
    {
      "cell_type": "code",
      "execution_count": 1,
      "metadata": {
        "id": "3BQDKDvePSXi",
        "colab": {
          "base_uri": "https://localhost:8080/",
          "height": 217
        },
        "outputId": "7c0a64aa-94af-4313-e7d1-4ba2d77ee590"
      },
      "outputs": [
        {
          "output_type": "error",
          "ename": "NameError",
          "evalue": "ignored",
          "traceback": [
            "\u001b[0;31m---------------------------------------------------------------------------\u001b[0m",
            "\u001b[0;31mNameError\u001b[0m                                 Traceback (most recent call last)",
            "\u001b[0;32m<ipython-input-1-a53b11ff6b56>\u001b[0m in \u001b[0;36m<module>\u001b[0;34m()\u001b[0m\n\u001b[0;32m----> 1\u001b[0;31m l2_model_hist = l2_model.fit(x_train, y_train,\n\u001b[0m\u001b[1;32m      2\u001b[0m                              \u001b[0mepochs\u001b[0m\u001b[0;34m=\u001b[0m\u001b[0;36m20\u001b[0m\u001b[0;34m,\u001b[0m\u001b[0;34m\u001b[0m\u001b[0;34m\u001b[0m\u001b[0m\n\u001b[1;32m      3\u001b[0m                              \u001b[0mbatch_size\u001b[0m\u001b[0;34m=\u001b[0m\u001b[0;36m512\u001b[0m\u001b[0;34m,\u001b[0m\u001b[0;34m\u001b[0m\u001b[0;34m\u001b[0m\u001b[0m\n\u001b[1;32m      4\u001b[0m                              validation_data=(x_test, y_test))\n",
            "\u001b[0;31mNameError\u001b[0m: name 'l2_model' is not defined"
          ]
        }
      ],
      "source": [
        "l2_model_hist = l2_model.fit(x_train, y_train,\n",
        "                             epochs=20,\n",
        "                             batch_size=512,\n",
        "                             validation_data=(x_test, y_test))"
      ]
    },
    {
      "cell_type": "code",
      "execution_count": null,
      "metadata": {
        "id": "GC4B7or_PSXi"
      },
      "outputs": [],
      "source": [
        "l2_model_val_loss = l2_model_hist.history['val_loss']\n",
        "\n",
        "plt.plot(epochs, original_val_loss, 'b+', label='Original model')\n",
        "plt.plot(epochs, l2_model_val_loss, 'bo', label='L2-regularized model')\n",
        "plt.xlabel('Epochs')\n",
        "plt.ylabel('Validation loss')\n",
        "plt.legend()\n",
        "\n",
        "plt.show()"
      ]
    },
    {
      "cell_type": "code",
      "execution_count": 1,
      "metadata": {
        "id": "4Xlv_5sjPSXj",
        "colab": {
          "base_uri": "https://localhost:8080/"
        },
        "outputId": "13c5590c-8ba2-424e-8799-d7c13b48b8d2"
      },
      "outputs": [
        {
          "output_type": "execute_result",
          "data": {
            "text/plain": [
              "<keras.regularizers.L1L2 at 0x7f13a4d95550>"
            ]
          },
          "metadata": {},
          "execution_count": 1
        }
      ],
      "source": [
        "from keras import regularizers\n",
        "\n",
        "# L1 regularization\n",
        "regularizers.l1(0.001)\n",
        "\n",
        "# L1 and L2 regularization at the same time\n",
        "regularizers.l1_l2(l1=0.001, l2=0.001)"
      ]
    },
    {
      "cell_type": "code",
      "execution_count": 7,
      "metadata": {
        "collapsed": true,
        "id": "nhRXyjGUPSXm"
      },
      "outputs": [],
      "source": [
        "dpt_model = models.Sequential()\n",
        "dpt_model.add(layers.Dense(16, activation='relu', input_shape=(10000,)))\n",
        "dpt_model.add(layers.Dropout(0.5))\n",
        "dpt_model.add(layers.Dense(16, activation='relu'))\n",
        "dpt_model.add(layers.Dropout(0.5))\n",
        "dpt_model.add(layers.Dense(1, activation='sigmoid'))\n",
        "\n",
        "dpt_model.compile(optimizer='rmsprop',\n",
        "                  loss='binary_crossentropy',\n",
        "                  metrics=['acc'])"
      ]
    },
    {
      "cell_type": "markdown",
      "source": [
        "given layer would normally return a vector [0.2, 0.5, 1.3, 0.8, 1.1]\n"
      ],
      "metadata": {
        "id": "FpvZYjjeVMMX"
      }
    },
    {
      "cell_type": "markdown",
      "source": [
        "After applying dropout, this vector will have a few zero entries\n",
        "distributed at random: \n",
        "for example, [0, 0.5, 1.3, 0, 1.1]."
      ],
      "metadata": {
        "id": "gZ-d_yySVW9F"
      }
    },
    {
      "cell_type": "code",
      "execution_count": 8,
      "metadata": {
        "id": "vzrlSYQRPSXm",
        "colab": {
          "base_uri": "https://localhost:8080/"
        },
        "outputId": "84a51bbe-2747-4b06-ee53-9b1222011f7c"
      },
      "outputs": [
        {
          "output_type": "stream",
          "name": "stdout",
          "text": [
            "Epoch 1/20\n",
            "49/49 [==============================] - 4s 57ms/step - loss: 0.6152 - acc: 0.6615 - val_loss: 0.4789 - val_acc: 0.8475\n",
            "Epoch 2/20\n",
            "49/49 [==============================] - 2s 40ms/step - loss: 0.4608 - acc: 0.8064 - val_loss: 0.3450 - val_acc: 0.8818\n",
            "Epoch 3/20\n",
            "49/49 [==============================] - 2s 41ms/step - loss: 0.3616 - acc: 0.8667 - val_loss: 0.2954 - val_acc: 0.8865\n",
            "Epoch 4/20\n",
            "49/49 [==============================] - 2s 39ms/step - loss: 0.2968 - acc: 0.8968 - val_loss: 0.2788 - val_acc: 0.8884\n",
            "Epoch 5/20\n",
            "49/49 [==============================] - 3s 52ms/step - loss: 0.2554 - acc: 0.9135 - val_loss: 0.2783 - val_acc: 0.8886\n",
            "Epoch 6/20\n",
            "49/49 [==============================] - 2s 41ms/step - loss: 0.2257 - acc: 0.9230 - val_loss: 0.2888 - val_acc: 0.8876\n",
            "Epoch 7/20\n",
            "49/49 [==============================] - 2s 43ms/step - loss: 0.2015 - acc: 0.9351 - val_loss: 0.3208 - val_acc: 0.8808\n",
            "Epoch 8/20\n",
            "49/49 [==============================] - 2s 40ms/step - loss: 0.1797 - acc: 0.9407 - val_loss: 0.3260 - val_acc: 0.8851\n",
            "Epoch 9/20\n",
            "49/49 [==============================] - 2s 39ms/step - loss: 0.1680 - acc: 0.9459 - val_loss: 0.3415 - val_acc: 0.8815\n",
            "Epoch 10/20\n",
            "49/49 [==============================] - 2s 41ms/step - loss: 0.1522 - acc: 0.9506 - val_loss: 0.3704 - val_acc: 0.8812\n",
            "Epoch 11/20\n",
            "49/49 [==============================] - 2s 40ms/step - loss: 0.1428 - acc: 0.9558 - val_loss: 0.3888 - val_acc: 0.8810\n",
            "Epoch 12/20\n",
            "49/49 [==============================] - 2s 41ms/step - loss: 0.1354 - acc: 0.9581 - val_loss: 0.4137 - val_acc: 0.8792\n",
            "Epoch 13/20\n",
            "49/49 [==============================] - 2s 41ms/step - loss: 0.1240 - acc: 0.9610 - val_loss: 0.4391 - val_acc: 0.8765\n",
            "Epoch 14/20\n",
            "49/49 [==============================] - 2s 42ms/step - loss: 0.1206 - acc: 0.9618 - val_loss: 0.4720 - val_acc: 0.8766\n",
            "Epoch 15/20\n",
            "49/49 [==============================] - 2s 40ms/step - loss: 0.1114 - acc: 0.9648 - val_loss: 0.5008 - val_acc: 0.8762\n",
            "Epoch 16/20\n",
            "49/49 [==============================] - 2s 40ms/step - loss: 0.1170 - acc: 0.9637 - val_loss: 0.5098 - val_acc: 0.8742\n",
            "Epoch 17/20\n",
            "49/49 [==============================] - 2s 41ms/step - loss: 0.1075 - acc: 0.9653 - val_loss: 0.5247 - val_acc: 0.8748\n",
            "Epoch 18/20\n",
            "49/49 [==============================] - 2s 41ms/step - loss: 0.1038 - acc: 0.9687 - val_loss: 0.5668 - val_acc: 0.8741\n",
            "Epoch 19/20\n",
            "49/49 [==============================] - 2s 40ms/step - loss: 0.1002 - acc: 0.9687 - val_loss: 0.5807 - val_acc: 0.8730\n",
            "Epoch 20/20\n",
            "49/49 [==============================] - 2s 40ms/step - loss: 0.1011 - acc: 0.9706 - val_loss: 0.6061 - val_acc: 0.8711\n"
          ]
        }
      ],
      "source": [
        "dpt_model_hist = dpt_model.fit(x_train, y_train,\n",
        "                               epochs=20,\n",
        "                               batch_size=512,\n",
        "                               validation_data=(x_test, y_test))"
      ]
    },
    {
      "cell_type": "code",
      "source": [
        "dpt_model_hist.history.keys()"
      ],
      "metadata": {
        "colab": {
          "base_uri": "https://localhost:8080/"
        },
        "id": "fQ4KVjC7W7Ru",
        "outputId": "43ea1158-03ac-4dbd-a51e-feff36db6e39"
      },
      "execution_count": 10,
      "outputs": [
        {
          "output_type": "execute_result",
          "data": {
            "text/plain": [
              "dict_keys(['loss', 'acc', 'val_loss', 'val_acc'])"
            ]
          },
          "metadata": {},
          "execution_count": 10
        }
      ]
    },
    {
      "cell_type": "markdown",
      "metadata": {
        "id": "-vznQzWhPSXm"
      },
      "source": [
        "Let's plot the results:"
      ]
    },
    {
      "cell_type": "code",
      "execution_count": 14,
      "metadata": {
        "id": "0aNUCWs5PSXn",
        "colab": {
          "base_uri": "https://localhost:8080/",
          "height": 235
        },
        "outputId": "491db1ed-b96f-4e11-9214-eb88e153d02e"
      },
      "outputs": [
        {
          "output_type": "error",
          "ename": "NameError",
          "evalue": "ignored",
          "traceback": [
            "\u001b[0;31m---------------------------------------------------------------------------\u001b[0m",
            "\u001b[0;31mNameError\u001b[0m                                 Traceback (most recent call last)",
            "\u001b[0;32m<ipython-input-14-3b497f57000a>\u001b[0m in \u001b[0;36m<module>\u001b[0;34m()\u001b[0m\n\u001b[1;32m      1\u001b[0m \u001b[0mdpt_model_val_loss\u001b[0m \u001b[0;34m=\u001b[0m \u001b[0mdpt_model_hist\u001b[0m\u001b[0;34m.\u001b[0m\u001b[0mhistory\u001b[0m\u001b[0;34m[\u001b[0m\u001b[0;34m'val_loss'\u001b[0m\u001b[0;34m]\u001b[0m\u001b[0;34m\u001b[0m\u001b[0;34m\u001b[0m\u001b[0m\n\u001b[1;32m      2\u001b[0m \u001b[0;34m\u001b[0m\u001b[0m\n\u001b[0;32m----> 3\u001b[0;31m \u001b[0mplt\u001b[0m\u001b[0;34m.\u001b[0m\u001b[0mplot\u001b[0m\u001b[0;34m(\u001b[0m\u001b[0mepochs\u001b[0m\u001b[0;34m,\u001b[0m \u001b[0moriginal_val_loss\u001b[0m\u001b[0;34m,\u001b[0m \u001b[0;34m'b+'\u001b[0m\u001b[0;34m,\u001b[0m \u001b[0mlabel\u001b[0m\u001b[0;34m=\u001b[0m\u001b[0;34m'Original model'\u001b[0m\u001b[0;34m)\u001b[0m\u001b[0;34m\u001b[0m\u001b[0;34m\u001b[0m\u001b[0m\n\u001b[0m\u001b[1;32m      4\u001b[0m \u001b[0mplt\u001b[0m\u001b[0;34m.\u001b[0m\u001b[0mplot\u001b[0m\u001b[0;34m(\u001b[0m\u001b[0mepochs\u001b[0m\u001b[0;34m,\u001b[0m \u001b[0mdpt_model_val_loss\u001b[0m\u001b[0;34m,\u001b[0m \u001b[0;34m'bo'\u001b[0m\u001b[0;34m,\u001b[0m \u001b[0mlabel\u001b[0m\u001b[0;34m=\u001b[0m\u001b[0;34m'Dropout-regularized model'\u001b[0m\u001b[0;34m)\u001b[0m\u001b[0;34m\u001b[0m\u001b[0;34m\u001b[0m\u001b[0m\n\u001b[1;32m      5\u001b[0m \u001b[0mplt\u001b[0m\u001b[0;34m.\u001b[0m\u001b[0mxlabel\u001b[0m\u001b[0;34m(\u001b[0m\u001b[0;34m'Epochs'\u001b[0m\u001b[0;34m)\u001b[0m\u001b[0;34m\u001b[0m\u001b[0;34m\u001b[0m\u001b[0m\n",
            "\u001b[0;31mNameError\u001b[0m: name 'plt' is not defined"
          ]
        }
      ],
      "source": [
        "dpt_model_val_loss = dpt_model_hist.history['val_loss']\n",
        "\n",
        "plt.plot(epochs, original_val_loss, 'b+', label='Original model')\n",
        "plt.plot(epochs, dpt_model_val_loss, 'bo', label='Dropout-regularized model')\n",
        "plt.xlabel('Epochs')\n",
        "plt.ylabel('Validation loss')\n",
        "plt.legend()\n",
        "\n",
        "plt.show()"
      ]
    },
    {
      "cell_type": "markdown",
      "source": [
        "#The universal workflow of neural network learning\n",
        "1. Defining the problem and assembling a dataset\n",
        "2. Choosing a measure of success\n",
        "3. Deciding on an evaluation protocol\n",
        "4. Preparing your data\n",
        "5. Developing a model that does better than a baseline\n",
        "6. Scaling up: developing a model that overfits\n",
        "7. Regularizing your model and tuning your hyperparameters\n",
        "\n"
      ],
      "metadata": {
        "id": "m0cv3gOk9750"
      }
    }
  ],
  "metadata": {
    "kernelspec": {
      "display_name": "Python 3",
      "language": "python",
      "name": "python3"
    },
    "language_info": {
      "codemirror_mode": {
        "name": "ipython",
        "version": 3
      },
      "file_extension": ".py",
      "mimetype": "text/x-python",
      "name": "python",
      "nbconvert_exporter": "python",
      "pygments_lexer": "ipython3",
      "version": "3.5.2"
    },
    "colab": {
      "name": "5-overfitting-and-underfitting.ipynb",
      "provenance": []
    }
  },
  "nbformat": 4,
  "nbformat_minor": 0
}