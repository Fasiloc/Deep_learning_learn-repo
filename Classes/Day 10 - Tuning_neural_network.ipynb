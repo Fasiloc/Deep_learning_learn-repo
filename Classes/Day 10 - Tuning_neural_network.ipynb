{
  "nbformat": 4,
  "nbformat_minor": 0,
  "metadata": {
    "colab": {
      "name": "Tuning neural network",
      "provenance": [],
      "collapsed_sections": []
    },
    "kernelspec": {
      "display_name": "Python 3",
      "language": "python",
      "name": "python3"
    },
    "language_info": {
      "codemirror_mode": {
        "name": "ipython",
        "version": 3
      },
      "file_extension": ".py",
      "mimetype": "text/x-python",
      "name": "python",
      "nbconvert_exporter": "python",
      "pygments_lexer": "ipython3",
      "version": "3.7.5rc1"
    },
    "accelerator": "GPU"
  },
  "cells": [
    {
      "cell_type": "markdown",
      "source": [
        ""
      ],
      "metadata": {
        "id": "M5UcslD-VqWh"
      }
    },
    {
      "cell_type": "code",
      "metadata": {
        "id": "q3KzJyjv3rnA",
        "colab": {
          "base_uri": "https://localhost:8080/"
        },
        "outputId": "01bb04a4-5a7d-460a-a8a2-49548b242630"
      },
      "source": [
        "import tensorflow as tf\n",
        "print(tf.__version__)"
      ],
      "execution_count": 1,
      "outputs": [
        {
          "output_type": "stream",
          "name": "stdout",
          "text": [
            "2.8.0\n"
          ]
        }
      ]
    },
    {
      "cell_type": "markdown",
      "source": [
        "#Fashion-MNIST \n",
        "Fashion-MNIST is a dataset of Zalando's article images—consisting of a training set of 60,000 examples and a test set of 10,000 examples. Each example is a 28x28 grayscale image, associated with a label from 10 classes. Zalando intends Fashion-MNIST to serve as a direct drop-in replacement for the original MNIST dataset for benchmarking machine learning algorithms. It shares the same image size and structure of training and testing splits.\n",
        "\n",
        "The original MNIST dataset contains a lot of handwritten digits. \n"
      ],
      "metadata": {
        "id": "3V2L3cfbSLNg"
      }
    },
    {
      "cell_type": "markdown",
      "source": [
        "#Content\n",
        "Each image is 28 pixels in height and 28 pixels in width, for a total of 784 pixels in total. Each pixel has a single pixel-value associated with it, indicating the lightness or darkness of that pixel, with higher numbers meaning darker. This pixel-value is an integer between 0 and 255. The training and test data sets have 785 columns. The first column consists of the class labels (see above), and represents the article of clothing. The rest of the columns contain the pixel-values of the associated image.\n",
        "\n",
        "To locate a pixel on the image, suppose that we have decomposed x as x = i * 28 + j, where i and j are integers between 0 and 27. The pixel is located on row i and column j of a 28 x 28 matrix.\n",
        "For example, pixel31 indicates the pixel that is in the fourth column from the left, and the second row from the top, as in the ascii-diagram below."
      ],
      "metadata": {
        "id": "nP8185dgSRB5"
      }
    },
    {
      "cell_type": "markdown",
      "source": [
        "#Labels\n",
        "\n",
        "Each training and test example is assigned to one of the following labels:\n",
        "\n",
        "0.  T-shirt/top\n",
        "1.  Trouser\n",
        "2.  Pullover\n",
        "3.  Dress\n",
        "4.  Coat\n",
        "5.  Sandal\n",
        "6.  Shirt\n",
        "7.  Sneaker\n",
        "8.  Bag\n",
        "9.  Ankle boot"
      ],
      "metadata": {
        "id": "fsG0QFhsSXzr"
      }
    },
    {
      "cell_type": "markdown",
      "metadata": {
        "id": "n_n1U5do3u_F"
      },
      "source": [
        "The Fashion MNIST data is available directly in the tf.keras datasets API. You load it like this:"
      ]
    },
    {
      "cell_type": "code",
      "metadata": {
        "id": "PmxkHFpt31bM"
      },
      "source": [
        "mnist = tf.keras.datasets.fashion_mnist"
      ],
      "execution_count": 2,
      "outputs": []
    },
    {
      "cell_type": "markdown",
      "metadata": {
        "id": "GuoLQQBT4E-_"
      },
      "source": [
        "Calling load_data on this object will give you two sets of two lists, these will be the training and testing values for the graphics that contain the clothing items and their labels.\n"
      ]
    },
    {
      "cell_type": "code",
      "metadata": {
        "id": "BTdRgExe4TRB",
        "colab": {
          "base_uri": "https://localhost:8080/"
        },
        "outputId": "50d863a2-5ebb-4295-dd66-7570ea28e5bb"
      },
      "source": [
        "(training_images, training_labels), (test_images, test_labels) = mnist.load_data()"
      ],
      "execution_count": 3,
      "outputs": [
        {
          "output_type": "stream",
          "name": "stdout",
          "text": [
            "Downloading data from https://storage.googleapis.com/tensorflow/tf-keras-datasets/train-labels-idx1-ubyte.gz\n",
            "32768/29515 [=================================] - 0s 0us/step\n",
            "40960/29515 [=========================================] - 0s 0us/step\n",
            "Downloading data from https://storage.googleapis.com/tensorflow/tf-keras-datasets/train-images-idx3-ubyte.gz\n",
            "26427392/26421880 [==============================] - 0s 0us/step\n",
            "26435584/26421880 [==============================] - 0s 0us/step\n",
            "Downloading data from https://storage.googleapis.com/tensorflow/tf-keras-datasets/t10k-labels-idx1-ubyte.gz\n",
            "16384/5148 [===============================================================================================] - 0s 0us/step\n",
            "Downloading data from https://storage.googleapis.com/tensorflow/tf-keras-datasets/t10k-images-idx3-ubyte.gz\n",
            "4423680/4422102 [==============================] - 0s 0us/step\n",
            "4431872/4422102 [==============================] - 0s 0us/step\n"
          ]
        }
      ]
    },
    {
      "cell_type": "markdown",
      "source": [
        ""
      ],
      "metadata": {
        "id": "4UZEu2a6R8fb"
      }
    },
    {
      "cell_type": "code",
      "metadata": {
        "id": "FPc9d3gJ3jWF",
        "colab": {
          "base_uri": "https://localhost:8080/",
          "height": 768
        },
        "outputId": "377fc092-998d-4b3f-ecc1-aee729e73965"
      },
      "source": [
        "import numpy as np\n",
        "np.set_printoptions(linewidth=200)\n",
        "import matplotlib.pyplot as plt\n",
        "plt.imshow(training_images[5])\n",
        "print(training_labels[5])\n",
        "print(training_images[5])"
      ],
      "execution_count": 4,
      "outputs": [
        {
          "output_type": "stream",
          "name": "stdout",
          "text": [
            "2\n",
            "[[  0   0   0   0   1   0   0   0   0  22  88 188 172 132 125 141 199 143   9   0   0   0   1   0   0   0   0   0]\n",
            " [  0   0   0   1   0   0  20 131 199 206 196 202 242 255 255 250 222 197 206 188 126  17   0   0   0   0   0   0]\n",
            " [  0   0   0   1   0  35 214 191 183 178 175 168 150 162 159 152 158 179 183 189 195 185  82   0   0   0   0   0]\n",
            " [  0   0   0   0   0 170 190 172 177 176 171 169 162 155 148 154 169 174 175 175 177 183 188  12   0   0   0   0]\n",
            " [  0   0   0   0  25 194 180 178 174 184 187 189 187 184 181 189 200 197 193 190 178 175 194  90   0   0   0   0]\n",
            " [  0   0   0   0  42 218 191 197 208 204 211 209 210 212 211 214 215 213 214 211 211 191 200 158   0   0   0   0]\n",
            " [  0   0   0   0  88 221 215 217 219 211 185 150 118 107  99  88  83  90 135 212 203 207 219 169   0   0   0   0]\n",
            " [  0   0   0   0   0  27 118 162  40   0   0   0  10  19  28  39  47  36   0   0 203 230 220 203   0   0   0   0]\n",
            " [  0   0   0   0 138 136  71  69  54 216 217 203 184 168 163 162 163 178 221 186  38  26   7   0   0   0   0   0]\n",
            " [  0   0   0   0  67 134 154 224 129  66  81 117 129 128 132 137 131 129  86  73 157 151 134 216  18   0   0   0]\n",
            " [  0   0   0   0 203 198 172 183 206 255 255 250 243 240 239 235 238 244 255 238 184 160  86  98   0   0   0   0]\n",
            " [  0   0   0   0 122 188 224 151 105 127  97 100 105 114 117 117 113 103  98 111 142 254 191 255  49   0   0   0]\n",
            " [  0   0   0   0 163 179 200  95 154 198 197 200 200 198 197 198 199 202 200 176  86 206 157 162  10   0   0   0]\n",
            " [  0   0   0   0 197 201 229  71 144 194 181 183 179 182 180 179 180 190 185 197  76 219 185 201  34   0   0   0]\n",
            " [  0   0   0   0 199 193 226  58 154 192 184 187 184 186 184 185 183 192 191 200  56 219 203 207  60   0   0   0]\n",
            " [  0   0   0   0 201 194 224  41 163 190 186 186 184 185 183 185 178 190 194 202  33 211 200 206  73   0   0   0]\n",
            " [  0   0   0   0 201 197 222  17 172 190 186 187 182 186 185 187 180 187 193 202  26 212 202 203  76   0   0   0]\n",
            " [  0   0   0   0 200 197 223   0 177 189 184 185 178 184 183 184 180 183 189 203  35 196 203 203  84   0   0   0]\n",
            " [  0   0   0   0 200 197 223   0 185 187 185 187 180 184 182 183 178 182 183 205  44 159 207 201  85   0   0   0]\n",
            " [  0   0   0   0 187 198 225   0 194 188 184 185 180 183 183 184 181 181 177 206  46 129 211 200  88   0   0   0]\n",
            " [  0   0   0   6 186 200 211   0 199 189 184 184 185 182 183 184 185 182 175 205  50  97 216 197  93   0   0   0]\n",
            " [  0   0   0   5 185 204 184   0 202 188 182 182 183 183 184 182 180 182 174 202  63  59 220 196  94   0   0   0]\n",
            " [  0   0   0   5 184 206 157   0 204 187 187 189 192 190 190 191 190 187 183 202  78  35 222 197  95   0   0   0]\n",
            " [  0   0   0   5 183 208 127   0 197 166 153 149 149 146 148 149 150 151 158 191  90   8 223 195  99   0   0   0]\n",
            " [  0   0   0   6 184 208 114   0 204 173 161 180 176 172 173 173 174 176 162 202 115   0 229 199 105   0   0   0]\n",
            " [  0   0   0   9 178 204 115   0 121 135 114 117 114 114 117 118 119 117 113 147  63   0 225 196 107   0   0   0]\n",
            " [  0   0   0  18 180 206 131   0   0   0   0   0   0   0   0   0   0   0   0   0   0   0 224 197 123   0   0   0]\n",
            " [  0   0   0   0 141 151  76   0   1   1   0   0   0   0   0   0   0   0   0   0   0   0 133 167  73   0   0   0]]\n"
          ]
        },
        {
          "output_type": "display_data",
          "data": {
            "text/plain": [
              "<Figure size 432x288 with 1 Axes>"
            ],
            "image/png": "[encoded data removed]"
          },
          "metadata": {
            "needs_background": "light"
          }
        }
      ]
    },
    {
      "cell_type": "markdown",
      "metadata": {
        "id": "3cbrdH225_nH"
      },
      "source": [
        "You'll notice that all of the values in the number are between 0 and 255. If we are training a neural network, for various reasons it's easier if we treat all values as between 0 and 1, a process called '**normalizing**'...and fortunately in Python it's easy to normalize a list like this without looping. You do it like this:"
      ]
    },
    {
      "cell_type": "code",
      "metadata": {
        "id": "kRH19pWs6ZDn"
      },
      "source": [
        "training_images  = training_images / 255.0\n",
        "test_images = test_images / 255.0"
      ],
      "execution_count": 5,
      "outputs": []
    },
    {
      "cell_type": "code",
      "source": [
        "len(training_images)"
      ],
      "metadata": {
        "id": "x8n0PUljgy02",
        "colab": {
          "base_uri": "https://localhost:8080/"
        },
        "outputId": "49b652e0-cb0b-4fff-c79a-7050d8a83885"
      },
      "execution_count": 6,
      "outputs": [
        {
          "output_type": "execute_result",
          "data": {
            "text/plain": [
              "60000"
            ]
          },
          "metadata": {},
          "execution_count": 6
        }
      ]
    },
    {
      "cell_type": "code",
      "source": [
        "len(test_images)"
      ],
      "metadata": {
        "id": "IczP8I9Tg9r1",
        "colab": {
          "base_uri": "https://localhost:8080/"
        },
        "outputId": "795e9491-e267-4cfd-c35b-44c6f19d05cf"
      },
      "execution_count": 7,
      "outputs": [
        {
          "output_type": "execute_result",
          "data": {
            "text/plain": [
              "10000"
            ]
          },
          "metadata": {},
          "execution_count": 7
        }
      ]
    },
    {
      "cell_type": "code",
      "source": [
        "plt.imshow(training_images[5])\n",
        "print(training_labels[5])\n",
        "print(training_images[5])"
      ],
      "metadata": {
        "id": "HQ3j2Fs9YVe-",
        "colab": {
          "base_uri": "https://localhost:8080/",
          "height": 1000
        },
        "outputId": "9276b321-685a-41e5-aa52-186eb69e1cb3"
      },
      "execution_count": 8,
      "outputs": [
        {
          "output_type": "stream",
          "name": "stdout",
          "text": [
            "2\n",
            "[[0.         0.         0.         0.         0.00392157 0.         0.         0.         0.         0.08627451 0.34509804 0.7372549  0.6745098  0.51764706 0.49019608 0.55294118 0.78039216\n",
            "  0.56078431 0.03529412 0.         0.         0.         0.00392157 0.         0.         0.         0.         0.        ]\n",
            " [0.         0.         0.         0.00392157 0.         0.         0.07843137 0.51372549 0.78039216 0.80784314 0.76862745 0.79215686 0.94901961 1.         1.         0.98039216 0.87058824\n",
            "  0.77254902 0.80784314 0.7372549  0.49411765 0.06666667 0.         0.         0.         0.         0.         0.        ]\n",
            " [0.         0.         0.         0.00392157 0.         0.1372549  0.83921569 0.74901961 0.71764706 0.69803922 0.68627451 0.65882353 0.58823529 0.63529412 0.62352941 0.59607843 0.61960784\n",
            "  0.70196078 0.71764706 0.74117647 0.76470588 0.7254902  0.32156863 0.         0.         0.         0.         0.        ]\n",
            " [0.         0.         0.         0.         0.         0.66666667 0.74509804 0.6745098  0.69411765 0.69019608 0.67058824 0.6627451  0.63529412 0.60784314 0.58039216 0.60392157 0.6627451\n",
            "  0.68235294 0.68627451 0.68627451 0.69411765 0.71764706 0.7372549  0.04705882 0.         0.         0.         0.        ]\n",
            " [0.         0.         0.         0.         0.09803922 0.76078431 0.70588235 0.69803922 0.68235294 0.72156863 0.73333333 0.74117647 0.73333333 0.72156863 0.70980392 0.74117647 0.78431373\n",
            "  0.77254902 0.75686275 0.74509804 0.69803922 0.68627451 0.76078431 0.35294118 0.         0.         0.         0.        ]\n",
            " [0.         0.         0.         0.         0.16470588 0.85490196 0.74901961 0.77254902 0.81568627 0.8        0.82745098 0.81960784 0.82352941 0.83137255 0.82745098 0.83921569 0.84313725\n",
            "  0.83529412 0.83921569 0.82745098 0.82745098 0.74901961 0.78431373 0.61960784 0.         0.         0.         0.        ]\n",
            " [0.         0.         0.         0.         0.34509804 0.86666667 0.84313725 0.85098039 0.85882353 0.82745098 0.7254902  0.58823529 0.4627451  0.41960784 0.38823529 0.34509804 0.3254902\n",
            "  0.35294118 0.52941176 0.83137255 0.79607843 0.81176471 0.85882353 0.6627451  0.         0.         0.         0.        ]\n",
            " [0.         0.         0.         0.         0.         0.10588235 0.4627451  0.63529412 0.15686275 0.         0.         0.         0.03921569 0.0745098  0.10980392 0.15294118 0.18431373\n",
            "  0.14117647 0.         0.         0.79607843 0.90196078 0.8627451  0.79607843 0.         0.         0.         0.        ]\n",
            " [0.         0.         0.         0.         0.54117647 0.53333333 0.27843137 0.27058824 0.21176471 0.84705882 0.85098039 0.79607843 0.72156863 0.65882353 0.63921569 0.63529412 0.63921569\n",
            "  0.69803922 0.86666667 0.72941176 0.14901961 0.10196078 0.02745098 0.         0.         0.         0.         0.        ]\n",
            " [0.         0.         0.         0.         0.2627451  0.5254902  0.60392157 0.87843137 0.50588235 0.25882353 0.31764706 0.45882353 0.50588235 0.50196078 0.51764706 0.5372549  0.51372549\n",
            "  0.50588235 0.3372549  0.28627451 0.61568627 0.59215686 0.5254902  0.84705882 0.07058824 0.         0.         0.        ]\n",
            " [0.         0.         0.         0.         0.79607843 0.77647059 0.6745098  0.71764706 0.80784314 1.         1.         0.98039216 0.95294118 0.94117647 0.9372549  0.92156863 0.93333333\n",
            "  0.95686275 1.         0.93333333 0.72156863 0.62745098 0.3372549  0.38431373 0.         0.         0.         0.        ]\n",
            " [0.         0.         0.         0.         0.47843137 0.7372549  0.87843137 0.59215686 0.41176471 0.49803922 0.38039216 0.39215686 0.41176471 0.44705882 0.45882353 0.45882353 0.44313725\n",
            "  0.40392157 0.38431373 0.43529412 0.55686275 0.99607843 0.74901961 1.         0.19215686 0.         0.         0.        ]\n",
            " [0.         0.         0.         0.         0.63921569 0.70196078 0.78431373 0.37254902 0.60392157 0.77647059 0.77254902 0.78431373 0.78431373 0.77647059 0.77254902 0.77647059 0.78039216\n",
            "  0.79215686 0.78431373 0.69019608 0.3372549  0.80784314 0.61568627 0.63529412 0.03921569 0.         0.         0.        ]\n",
            " [0.         0.         0.         0.         0.77254902 0.78823529 0.89803922 0.27843137 0.56470588 0.76078431 0.70980392 0.71764706 0.70196078 0.71372549 0.70588235 0.70196078 0.70588235\n",
            "  0.74509804 0.7254902  0.77254902 0.29803922 0.85882353 0.7254902  0.78823529 0.13333333 0.         0.         0.        ]\n",
            " [0.         0.         0.         0.         0.78039216 0.75686275 0.88627451 0.22745098 0.60392157 0.75294118 0.72156863 0.73333333 0.72156863 0.72941176 0.72156863 0.7254902  0.71764706\n",
            "  0.75294118 0.74901961 0.78431373 0.21960784 0.85882353 0.79607843 0.81176471 0.23529412 0.         0.         0.        ]\n",
            " [0.         0.         0.         0.         0.78823529 0.76078431 0.87843137 0.16078431 0.63921569 0.74509804 0.72941176 0.72941176 0.72156863 0.7254902  0.71764706 0.7254902  0.69803922\n",
            "  0.74509804 0.76078431 0.79215686 0.12941176 0.82745098 0.78431373 0.80784314 0.28627451 0.         0.         0.        ]\n",
            " [0.         0.         0.         0.         0.78823529 0.77254902 0.87058824 0.06666667 0.6745098  0.74509804 0.72941176 0.73333333 0.71372549 0.72941176 0.7254902  0.73333333 0.70588235\n",
            "  0.73333333 0.75686275 0.79215686 0.10196078 0.83137255 0.79215686 0.79607843 0.29803922 0.         0.         0.        ]\n",
            " [0.         0.         0.         0.         0.78431373 0.77254902 0.8745098  0.         0.69411765 0.74117647 0.72156863 0.7254902  0.69803922 0.72156863 0.71764706 0.72156863 0.70588235\n",
            "  0.71764706 0.74117647 0.79607843 0.1372549  0.76862745 0.79607843 0.79607843 0.32941176 0.         0.         0.        ]\n",
            " [0.         0.         0.         0.         0.78431373 0.77254902 0.8745098  0.         0.7254902  0.73333333 0.7254902  0.73333333 0.70588235 0.72156863 0.71372549 0.71764706 0.69803922\n",
            "  0.71372549 0.71764706 0.80392157 0.17254902 0.62352941 0.81176471 0.78823529 0.33333333 0.         0.         0.        ]\n",
            " [0.         0.         0.         0.         0.73333333 0.77647059 0.88235294 0.         0.76078431 0.7372549  0.72156863 0.7254902  0.70588235 0.71764706 0.71764706 0.72156863 0.70980392\n",
            "  0.70980392 0.69411765 0.80784314 0.18039216 0.50588235 0.82745098 0.78431373 0.34509804 0.         0.         0.        ]\n",
            " [0.         0.         0.         0.02352941 0.72941176 0.78431373 0.82745098 0.         0.78039216 0.74117647 0.72156863 0.72156863 0.7254902  0.71372549 0.71764706 0.72156863 0.7254902\n",
            "  0.71372549 0.68627451 0.80392157 0.19607843 0.38039216 0.84705882 0.77254902 0.36470588 0.         0.         0.        ]\n",
            " [0.         0.         0.         0.01960784 0.7254902  0.8        0.72156863 0.         0.79215686 0.7372549  0.71372549 0.71372549 0.71764706 0.71764706 0.72156863 0.71372549 0.70588235\n",
            "  0.71372549 0.68235294 0.79215686 0.24705882 0.23137255 0.8627451  0.76862745 0.36862745 0.         0.         0.        ]\n",
            " [0.         0.         0.         0.01960784 0.72156863 0.80784314 0.61568627 0.         0.8        0.73333333 0.73333333 0.74117647 0.75294118 0.74509804 0.74509804 0.74901961 0.74509804\n",
            "  0.73333333 0.71764706 0.79215686 0.30588235 0.1372549  0.87058824 0.77254902 0.37254902 0.         0.         0.        ]\n",
            " [0.         0.         0.         0.01960784 0.71764706 0.81568627 0.49803922 0.         0.77254902 0.65098039 0.6        0.58431373 0.58431373 0.57254902 0.58039216 0.58431373 0.58823529\n",
            "  0.59215686 0.61960784 0.74901961 0.35294118 0.03137255 0.8745098  0.76470588 0.38823529 0.         0.         0.        ]\n",
            " [0.         0.         0.         0.02352941 0.72156863 0.81568627 0.44705882 0.         0.8        0.67843137 0.63137255 0.70588235 0.69019608 0.6745098  0.67843137 0.67843137 0.68235294\n",
            "  0.69019608 0.63529412 0.79215686 0.45098039 0.         0.89803922 0.78039216 0.41176471 0.         0.         0.        ]\n",
            " [0.         0.         0.         0.03529412 0.69803922 0.8        0.45098039 0.         0.4745098  0.52941176 0.44705882 0.45882353 0.44705882 0.44705882 0.45882353 0.4627451  0.46666667\n",
            "  0.45882353 0.44313725 0.57647059 0.24705882 0.         0.88235294 0.76862745 0.41960784 0.         0.         0.        ]\n",
            " [0.         0.         0.         0.07058824 0.70588235 0.80784314 0.51372549 0.         0.         0.         0.         0.         0.         0.         0.         0.         0.\n",
            "  0.         0.         0.         0.         0.         0.87843137 0.77254902 0.48235294 0.         0.         0.        ]\n",
            " [0.         0.         0.         0.         0.55294118 0.59215686 0.29803922 0.         0.00392157 0.00392157 0.         0.         0.         0.         0.         0.         0.\n",
            "  0.         0.         0.         0.         0.         0.52156863 0.65490196 0.28627451 0.         0.         0.        ]]\n"
          ]
        },
        {
          "output_type": "display_data",
          "data": {
            "text/plain": [
              "<Figure size 432x288 with 1 Axes>"
            ],
            "image/png": "[encoded data removed]"
          },
          "metadata": {
            "needs_background": "light"
          }
        }
      ]
    },
    {
      "cell_type": "markdown",
      "source": [
        "\n",
        "\n"
      ],
      "metadata": {
        "id": "nUjL6VxYaSKv"
      }
    },
    {
      "cell_type": "code",
      "metadata": {
        "id": "7mAyndG3kVlK"
      },
      "source": [
        "\n",
        "model = tf.keras.models.Sequential([ tf.keras.layers.Flatten(), \n",
        "                                    tf.keras.layers.Dense(128, activation=tf.nn.relu), \n",
        "                                    tf.keras.layers.Dense(10, activation=tf.nn.softmax)])"
      ],
      "execution_count": 9,
      "outputs": []
    },
    {
      "cell_type": "markdown",
      "source": [
        ""
      ],
      "metadata": {
        "id": "CNu1VbHedXoe"
      }
    },
    {
      "cell_type": "markdown",
      "metadata": {
        "id": "-lUcWaiX7MFj"
      },
      "source": [
        "**Sequential**: That defines a SEQUENCE of layers in the neural network\n",
        "\n",
        "**Dense**: Adds a layer of neurons\n",
        "\n",
        "Each layer of neurons need an **activation function** to tell them what to do. There's lots of options, but just use these for now. \n",
        "\n",
        "**Relu** effectively means \"If X>0 return X, else return 0\" -- so what it does it it only passes values 0 or greater to the next layer in the network.\n",
        "\n",
        "**Softmax** takes a set of values, and effectively picks the biggest one, so, for example, if the output of the last layer looks like [0.1, 0.1, 0.05, 0.1, 9.5, 0.1, 0.05, 0.05, 0.05], it saves you from fishing through it looking for the biggest value, and turns it into [0,0,0,0,1,0,0,0,0] -- The goal is to save a lot of coding!\n"
      ]
    },
    {
      "cell_type": "markdown",
      "metadata": {
        "id": "c8vbMCqb9Mh6"
      },
      "source": [
        "The next thing to do, now the model is defined, is to actually build it. You do this by compiling it with an optimizer and loss function as before -- and then you train it by calling **model.fit ** asking it to fit your training data to your training labels -- i.e. have it figure out the relationship between the training data and its actual labels, so in future if you have data that looks like the training data, then it can make a prediction for what that data would look like. "
      ]
    },
    {
      "cell_type": "code",
      "metadata": {
        "id": "BLMdl9aP8nQ0"
      },
      "source": [
        "model.compile(optimizer = tf.optimizers.Adam(),\n",
        "              loss = 'sparse_categorical_crossentropy',\n",
        "              metrics=['accuracy'])\n",
        "\n",
        "#Computes the crossentropy loss between the labels and predictions."
      ],
      "execution_count": 10,
      "outputs": []
    },
    {
      "cell_type": "code",
      "source": [
        "model.fit(training_images, training_labels,epochs=5,verbose=1)"
      ],
      "metadata": {
        "id": "6TJ13bpocy74",
        "colab": {
          "base_uri": "https://localhost:8080/"
        },
        "outputId": "c73f303d-9d69-4229-e1e1-2d1c3269e60c"
      },
      "execution_count": 11,
      "outputs": [
        {
          "output_type": "stream",
          "name": "stdout",
          "text": [
            "Epoch 1/5\n",
            "1875/1875 [==============================] - 8s 3ms/step - loss: 0.4964 - accuracy: 0.8261\n",
            "Epoch 2/5\n",
            "1875/1875 [==============================] - 5s 3ms/step - loss: 0.3766 - accuracy: 0.8642\n",
            "Epoch 3/5\n",
            "1875/1875 [==============================] - 5s 3ms/step - loss: 0.3375 - accuracy: 0.8770\n",
            "Epoch 4/5\n",
            "1875/1875 [==============================] - 5s 3ms/step - loss: 0.3145 - accuracy: 0.8842\n",
            "Epoch 5/5\n",
            "1875/1875 [==============================] - 5s 3ms/step - loss: 0.2950 - accuracy: 0.8907\n"
          ]
        },
        {
          "output_type": "execute_result",
          "data": {
            "text/plain": [
              "<keras.callbacks.History at 0x7f74f01b6dd0>"
            ]
          },
          "metadata": {},
          "execution_count": 11
        }
      ]
    },
    {
      "cell_type": "code",
      "metadata": {
        "id": "WzlqsEzX9s5P",
        "colab": {
          "base_uri": "https://localhost:8080/"
        },
        "outputId": "e6aac00c-6f41-452a-c637-55fca382a42b"
      },
      "source": [
        "model.evaluate(test_images, test_labels)"
      ],
      "execution_count": 12,
      "outputs": [
        {
          "output_type": "stream",
          "name": "stdout",
          "text": [
            "313/313 [==============================] - 1s 3ms/step - loss: 0.3383 - accuracy: 0.8780\n"
          ]
        },
        {
          "output_type": "execute_result",
          "data": {
            "text/plain": [
              "[0.33826324343681335, 0.878000020980835]"
            ]
          },
          "metadata": {},
          "execution_count": 12
        }
      ]
    },
    {
      "cell_type": "markdown",
      "metadata": {
        "id": "htldZNWcIPSN"
      },
      "source": [
        "# Practise Sessions"
      ]
    },
    {
      "cell_type": "markdown",
      "metadata": {
        "id": "rquQqIx4AaGR"
      },
      "source": [
        "###Exercise 1:\n",
        "For this first exercise run the below code: It creates a set of classifications for each of the test images, and then prints the first entry in the classifications. The output, after you run it is a list of numbers.  what do those numbers represent? "
      ]
    },
    {
      "cell_type": "code",
      "metadata": {
        "id": "RyEIki0z_hAD",
        "colab": {
          "base_uri": "https://localhost:8080/"
        },
        "outputId": "c736ff8e-ea61-4047-bf6c-7de74b6602cd"
      },
      "source": [
        "classifications = model.predict(test_images)\n",
        "\n",
        "print(classifications[0])"
      ],
      "execution_count": 13,
      "outputs": [
        {
          "output_type": "stream",
          "name": "stdout",
          "text": [
            "[1.3649549e-06 2.0818654e-06 1.4542380e-07 1.6703547e-08 5.6025755e-07 4.5411889e-03 3.2605010e-07 2.5120826e-02 1.3004439e-05 9.7032052e-01]\n"
          ]
        }
      ]
    },
    {
      "cell_type": "markdown",
      "source": [
        "With the model trained, you can use it to make predictions about some images. Attach a softmax layer to convert the model's linear outputs—logits—to probabilities, which should be easier to interpret."
      ],
      "metadata": {
        "id": "PWQW4JoMfiLU"
      }
    },
    {
      "cell_type": "markdown",
      "source": [
        "Here, the model has predicted the label for each image in the testing set. Let's take a look at the first prediction:"
      ],
      "metadata": {
        "id": "A_6FqJ6rfz81"
      }
    },
    {
      "cell_type": "code",
      "source": [
        "classifications"
      ],
      "metadata": {
        "id": "1b-UViMafQTP",
        "colab": {
          "base_uri": "https://localhost:8080/"
        },
        "outputId": "fe1ec3df-62f5-40ea-d5cb-27f9b9804c7e"
      },
      "execution_count": 14,
      "outputs": [
        {
          "output_type": "execute_result",
          "data": {
            "text/plain": [
              "array([[1.3649549e-06, 2.0818654e-06, 1.4542380e-07, ..., 2.5120826e-02, 1.3004439e-05, 9.7032052e-01],\n",
              "       [8.3086452e-06, 1.4226390e-10, 9.9722540e-01, ..., 2.0032444e-14, 7.3856903e-08, 6.6070192e-15],\n",
              "       [8.6778350e-08, 9.9999988e-01, 1.6081261e-10, ..., 7.6938240e-20, 3.9884372e-12, 5.5562654e-14],\n",
              "       ...,\n",
              "       [1.0361066e-03, 4.6792149e-08, 1.3517920e-04, ..., 1.3674924e-07, 9.9784470e-01, 5.9156195e-09],\n",
              "       [6.0636182e-08, 9.9999607e-01, 2.0655926e-09, ..., 2.8233018e-14, 4.1139731e-10, 1.6746962e-09],\n",
              "       [6.2057929e-04, 2.7973394e-05, 7.5812062e-04, ..., 3.7193041e-02, 3.2644946e-02, 3.7224192e-04]], dtype=float32)"
            ]
          },
          "metadata": {},
          "execution_count": 14
        }
      ]
    },
    {
      "cell_type": "code",
      "metadata": {
        "id": "WnBGOrMiA1n5",
        "colab": {
          "base_uri": "https://localhost:8080/"
        },
        "outputId": "4c43d8a3-05f2-4630-d567-f154ce5aaef9"
      },
      "source": [
        "print(test_labels)"
      ],
      "execution_count": 16,
      "outputs": [
        {
          "output_type": "stream",
          "name": "stdout",
          "text": [
            "[9 2 1 ... 8 1 5]\n"
          ]
        }
      ]
    },
    {
      "cell_type": "code",
      "source": [
        "print(test_labels[0])"
      ],
      "metadata": {
        "colab": {
          "base_uri": "https://localhost:8080/"
        },
        "id": "nVW1cKS_pLI6",
        "outputId": "055bab07-71d4-4778-ce4e-0b3236e89358"
      },
      "execution_count": 17,
      "outputs": [
        {
          "output_type": "stream",
          "name": "stdout",
          "text": [
            "9\n"
          ]
        }
      ]
    },
    {
      "cell_type": "code",
      "source": [
        "class_names = ['T-shirt/top', 'Trouser', 'Pullover', 'Dress', 'Coat',\n",
        "               'Sandal', 'Shirt', 'Sneaker', 'Bag', 'Ankle boot']"
      ],
      "metadata": {
        "id": "iUJYBEsMZ72v"
      },
      "execution_count": 18,
      "outputs": []
    },
    {
      "cell_type": "code",
      "source": [
        "plt.figure(figsize=(10,10))\n",
        "for i in range(25):\n",
        "    plt.subplot(5,5,i+1)\n",
        "    plt.xticks([])\n",
        "    plt.yticks([])\n",
        "    plt.grid(False)\n",
        "    plt.imshow(training_images[i], cmap=plt.cm.binary)\n",
        "    plt.xlabel(class_names[training_labels[i]])\n",
        "plt.show()"
      ],
      "metadata": {
        "id": "d4AgSwcqZeHv",
        "colab": {
          "base_uri": "https://localhost:8080/",
          "height": 589
        },
        "outputId": "68d18b6c-2ef3-4707-ae12-7bbf7b0a981a"
      },
      "execution_count": 19,
      "outputs": [
        {
          "output_type": "display_data",
          "data": {
            "text/plain": [
              "<Figure size 720x720 with 25 Axes>"
            ],
            "image/png": "[encoded data removed]"
          },
          "metadata": {}
        }
      ]
    },
    {
      "cell_type": "code",
      "source": [
        "plt.figure(figsize=(10,10))\n",
        "for i in range(25):\n",
        "    plt.subplot(5,5,i+1)\n",
        "    plt.xticks([])\n",
        "    plt.yticks([])\n",
        "    plt.grid(False)\n",
        "    plt.imshow(test_images[i], cmap=plt.cm.binary)\n",
        "    plt.xlabel(class_names[test_labels[i]])\n",
        "plt.show()"
      ],
      "metadata": {
        "id": "nwEpppI2hkHr",
        "colab": {
          "base_uri": "https://localhost:8080/",
          "height": 589
        },
        "outputId": "0280f355-56d9-4c0f-d29f-2f9cf28b3f26"
      },
      "execution_count": 20,
      "outputs": [
        {
          "output_type": "display_data",
          "data": {
            "text/plain": [
              "<Figure size 720x720 with 25 Axes>"
            ],
            "image/png": "[encoded data removed]"
          },
          "metadata": {}
        }
      ]
    },
    {
      "cell_type": "markdown",
      "source": [
        "#Verify predictions\n",
        "With the model trained, you can use it to make predictions about some images.\n",
        "\n",
        "Let's look at the 0th image, predictions, and prediction array. Correct prediction labels are blue and incorrect prediction labels are red. The number gives the percentage (out of 100) for the predicted label."
      ],
      "metadata": {
        "id": "505qn-rxv18L"
      }
    },
    {
      "cell_type": "code",
      "source": [
        "def plot_image(i, predictions_array, true_label, img):\n",
        "  true_label, img = true_label[i], img[i]\n",
        "  plt.grid(False)\n",
        "  plt.xticks([])\n",
        "  plt.yticks([])\n",
        "\n",
        "  plt.imshow(img, cmap=plt.cm.binary)\n",
        "\n",
        "  predicted_label = np.argmax(predictions_array)\n",
        "  if predicted_label == true_label:\n",
        "    color = 'blue'\n",
        "  else:\n",
        "    color = 'red'\n",
        "\n",
        "  plt.xlabel(\"{} {:2.0f}% ({})\".format(class_names[predicted_label],\n",
        "                                100*np.max(predictions_array),\n",
        "                                class_names[true_label]),\n",
        "                                color=color)\n",
        "\n",
        "def plot_value_array(i, predictions_array, true_label):\n",
        "  true_label = true_label[i]\n",
        "  plt.grid(False)\n",
        "  plt.xticks(range(10))\n",
        "  plt.yticks([])\n",
        "  thisplot = plt.bar(range(10), predictions_array, color=\"#777777\")\n",
        "  plt.ylim([0, 1])\n",
        "  predicted_label = np.argmax(predictions_array)\n",
        "\n",
        "  thisplot[predicted_label].set_color('red')\n",
        "  thisplot[true_label].set_color('blue')"
      ],
      "metadata": {
        "id": "eo2sECt-voDk"
      },
      "execution_count": 21,
      "outputs": []
    },
    {
      "cell_type": "code",
      "source": [
        "i = 0\n",
        "plt.figure(figsize=(6,3))\n",
        "plt.subplot(1,2,1)\n",
        "plot_image(i, classifications[i], test_labels, test_images)\n",
        "plt.subplot(1,2,2)\n",
        "plot_value_array(i, classifications[i],  test_labels)\n",
        "plt.show()"
      ],
      "metadata": {
        "id": "Bj5a1hMfwGAI",
        "colab": {
          "base_uri": "https://localhost:8080/",
          "height": 211
        },
        "outputId": "037ffec4-0ba1-4974-99ca-7b6bec266145"
      },
      "execution_count": 22,
      "outputs": [
        {
          "output_type": "display_data",
          "data": {
            "text/plain": [
              "<Figure size 432x216 with 2 Axes>"
            ],
            "image/png": "[encoded data removed]"
          },
          "metadata": {
            "needs_background": "light"
          }
        }
      ]
    },
    {
      "cell_type": "code",
      "source": [
        "i = 12\n",
        "plt.figure(figsize=(6,3))\n",
        "plt.subplot(1,2,1)\n",
        "plot_image(i, classifications[i], test_labels, test_images)\n",
        "plt.subplot(1,2,2)\n",
        "plot_value_array(i, classifications[i],  test_labels)\n",
        "plt.show()"
      ],
      "metadata": {
        "id": "EvW-fzrC12-5",
        "colab": {
          "base_uri": "https://localhost:8080/",
          "height": 211
        },
        "outputId": "8470c924-5bc1-4752-a68b-2def5113df2c"
      },
      "execution_count": 23,
      "outputs": [
        {
          "output_type": "display_data",
          "data": {
            "text/plain": [
              "<Figure size 432x216 with 2 Axes>"
            ],
            "image/png": "[encoded data removed]"
          },
          "metadata": {
            "needs_background": "light"
          }
        }
      ]
    },
    {
      "cell_type": "code",
      "source": [
        "# Plot the first X test images, their predicted labels, and the true labels.\n",
        "# Color correct predictions in blue and incorrect predictions in red.\n",
        "num_rows = 5\n",
        "num_cols = 3\n",
        "num_images = num_rows*num_cols\n",
        "plt.figure(figsize=(2*2*num_cols, 2*num_rows))\n",
        "for i in range(num_images):\n",
        "  plt.subplot(num_rows, 2*num_cols, 2*i+1)\n",
        "  plot_image(i, classifications[i], test_labels, test_images)\n",
        "  plt.subplot(num_rows, 2*num_cols, 2*i+2)\n",
        "  plot_value_array(i, classifications[i], test_labels)\n",
        "plt.tight_layout()\n",
        "plt.show()"
      ],
      "metadata": {
        "id": "4P8tVrjD1_vA",
        "colab": {
          "base_uri": "https://localhost:8080/",
          "height": 729
        },
        "outputId": "3c132c5e-2026-4cd4-f4cc-3a6935496b63"
      },
      "execution_count": 24,
      "outputs": [
        {
          "output_type": "display_data",
          "data": {
            "text/plain": [
              "<Figure size 864x720 with 30 Axes>"
            ],
            "image/png": "[encoded data removed]"
          },
          "metadata": {
            "needs_background": "light"
          }
        }
      ]
    },
    {
      "cell_type": "markdown",
      "metadata": {
        "id": "uUs7eqr7uSvs"
      },
      "source": [
        "### What does this list represent?\n",
        "\n",
        "\n",
        "1.   It's 10 random meaningless values\n",
        "2.   It's the first 10 classifications that the computer made\n",
        "3.   It's the probability that this item is each of the 10 classes\n"
      ]
    },
    {
      "cell_type": "markdown",
      "metadata": {
        "id": "wAbr92RTA67u"
      },
      "source": [
        "####Answer: \n",
        "The correct answer is (3)\n",
        "\n",
        "The output of the model is a list of 10 numbers. These numbers are a probability that the value being classified is the corresponding value, i.e. the first value in the list is the probability that the image is of a '0' (T-shirt/top), the next is a '1' (Trouser) etc. Notice that they are all VERY LOW probabilities.\n",
        "\n"
      ]
    },
    {
      "cell_type": "markdown",
      "metadata": {
        "id": "CD4kC6TBu-69"
      },
      "source": [
        "### How do you know that this list tells you that the item is an ankle boot?\n",
        "\n",
        "\n",
        "1.   There's not enough information to answer that question\n",
        "2.   The 10th element on the list is the biggest, and the ankle boot is labelled 9\n",
        "2.   The ankle boot is label 9, and there are 0->9 elements in the list\n"
      ]
    },
    {
      "cell_type": "markdown",
      "metadata": {
        "id": "I-haLncrva5L"
      },
      "source": [
        "####Answer\n",
        "The correct answer is (2). Both the list and the labels are 0 based, so the ankle boot having label 9 means that it is the 10th of the 10 classes. The list having the 10th element being the highest value means that the Neural Network has predicted that the item it is classifying is most likely an ankle boot"
      ]
    },
    {
      "cell_type": "markdown",
      "metadata": {
        "id": "OgQSIfDSOWv6"
      },
      "source": [
        "##Exercise 2: \n",
        "Let's now look at the layers in your model. Experiment with different values for the dense layer with 512 neurons. What different results do you get for loss, training time etc? Why do you think that's the case? \n"
      ]
    },
    {
      "cell_type": "code",
      "metadata": {
        "id": "GSZSwV5UObQP",
        "colab": {
          "base_uri": "https://localhost:8080/"
        },
        "outputId": "ed3a8536-9f29-4952-a90e-9551beba89c1"
      },
      "source": [
        "model = tf.keras.models.Sequential([tf.keras.layers.Flatten(),\n",
        "                                    tf.keras.layers.Dense(1024, activation=tf.nn.relu),\n",
        "                                    tf.keras.layers.Dense(10, activation=tf.nn.softmax)])\n",
        "\n",
        "model.compile(optimizer = 'adam',\n",
        "              loss = 'sparse_categorical_crossentropy',metrics='accuracy')\n",
        "\n",
        "model.fit(training_images, training_labels, epochs=5,verbose=1)\n",
        "\n",
        "model.evaluate(test_images, test_labels)\n",
        "\n",
        "classifications = model.predict(test_images)\n",
        "\n",
        "print(classifications[0])\n",
        "print(test_labels[0])"
      ],
      "execution_count": 25,
      "outputs": [
        {
          "output_type": "stream",
          "name": "stdout",
          "text": [
            "Epoch 1/5\n",
            "1875/1875 [==============================] - 7s 3ms/step - loss: 0.4733 - accuracy: 0.8303\n",
            "Epoch 2/5\n",
            "1875/1875 [==============================] - 6s 3ms/step - loss: 0.3571 - accuracy: 0.8694\n",
            "Epoch 3/5\n",
            "1875/1875 [==============================] - 6s 3ms/step - loss: 0.3215 - accuracy: 0.8810\n",
            "Epoch 4/5\n",
            "1875/1875 [==============================] - 6s 3ms/step - loss: 0.2973 - accuracy: 0.8900\n",
            "Epoch 5/5\n",
            "1875/1875 [==============================] - 6s 3ms/step - loss: 0.2795 - accuracy: 0.8961\n",
            "313/313 [==============================] - 1s 3ms/step - loss: 0.3351 - accuracy: 0.8807\n",
            "[8.7601926e-08 3.9678894e-10 9.2444402e-08 1.7855840e-10 2.3743135e-08 2.6835068e-03 1.1855445e-07 1.5298214e-02 1.5632125e-07 9.8201776e-01]\n",
            "9\n"
          ]
        }
      ]
    },
    {
      "cell_type": "markdown",
      "metadata": {
        "id": "bOOEnHZFv5cS"
      },
      "source": [
        "###Question 1. Increase to 1024 Neurons -- What's the impact?\n",
        "\n",
        "1. Training takes longer, but is more accurate\n",
        "2. Training takes longer, but no impact on accuracy\n",
        "3. Training takes the same time, but is more accurate\n"
      ]
    },
    {
      "cell_type": "markdown",
      "metadata": {
        "id": "U73MUP2lwrI2"
      },
      "source": [
        "####Answer\n",
        "The correct answer is (1) by adding more Neurons we have to do more calculations, slowing down the process, but in this case they have a good impact -- we do get more accurate. That doesn't mean it's always a case of 'more is better', you can hit the law of diminishing returns very quickly!"
      ]
    },
    {
      "cell_type": "markdown",
      "metadata": {
        "id": "WtWxK16hQxLN"
      },
      "source": [
        "##Exercise 3: \n",
        "\n",
        "What would happen if you remove the Flatten() layer. Why do you think that's the case? \n",
        "\n",
        "You get an error about the shape of the data. It may seem vague right now, but it reinforces the rule of thumb that the first layer in your network should be the same shape as your data. Right now our data is 28x28 images, and 28 layers of 28 neurons would be infeasible, so it makes more sense to 'flatten' that 28,28 into a 784x1. Instead of wriitng all the code to handle that ourselves, we add the Flatten() layer at the begining, and when the arrays are loaded into the model later, they'll automatically be flattened for us."
      ]
    },
    {
      "cell_type": "markdown",
      "source": [
        "1. model = tf.keras.models.Sequential()\n",
        "2. model.add(tf.keras.layers.Dense(128, activation='relu', input_shape=(28 * 28,)))\n",
        "3. model.add(tf.keras.layers.Dense(10, activation='softmax'))"
      ],
      "metadata": {
        "id": "Ppg0Y_UZdZSX"
      }
    },
    {
      "cell_type": "code",
      "metadata": {
        "id": "ExNxCwhcQ18S",
        "colab": {
          "base_uri": "https://localhost:8080/"
        },
        "outputId": "cd2b93f8-7114-4c5e-b702-ea6d1c3c0c7f"
      },
      "source": [
        "model = tf.keras.models.Sequential([tf.keras.layers.Flatten(),\n",
        "                                    tf.keras.layers.Dense(64, activation=tf.nn.relu),\n",
        "                                    tf.keras.layers.Dense(10, activation=tf.nn.softmax)])\n",
        "\n",
        "model.compile(optimizer = 'adam',\n",
        "              loss = 'sparse_categorical_crossentropy', metrics='accuracy')\n",
        "\n",
        "model.fit(training_images, training_labels, epochs=5)\n",
        "\n",
        "model.evaluate(test_images, test_labels)\n",
        "\n",
        "classifications = model.predict(test_images)\n",
        "\n",
        "print(classifications[0])\n",
        "print(test_labels[0])"
      ],
      "execution_count": 28,
      "outputs": [
        {
          "output_type": "stream",
          "name": "stdout",
          "text": [
            "Epoch 1/5\n",
            "1875/1875 [==============================] - 5s 3ms/step - loss: 0.5100 - accuracy: 0.8228\n",
            "Epoch 2/5\n",
            "1875/1875 [==============================] - 5s 3ms/step - loss: 0.3911 - accuracy: 0.8603\n",
            "Epoch 3/5\n",
            "1875/1875 [==============================] - 5s 3ms/step - loss: 0.3521 - accuracy: 0.8737\n",
            "Epoch 4/5\n",
            "1875/1875 [==============================] - 5s 3ms/step - loss: 0.3295 - accuracy: 0.8806\n",
            "Epoch 5/5\n",
            "1875/1875 [==============================] - 6s 3ms/step - loss: 0.3113 - accuracy: 0.8859\n",
            "313/313 [==============================] - 1s 3ms/step - loss: 0.3619 - accuracy: 0.8686\n",
            "[7.3553601e-05 9.4942276e-09 2.2699736e-05 1.6679708e-08 1.7574486e-05 1.1874416e-01 1.0377529e-04 1.4126751e-01 5.7520254e-05 7.3971319e-01]\n",
            "9\n"
          ]
        }
      ]
    },
    {
      "cell_type": "markdown",
      "metadata": {
        "id": "VqoCR-ieSGDg"
      },
      "source": [
        "##Exercise 4: \n",
        "\n",
        "Consider the final (output) layers. Why are there 10 of them? What would happen if you had a different amount than 10? For example, try training the network with 5\n",
        "\n",
        "You get an error as soon as it finds an unexpected value. Another rule of thumb -- the number of neurons in the last layer should match the number of classes you are classifying for. In this case it's the digits 0-9, so there are 10 of them, hence you should have 10 neurons in your final layer."
      ]
    },
    {
      "cell_type": "code",
      "metadata": {
        "id": "MMckVntcSPvo",
        "colab": {
          "base_uri": "https://localhost:8080/"
        },
        "outputId": "06392fcb-4606-4a6b-9b2b-d03a0997dd09"
      },
      "source": [
        "\n",
        "model = tf.keras.models.Sequential([tf.keras.layers.Flatten(),\n",
        "                                    tf.keras.layers.Dense(64, activation=tf.nn.relu),\n",
        "                                    tf.keras.layers.Dense(5, activation=tf.nn.softmax)])\n",
        "\n",
        "model.compile(optimizer = 'adam',\n",
        "              loss = 'sparse_categorical_crossentropy')\n",
        "\n",
        "model.fit(training_images, training_labels, epochs=5,verbose=1)\n",
        "\n",
        "model.evaluate(test_images, test_labels)\n",
        "\n",
        "classifications = model.predict(test_images)\n",
        "\n",
        "print(classifications[0])\n",
        "print(test_labels[0])"
      ],
      "execution_count": 29,
      "outputs": [
        {
          "output_type": "stream",
          "name": "stdout",
          "text": [
            "Epoch 1/5\n",
            "1875/1875 [==============================] - 6s 3ms/step - loss: nan\n",
            "Epoch 2/5\n",
            "1875/1875 [==============================] - 4s 2ms/step - loss: nan\n",
            "Epoch 3/5\n",
            "1875/1875 [==============================] - 4s 2ms/step - loss: nan\n",
            "Epoch 4/5\n",
            "1875/1875 [==============================] - 4s 2ms/step - loss: nan\n",
            "Epoch 5/5\n",
            "1875/1875 [==============================] - 4s 2ms/step - loss: nan\n",
            "313/313 [==============================] - 1s 2ms/step - loss: nan\n",
            "[nan nan nan nan nan]\n",
            "9\n"
          ]
        }
      ]
    },
    {
      "cell_type": "markdown",
      "metadata": {
        "id": "-0lF5MuvSuZF"
      },
      "source": [
        "##Exercise 5: \n",
        "\n",
        "Consider the effects of additional layers in the network. What will happen if you add another layer between the one with 512 and the final layer with 10. \n",
        "\n",
        " "
      ]
    },
    {
      "cell_type": "markdown",
      "source": [
        "Ans: There isn't a significant impact -- because this is relatively simple data. For far more complex data (including color images to be classified as flowers that you'll see in the next lesson), extra layers are often necessary."
      ],
      "metadata": {
        "id": "35hEBpWinONk"
      }
    },
    {
      "cell_type": "code",
      "metadata": {
        "id": "b1YPa6UhS8Es",
        "colab": {
          "base_uri": "https://localhost:8080/"
        },
        "outputId": "e0a5beae-fe46-43c3-c3da-5a0117588a7b"
      },
      "source": [
        "model = tf.keras.models.Sequential([tf.keras.layers.Flatten(),\n",
        "                                    tf.keras.layers.Dense(512, activation=tf.nn.relu),\n",
        "                                    tf.keras.layers.Dense(256, activation=tf.nn.relu),\n",
        "                                    tf.keras.layers.Dense(10, activation=tf.nn.softmax)])\n",
        "\n",
        "model.compile(optimizer = 'adam',\n",
        "              loss = 'sparse_categorical_crossentropy',metrics='accuracy')\n",
        "\n",
        "model.fit(training_images, training_labels, epochs=5)\n",
        "\n",
        "model.evaluate(test_images, test_labels)\n",
        "\n",
        "classifications = model.predict(test_images)\n",
        "\n",
        "print(classifications[0])\n",
        "print(test_labels[0])"
      ],
      "execution_count": 30,
      "outputs": [
        {
          "output_type": "stream",
          "name": "stdout",
          "text": [
            "Epoch 1/5\n",
            "1875/1875 [==============================] - 8s 4ms/step - loss: 0.4655 - accuracy: 0.8309\n",
            "Epoch 2/5\n",
            "1875/1875 [==============================] - 6s 3ms/step - loss: 0.3550 - accuracy: 0.8693\n",
            "Epoch 3/5\n",
            "1875/1875 [==============================] - 6s 3ms/step - loss: 0.3167 - accuracy: 0.8815\n",
            "Epoch 4/5\n",
            "1875/1875 [==============================] - 6s 3ms/step - loss: 0.2932 - accuracy: 0.8903\n",
            "Epoch 5/5\n",
            "1875/1875 [==============================] - 6s 3ms/step - loss: 0.2790 - accuracy: 0.8955\n",
            "313/313 [==============================] - 1s 3ms/step - loss: 0.3612 - accuracy: 0.8728\n",
            "[9.7675246e-09 1.2213401e-08 7.6826717e-10 9.1520175e-10 2.1716230e-10 1.7190879e-03 5.5153104e-09 1.0551560e-02 2.8819873e-09 9.8772931e-01]\n",
            "9\n"
          ]
        }
      ]
    },
    {
      "cell_type": "markdown",
      "metadata": {
        "id": "Bql9fyaNUSFy"
      },
      "source": [
        "#Exercise 6: \n",
        "\n",
        "Consider the impact of training for more or less epochs. Why do you think that would be the case? \n",
        "\n",
        "Try 15 epochs -- you'll probably get a model with a much better loss than the one with 5\n",
        "Try 30 epochs -- you might see the loss value stops decreasing, and sometimes increases. This is a side effect of something called 'overfitting' which you can learn about [somewhere] and it's something you need to keep an eye out for when training neural networks. There's no point in wasting your time training if you aren't improving your loss, right! :)"
      ]
    },
    {
      "cell_type": "code",
      "metadata": {
        "id": "uE3esj9BURQe",
        "colab": {
          "base_uri": "https://localhost:8080/"
        },
        "outputId": "358b130e-0058-492c-a13b-6985f4b7ff8f"
      },
      "source": [
        "model = tf.keras.models.Sequential([tf.keras.layers.Flatten(),\n",
        "                                    tf.keras.layers.Dense(128, activation=tf.nn.relu),\n",
        "                                    tf.keras.layers.Dense(10, activation=tf.nn.softmax)])\n",
        "\n",
        "model.compile(optimizer = 'adam',\n",
        "              loss = 'sparse_categorical_crossentropy',metrics='accuracy')\n",
        "\n",
        "model.fit(training_images, training_labels, epochs=30)\n",
        "\n",
        "model.evaluate(test_images, test_labels)\n",
        "\n",
        "classifications = model.predict(test_images)\n",
        "\n",
        "print(classifications[34])\n",
        "print(test_labels[34])"
      ],
      "execution_count": 31,
      "outputs": [
        {
          "output_type": "stream",
          "name": "stdout",
          "text": [
            "Epoch 1/30\n",
            "1875/1875 [==============================] - 5s 3ms/step - loss: 0.4999 - accuracy: 0.8252\n",
            "Epoch 2/30\n",
            "1875/1875 [==============================] - 5s 3ms/step - loss: 0.3766 - accuracy: 0.8657\n",
            "Epoch 3/30\n",
            "1875/1875 [==============================] - 5s 3ms/step - loss: 0.3355 - accuracy: 0.8769\n",
            "Epoch 4/30\n",
            "1875/1875 [==============================] - 5s 3ms/step - loss: 0.3122 - accuracy: 0.8850\n",
            "Epoch 5/30\n",
            "1875/1875 [==============================] - 5s 3ms/step - loss: 0.2943 - accuracy: 0.8898\n",
            "Epoch 6/30\n",
            "1875/1875 [==============================] - 5s 3ms/step - loss: 0.2771 - accuracy: 0.8983\n",
            "Epoch 7/30\n",
            "1875/1875 [==============================] - 5s 3ms/step - loss: 0.2666 - accuracy: 0.9012\n",
            "Epoch 8/30\n",
            "1875/1875 [==============================] - 5s 3ms/step - loss: 0.2564 - accuracy: 0.9046\n",
            "Epoch 9/30\n",
            "1875/1875 [==============================] - 5s 3ms/step - loss: 0.2459 - accuracy: 0.9079\n",
            "Epoch 10/30\n",
            "1875/1875 [==============================] - 5s 3ms/step - loss: 0.2372 - accuracy: 0.9121\n",
            "Epoch 11/30\n",
            "1875/1875 [==============================] - 5s 3ms/step - loss: 0.2305 - accuracy: 0.9148\n",
            "Epoch 12/30\n",
            "1875/1875 [==============================] - 5s 3ms/step - loss: 0.2239 - accuracy: 0.9168\n",
            "Epoch 13/30\n",
            "1875/1875 [==============================] - 5s 3ms/step - loss: 0.2137 - accuracy: 0.9192\n",
            "Epoch 14/30\n",
            "1875/1875 [==============================] - 5s 3ms/step - loss: 0.2102 - accuracy: 0.9198\n",
            "Epoch 15/30\n",
            "1875/1875 [==============================] - 5s 3ms/step - loss: 0.2042 - accuracy: 0.9239\n",
            "Epoch 16/30\n",
            "1875/1875 [==============================] - 5s 3ms/step - loss: 0.1985 - accuracy: 0.9258\n",
            "Epoch 17/30\n",
            "1875/1875 [==============================] - 5s 3ms/step - loss: 0.1955 - accuracy: 0.9273\n",
            "Epoch 18/30\n",
            "1875/1875 [==============================] - 5s 3ms/step - loss: 0.1875 - accuracy: 0.9291\n",
            "Epoch 19/30\n",
            "1875/1875 [==============================] - 5s 3ms/step - loss: 0.1833 - accuracy: 0.9308\n",
            "Epoch 20/30\n",
            "1875/1875 [==============================] - 5s 3ms/step - loss: 0.1817 - accuracy: 0.9320\n",
            "Epoch 21/30\n",
            "1875/1875 [==============================] - 5s 3ms/step - loss: 0.1744 - accuracy: 0.9341\n",
            "Epoch 22/30\n",
            "1875/1875 [==============================] - 5s 3ms/step - loss: 0.1733 - accuracy: 0.9349\n",
            "Epoch 23/30\n",
            "1875/1875 [==============================] - 5s 3ms/step - loss: 0.1672 - accuracy: 0.9365\n",
            "Epoch 24/30\n",
            "1875/1875 [==============================] - 5s 3ms/step - loss: 0.1633 - accuracy: 0.9382\n",
            "Epoch 25/30\n",
            "1875/1875 [==============================] - 5s 3ms/step - loss: 0.1618 - accuracy: 0.9399\n",
            "Epoch 26/30\n",
            "1875/1875 [==============================] - 5s 3ms/step - loss: 0.1549 - accuracy: 0.9416\n",
            "Epoch 27/30\n",
            "1875/1875 [==============================] - 5s 3ms/step - loss: 0.1523 - accuracy: 0.9426\n",
            "Epoch 28/30\n",
            "1875/1875 [==============================] - 5s 3ms/step - loss: 0.1504 - accuracy: 0.9434\n",
            "Epoch 29/30\n",
            "1875/1875 [==============================] - 5s 3ms/step - loss: 0.1463 - accuracy: 0.9448\n",
            "Epoch 30/30\n",
            "1875/1875 [==============================] - 5s 3ms/step - loss: 0.1424 - accuracy: 0.9467\n",
            "313/313 [==============================] - 1s 3ms/step - loss: 0.3965 - accuracy: 0.8884\n",
            "[9.0641453e-15 3.6437106e-31 1.5228392e-18 6.9139659e-24 1.9535172e-16 4.3235144e-09 1.2004333e-29 3.5741773e-30 1.0000000e+00 0.0000000e+00]\n",
            "8\n"
          ]
        }
      ]
    }
  ]
}