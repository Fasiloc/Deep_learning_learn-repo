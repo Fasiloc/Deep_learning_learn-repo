{
 "cells": [
  {
   "cell_type": "markdown",
   "id": "1046ff53",
   "metadata": {},
   "source": [
    "# Multilayer Perceptron using Keras - Breast Cancer Dataset\n"
   ]
  },
  {
   "cell_type": "markdown",
   "id": "afb14c8f",
   "metadata": {},
   "source": [
    "Problem :\n",
    "MLP for the breast cancer problem was previously solved using Scikit-Learn. Solve the same\n",
    "problem using Keras. Design an MLP model with one hidden layer and train the model with 80%\n",
    "data and evaluate it on 20% test set."
   ]
  },
  {
   "cell_type": "code",
   "execution_count": 7,
   "id": "e5e4f3c6",
   "metadata": {},
   "outputs": [],
   "source": [
    "import numpy as np\n",
    "import pandas as pd\n",
    "import matplotlib.pyplot as plt\n",
    "# Load the dataset from sklearn\n",
    "from sklearn.datasets import load_breast_cancer\n",
    "# Importing both TensorFlow and its high level API - Keras.\n",
    "import tensorflow as tf\n",
    "from tensorflow import keras\n",
    "# Setting the random seeds for repeatability\n",
    "tf.random.set_seed( 42 )\n",
    "np.random.seed( 42 )\n",
    "# Loading the dataset\n",
    "cancerDataset = load_breast_cancer()\n"
   ]
  },
  {
   "cell_type": "code",
   "execution_count": 6,
   "id": "1a2fa188",
   "metadata": {},
   "outputs": [
    {
     "name": "stdout",
     "output_type": "stream",
     "text": [
      "Model: \"sequential_1\"\n",
      "_________________________________________________________________\n",
      " Layer (type)                Output Shape              Param #   \n",
      "=================================================================\n",
      " dense_2 (Dense)             (None, 5)                 155       \n",
      "                                                                 \n",
      " dense_3 (Dense)             (None, 1)                 6         \n",
      "                                                                 \n",
      "=================================================================\n",
      "Total params: 161\n",
      "Trainable params: 161\n",
      "Non-trainable params: 0\n",
      "_________________________________________________________________\n"
     ]
    }
   ],
   "source": [
    "# Load the attributes and target in X and y\n",
    "X = cancerDataset.data\n",
    "y = cancerDataset.target\n",
    "# Split the data into 80% training and 20% testing\n",
    "from sklearn.model_selection import train_test_split\n",
    "X_train, X_test, y_train, y_test = train_test_split(X, y, test_size = 0.2 ,\n",
    "stratify = y, random_state = 42 )\n",
    "# Feature scaling using Standardization\n",
    "from sklearn.preprocessing import StandardScaler\n",
    "sc = StandardScaler()\n",
    "# Training the feature scaling parameters\n",
    "sc.fit(X_train)\n",
    "# Applying transformations to both training and testing set\n",
    "X_train_std = sc.transform(X_train)\n",
    "X_test_std = sc.transform(X_test)\n",
    "# Create neural network using keras API\n",
    "# Sequential() does linear stacking of layers\n",
    "model_MLP = keras.models.Sequential()\n",
    "# Hidden layer definitions\n",
    "model_MLP.add(keras.layers.Dense(units = 5 , activation = 'relu' ,\n",
    "input_shape = X_train.shape[ 1 :]))\n",
    "# Output layer definitions\n",
    "model_MLP.add(keras.layers.Dense(units = 1 , activation = 'sigmoid' ))\n",
    "# Print the summary of network architecture\n",
    "model_MLP.summary()"
   ]
  },
  {
   "cell_type": "code",
   "execution_count": 8,
   "id": "a097cf80",
   "metadata": {},
   "outputs": [
    {
     "name": "stdout",
     "output_type": "stream",
     "text": [
      "Epoch 1/50\n",
      "26/26 [==============================] - 2s 12ms/step - loss: 0.6557 - accuracy: 0.7311 - val_loss: 0.6398 - val_accuracy: 0.8261\n",
      "Epoch 2/50\n",
      "26/26 [==============================] - 0s 2ms/step - loss: 0.5570 - accuracy: 0.8386 - val_loss: 0.5439 - val_accuracy: 0.8043\n",
      "Epoch 3/50\n",
      "26/26 [==============================] - 0s 2ms/step - loss: 0.4823 - accuracy: 0.8875 - val_loss: 0.4769 - val_accuracy: 0.8478\n",
      "Epoch 4/50\n",
      "26/26 [==============================] - 0s 2ms/step - loss: 0.4206 - accuracy: 0.9120 - val_loss: 0.4172 - val_accuracy: 0.9130\n",
      "Epoch 5/50\n",
      "26/26 [==============================] - 0s 2ms/step - loss: 0.3666 - accuracy: 0.9340 - val_loss: 0.3667 - val_accuracy: 0.9130\n",
      "Epoch 6/50\n",
      "26/26 [==============================] - 0s 2ms/step - loss: 0.3197 - accuracy: 0.9560 - val_loss: 0.3243 - val_accuracy: 0.9348\n",
      "Epoch 7/50\n",
      "26/26 [==============================] - 0s 2ms/step - loss: 0.2785 - accuracy: 0.9560 - val_loss: 0.2897 - val_accuracy: 0.9565\n",
      "Epoch 8/50\n",
      "26/26 [==============================] - 0s 2ms/step - loss: 0.2449 - accuracy: 0.9584 - val_loss: 0.2611 - val_accuracy: 0.9565\n",
      "Epoch 9/50\n",
      "26/26 [==============================] - 0s 2ms/step - loss: 0.2173 - accuracy: 0.9633 - val_loss: 0.2381 - val_accuracy: 0.9565\n",
      "Epoch 10/50\n",
      "26/26 [==============================] - 0s 2ms/step - loss: 0.1941 - accuracy: 0.9633 - val_loss: 0.2190 - val_accuracy: 0.9565\n",
      "Epoch 11/50\n",
      "26/26 [==============================] - 0s 2ms/step - loss: 0.1754 - accuracy: 0.9682 - val_loss: 0.2024 - val_accuracy: 0.9565\n",
      "Epoch 12/50\n",
      "26/26 [==============================] - 0s 2ms/step - loss: 0.1597 - accuracy: 0.9707 - val_loss: 0.1902 - val_accuracy: 0.9565\n",
      "Epoch 13/50\n",
      "26/26 [==============================] - 0s 2ms/step - loss: 0.1463 - accuracy: 0.9731 - val_loss: 0.1783 - val_accuracy: 0.9565\n",
      "Epoch 14/50\n",
      "26/26 [==============================] - 0s 2ms/step - loss: 0.1355 - accuracy: 0.9731 - val_loss: 0.1689 - val_accuracy: 0.9565\n",
      "Epoch 15/50\n",
      "26/26 [==============================] - 0s 2ms/step - loss: 0.1262 - accuracy: 0.9756 - val_loss: 0.1602 - val_accuracy: 0.9565\n",
      "Epoch 16/50\n",
      "26/26 [==============================] - 0s 2ms/step - loss: 0.1185 - accuracy: 0.9756 - val_loss: 0.1541 - val_accuracy: 0.9565\n",
      "Epoch 17/50\n",
      "26/26 [==============================] - 0s 2ms/step - loss: 0.1119 - accuracy: 0.9780 - val_loss: 0.1475 - val_accuracy: 0.9565\n",
      "Epoch 18/50\n",
      "26/26 [==============================] - 0s 2ms/step - loss: 0.1063 - accuracy: 0.9780 - val_loss: 0.1410 - val_accuracy: 0.9565\n",
      "Epoch 19/50\n",
      "26/26 [==============================] - 0s 2ms/step - loss: 0.1009 - accuracy: 0.9756 - val_loss: 0.1360 - val_accuracy: 0.9565\n",
      "Epoch 20/50\n",
      "26/26 [==============================] - 0s 2ms/step - loss: 0.0964 - accuracy: 0.9756 - val_loss: 0.1302 - val_accuracy: 0.9565\n",
      "Epoch 21/50\n",
      "26/26 [==============================] - 0s 2ms/step - loss: 0.0924 - accuracy: 0.9829 - val_loss: 0.1255 - val_accuracy: 0.9565\n",
      "Epoch 22/50\n",
      "26/26 [==============================] - 0s 2ms/step - loss: 0.0888 - accuracy: 0.9829 - val_loss: 0.1214 - val_accuracy: 0.9565\n",
      "Epoch 23/50\n",
      "26/26 [==============================] - 0s 2ms/step - loss: 0.0854 - accuracy: 0.9829 - val_loss: 0.1177 - val_accuracy: 0.9565\n",
      "Epoch 24/50\n",
      "26/26 [==============================] - 0s 2ms/step - loss: 0.0827 - accuracy: 0.9829 - val_loss: 0.1148 - val_accuracy: 0.9565\n",
      "Epoch 25/50\n",
      "26/26 [==============================] - 0s 2ms/step - loss: 0.0801 - accuracy: 0.9829 - val_loss: 0.1111 - val_accuracy: 0.9565\n",
      "Epoch 26/50\n",
      "26/26 [==============================] - 0s 2ms/step - loss: 0.0778 - accuracy: 0.9829 - val_loss: 0.1075 - val_accuracy: 0.9565\n",
      "Epoch 27/50\n",
      "26/26 [==============================] - 0s 2ms/step - loss: 0.0758 - accuracy: 0.9829 - val_loss: 0.1041 - val_accuracy: 0.9565\n",
      "Epoch 28/50\n",
      "26/26 [==============================] - 0s 2ms/step - loss: 0.0739 - accuracy: 0.9853 - val_loss: 0.1024 - val_accuracy: 0.9565\n",
      "Epoch 29/50\n",
      "26/26 [==============================] - 0s 2ms/step - loss: 0.0719 - accuracy: 0.9829 - val_loss: 0.1002 - val_accuracy: 0.9565\n",
      "Epoch 30/50\n",
      "26/26 [==============================] - 0s 2ms/step - loss: 0.0704 - accuracy: 0.9829 - val_loss: 0.0990 - val_accuracy: 0.9565\n",
      "Epoch 31/50\n",
      "26/26 [==============================] - 0s 2ms/step - loss: 0.0688 - accuracy: 0.9853 - val_loss: 0.0957 - val_accuracy: 0.9565\n",
      "Epoch 32/50\n",
      "26/26 [==============================] - 0s 2ms/step - loss: 0.0675 - accuracy: 0.9853 - val_loss: 0.0932 - val_accuracy: 0.9565\n",
      "Epoch 33/50\n",
      "26/26 [==============================] - 0s 2ms/step - loss: 0.0662 - accuracy: 0.9853 - val_loss: 0.0922 - val_accuracy: 0.9565\n",
      "Epoch 34/50\n",
      "26/26 [==============================] - 0s 4ms/step - loss: 0.0651 - accuracy: 0.9853 - val_loss: 0.0916 - val_accuracy: 0.9565\n",
      "Epoch 35/50\n",
      "26/26 [==============================] - 0s 3ms/step - loss: 0.0640 - accuracy: 0.9853 - val_loss: 0.0900 - val_accuracy: 0.9565\n",
      "Epoch 36/50\n",
      "26/26 [==============================] - 0s 3ms/step - loss: 0.0631 - accuracy: 0.9853 - val_loss: 0.0886 - val_accuracy: 0.9565\n",
      "Epoch 37/50\n",
      "26/26 [==============================] - 0s 3ms/step - loss: 0.0619 - accuracy: 0.9853 - val_loss: 0.0863 - val_accuracy: 0.9565\n",
      "Epoch 38/50\n",
      "26/26 [==============================] - 0s 4ms/step - loss: 0.0611 - accuracy: 0.9878 - val_loss: 0.0846 - val_accuracy: 0.9565\n",
      "Epoch 39/50\n",
      "26/26 [==============================] - 0s 4ms/step - loss: 0.0603 - accuracy: 0.9878 - val_loss: 0.0830 - val_accuracy: 0.9565\n",
      "Epoch 40/50\n",
      "26/26 [==============================] - 0s 3ms/step - loss: 0.0595 - accuracy: 0.9878 - val_loss: 0.0829 - val_accuracy: 0.9565\n",
      "Epoch 41/50\n",
      "26/26 [==============================] - 0s 2ms/step - loss: 0.0586 - accuracy: 0.9878 - val_loss: 0.0818 - val_accuracy: 0.9565\n",
      "Epoch 42/50\n",
      "26/26 [==============================] - 0s 2ms/step - loss: 0.0579 - accuracy: 0.9878 - val_loss: 0.0793 - val_accuracy: 0.9565\n",
      "Epoch 43/50\n",
      "26/26 [==============================] - 0s 2ms/step - loss: 0.0573 - accuracy: 0.9878 - val_loss: 0.0786 - val_accuracy: 0.9565\n",
      "Epoch 44/50\n",
      "26/26 [==============================] - 0s 2ms/step - loss: 0.0566 - accuracy: 0.9878 - val_loss: 0.0781 - val_accuracy: 0.9565\n",
      "Epoch 45/50\n",
      "26/26 [==============================] - 0s 2ms/step - loss: 0.0559 - accuracy: 0.9878 - val_loss: 0.0771 - val_accuracy: 0.9565\n",
      "Epoch 46/50\n",
      "26/26 [==============================] - 0s 2ms/step - loss: 0.0553 - accuracy: 0.9878 - val_loss: 0.0760 - val_accuracy: 0.9783\n",
      "Epoch 47/50\n",
      "26/26 [==============================] - 0s 2ms/step - loss: 0.0547 - accuracy: 0.9878 - val_loss: 0.0762 - val_accuracy: 0.9783\n",
      "Epoch 48/50\n",
      "26/26 [==============================] - 0s 2ms/step - loss: 0.0542 - accuracy: 0.9878 - val_loss: 0.0757 - val_accuracy: 0.9783\n",
      "Epoch 49/50\n",
      "26/26 [==============================] - 0s 2ms/step - loss: 0.0537 - accuracy: 0.9878 - val_loss: 0.0748 - val_accuracy: 0.9783\n",
      "Epoch 50/50\n",
      "26/26 [==============================] - 0s 2ms/step - loss: 0.0533 - accuracy: 0.9878 - val_loss: 0.0733 - val_accuracy: 0.9783\n"
     ]
    },
    {
     "data": {
      "text/plain": [
       "<keras.callbacks.History at 0x16bcb4e7f40>"
      ]
     },
     "execution_count": 8,
     "metadata": {},
     "output_type": "execute_result"
    }
   ],
   "source": [
    "# Compile the network model with relevant configurations.\n",
    "# loss, optimizer and metrics are three important configurations.\n",
    "model_MLP.compile(loss = 'binary_crossentropy' , optimizer = 'adam' ,\n",
    "metrics = [ 'accuracy' ])\n",
    "\n",
    "\n",
    "# Train the network model with 80% training set.\n",
    "# During the training phase, 10% of the training data is\n",
    "# kept for internal validation.\n",
    "# The internal validation is useful for progressive evaluation.\n",
    "# epochs and batch_size are hyperparameters and they need to\n",
    "# be set depending on the problem.\n",
    "model_MLP.fit(x = X_train_std, y = y_train, validation_split = 0.1 ,\n",
    "epochs = 50 , batch_size = 16 )\n",
    "\n"
   ]
  },
  {
   "cell_type": "code",
   "execution_count": 9,
   "id": "5e66304a",
   "metadata": {},
   "outputs": [
    {
     "name": "stdout",
     "output_type": "stream",
     "text": [
      "4/4 [==============================] - 0s 1ms/step - loss: 0.0935 - accuracy: 0.9649\n",
      "0.09351303428411484 0.9649122953414917\n"
     ]
    },
    {
     "data": {
      "text/plain": [
       "99"
      ]
     },
     "execution_count": 9,
     "metadata": {},
     "output_type": "execute_result"
    }
   ],
   "source": [
    "# Evaluate the model with the 20% testing set.\n",
    "# The function to evaluate the model returns two values,\n",
    "# output loss, and the accuracy.\n",
    "test_loss, test_accuracy = model_MLP.evaluate(x = X_test_std, y = y_test)\n",
    "\n",
    "\n",
    "# Print the output loss and accuracy.\n",
    "# Depending on the computer used for evaluation,\n",
    "# the results might slightly vary.\n",
    "# The accuracy obtained can be close enough to what is obtained here.\n",
    "print (test_loss, test_accuracy)\n",
    "\n"
   ]
  },
  {
   "cell_type": "code",
   "execution_count": null,
   "id": "cf839e2a",
   "metadata": {},
   "outputs": [],
   "source": []
  }
 ],
 "metadata": {
  "kernelspec": {
   "display_name": "Python 3 (ipykernel)",
   "language": "python",
   "name": "python3"
  },
  "language_info": {
   "codemirror_mode": {
    "name": "ipython",
    "version": 3
   },
   "file_extension": ".py",
   "mimetype": "text/x-python",
   "name": "python",
   "nbconvert_exporter": "python",
   "pygments_lexer": "ipython3",
   "version": "3.9.7"
  }
 },
 "nbformat": 4,
 "nbformat_minor": 5
}
