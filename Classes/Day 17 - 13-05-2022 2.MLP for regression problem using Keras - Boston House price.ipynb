{
 "cells": [
  {
   "cell_type": "markdown",
   "id": "1ff46272",
   "metadata": {},
   "source": [
    "Problem:\n",
    "Use the Boston house price dataset from Sklearn and train an MLP model using Keras for\n",
    "regression tasks."
   ]
  },
  {
   "cell_type": "code",
   "execution_count": null,
   "id": "1e8a9110",
   "metadata": {},
   "outputs": [],
   "source": [
    "# MLP for regression problem using Keras - Boston House price\n",
    "# Use the Boston house price dataset from Sklearn and train an MLP model using Keras for regression tasks.\n",
    "import numpy as np\n",
    "import pandas as pd\n",
    "import matplotlib.pyplot as plt\n",
    "\n",
    "\n",
    "# Load the dataset from sklearn\n",
    "from sklearn.datasets import load_boston\n",
    "# Importing both TensorFlow and its high level API - Keras.\n",
    "import tensorflow as tf\n",
    "from tensorflow import keras\n",
    "# Setting the random seeds for repeatability\n",
    "tf.random.set_seed( 42 )\n",
    "np.random.seed( 42 )"
   ]
  },
  {
   "cell_type": "code",
   "execution_count": null,
   "id": "b190e44d",
   "metadata": {},
   "outputs": [],
   "source": [
    "# Loading the dataset\n",
    "bostonData = load_boston()\n",
    "# Load the attributes and target in X and y\n",
    "X = bostonData.data\n",
    "y = bostonData.target\n",
    "# Split the data into 80% training and 20% testing\n",
    "from sklearn.model_selection import train_test_split\n",
    "X_train, X_test, y_train, y_test = train_test_split(X, y, test_size = 0.2 ,\n",
    "random_state = 42 )\n",
    "# Feature scaling using Standardization\n",
    "from sklearn.preprocessing import StandardScaler\n",
    "sc = StandardScaler()\n",
    "# Training the feature scaling parameters\n",
    "sc.fit(X_train)\n",
    "# Applying transformations to both training and testing set\n",
    "X_train_std = sc.transform(X_train)\n",
    "X_test_std = sc.transform(X_test)"
   ]
  },
  {
   "cell_type": "code",
   "execution_count": null,
   "id": "8ab56e99",
   "metadata": {},
   "outputs": [],
   "source": [
    "# Create neural network using keras API\n",
    "# Sequential() does linear stacking of layers\n",
    "model_MLP = keras.models.Sequential()\n",
    "# Hidden layer definitions\n",
    "model_MLP.add(keras.layers.Dense(units = 5 , activation = 'relu' , input_shape =\n",
    "X_train.shape[ 1 :]))\n",
    "# Output layer definitions\n",
    "model_MLP.add(keras.layers.Dense(units = 1 , activation = 'linear' ))\n",
    "# Print the summary of network architecture\n",
    "model_MLP.summary()"
   ]
  },
  {
   "cell_type": "code",
   "execution_count": 6,
   "id": "f42bc31e",
   "metadata": {},
   "outputs": [
    {
     "name": "stdout",
     "output_type": "stream",
     "text": [
      "Epoch 1/50\n",
      "23/23 [==============================] - 1s 8ms/step - loss: 585.9751 - mae: 22.2766 - val_loss: 573.9869 - val_mae: 22.3889\n",
      "Epoch 2/50\n",
      "23/23 [==============================] - 0s 2ms/step - loss: 578.8970 - mae: 22.1367 - val_loss: 566.7336 - val_mae: 22.2414\n",
      "Epoch 3/50\n",
      "23/23 [==============================] - 0s 2ms/step - loss: 571.2408 - mae: 21.9847 - val_loss: 558.7571 - val_mae: 22.0799\n",
      "Epoch 4/50\n",
      "23/23 [==============================] - 0s 2ms/step - loss: 562.2769 - mae: 21.8079 - val_loss: 549.8475 - val_mae: 21.8988\n",
      "Epoch 5/50\n",
      "23/23 [==============================] - 0s 2ms/step - loss: 552.1899 - mae: 21.6033 - val_loss: 539.1479 - val_mae: 21.6851\n",
      "Epoch 6/50\n",
      "23/23 [==============================] - 0s 2ms/step - loss: 539.8142 - mae: 21.3497 - val_loss: 527.4505 - val_mae: 21.4438\n",
      "Epoch 7/50\n",
      "23/23 [==============================] - 0s 2ms/step - loss: 526.3196 - mae: 21.0691 - val_loss: 513.5968 - val_mae: 21.1551\n",
      "Epoch 8/50\n",
      "23/23 [==============================] - 0s 3ms/step - loss: 510.7781 - mae: 20.7501 - val_loss: 498.9816 - val_mae: 20.8429\n",
      "Epoch 9/50\n",
      "23/23 [==============================] - 0s 2ms/step - loss: 494.1844 - mae: 20.3923 - val_loss: 483.5582 - val_mae: 20.5079\n",
      "Epoch 10/50\n",
      "23/23 [==============================] - 0s 2ms/step - loss: 476.8793 - mae: 20.0144 - val_loss: 467.1661 - val_mae: 20.1435\n",
      "Epoch 11/50\n",
      "23/23 [==============================] - 0s 2ms/step - loss: 458.7351 - mae: 19.6118 - val_loss: 450.4703 - val_mae: 19.7618\n",
      "Epoch 12/50\n",
      "23/23 [==============================] - 0s 2ms/step - loss: 440.1609 - mae: 19.1852 - val_loss: 433.4920 - val_mae: 19.3631\n",
      "Epoch 13/50\n",
      "23/23 [==============================] - 0s 2ms/step - loss: 421.2878 - mae: 18.7358 - val_loss: 416.4074 - val_mae: 18.9473\n",
      "Epoch 14/50\n",
      "23/23 [==============================] - 0s 2ms/step - loss: 402.8719 - mae: 18.2779 - val_loss: 398.5750 - val_mae: 18.4992\n",
      "Epoch 15/50\n",
      "23/23 [==============================] - 0s 2ms/step - loss: 383.4998 - mae: 17.7848 - val_loss: 380.9514 - val_mae: 18.0449\n",
      "Epoch 16/50\n",
      "23/23 [==============================] - 0s 2ms/step - loss: 364.4659 - mae: 17.2812 - val_loss: 363.3768 - val_mae: 17.5795\n",
      "Epoch 17/50\n",
      "23/23 [==============================] - 0s 2ms/step - loss: 345.9153 - mae: 16.7729 - val_loss: 346.0646 - val_mae: 17.1014\n",
      "Epoch 18/50\n",
      "23/23 [==============================] - 0s 2ms/step - loss: 328.0005 - mae: 16.2510 - val_loss: 328.5804 - val_mae: 16.5957\n",
      "Epoch 19/50\n",
      "23/23 [==============================] - 0s 2ms/step - loss: 310.3240 - mae: 15.7258 - val_loss: 312.2576 - val_mae: 16.1036\n",
      "Epoch 20/50\n",
      "23/23 [==============================] - 0s 2ms/step - loss: 293.5186 - mae: 15.2013 - val_loss: 296.8102 - val_mae: 15.6180\n",
      "Epoch 21/50\n",
      "23/23 [==============================] - 0s 2ms/step - loss: 277.8598 - mae: 14.6943 - val_loss: 281.5627 - val_mae: 15.1137\n",
      "Epoch 22/50\n",
      "23/23 [==============================] - 0s 3ms/step - loss: 262.6828 - mae: 14.1914 - val_loss: 267.3920 - val_mae: 14.6198\n",
      "Epoch 23/50\n",
      "23/23 [==============================] - 0s 2ms/step - loss: 248.3983 - mae: 13.7033 - val_loss: 253.8509 - val_mae: 14.1488\n",
      "Epoch 24/50\n",
      "23/23 [==============================] - 0s 2ms/step - loss: 235.1006 - mae: 13.2230 - val_loss: 240.9199 - val_mae: 13.7158\n",
      "Epoch 25/50\n",
      "23/23 [==============================] - 0s 3ms/step - loss: 222.5687 - mae: 12.7850 - val_loss: 228.8437 - val_mae: 13.2891\n",
      "Epoch 26/50\n",
      "23/23 [==============================] - 0s 3ms/step - loss: 210.8641 - mae: 12.3508 - val_loss: 217.6228 - val_mae: 12.8741\n",
      "Epoch 27/50\n",
      "23/23 [==============================] - 0s 2ms/step - loss: 199.6393 - mae: 11.9462 - val_loss: 207.3496 - val_mae: 12.4741\n",
      "Epoch 28/50\n",
      "23/23 [==============================] - 0s 2ms/step - loss: 189.3928 - mae: 11.5503 - val_loss: 197.0981 - val_mae: 12.0631\n",
      "Epoch 29/50\n",
      "23/23 [==============================] - 0s 2ms/step - loss: 179.4602 - mae: 11.1776 - val_loss: 187.8802 - val_mae: 11.6683\n",
      "Epoch 30/50\n",
      "23/23 [==============================] - 0s 3ms/step - loss: 170.0865 - mae: 10.8175 - val_loss: 179.0064 - val_mae: 11.2913\n",
      "Epoch 31/50\n",
      "23/23 [==============================] - 0s 3ms/step - loss: 161.3784 - mae: 10.4948 - val_loss: 170.4764 - val_mae: 10.9110\n",
      "Epoch 32/50\n",
      "23/23 [==============================] - 0s 2ms/step - loss: 153.1455 - mae: 10.1833 - val_loss: 162.4804 - val_mae: 10.5429\n",
      "Epoch 33/50\n",
      "23/23 [==============================] - 0s 2ms/step - loss: 145.4338 - mae: 9.8780 - val_loss: 154.7148 - val_mae: 10.1763\n",
      "Epoch 34/50\n",
      "23/23 [==============================] - 0s 3ms/step - loss: 137.9930 - mae: 9.5796 - val_loss: 147.7478 - val_mae: 9.8507\n",
      "Epoch 35/50\n",
      "23/23 [==============================] - 0s 3ms/step - loss: 131.0454 - mae: 9.2979 - val_loss: 141.1564 - val_mae: 9.5355\n",
      "Epoch 36/50\n",
      "23/23 [==============================] - 0s 2ms/step - loss: 124.4493 - mae: 9.0200 - val_loss: 134.6556 - val_mae: 9.2456\n",
      "Epoch 37/50\n",
      "23/23 [==============================] - 0s 2ms/step - loss: 118.0865 - mae: 8.7458 - val_loss: 128.4880 - val_mae: 8.9649\n",
      "Epoch 38/50\n",
      "23/23 [==============================] - 0s 2ms/step - loss: 111.8517 - mae: 8.4856 - val_loss: 122.8360 - val_mae: 8.7007\n",
      "Epoch 39/50\n",
      "23/23 [==============================] - 0s 3ms/step - loss: 106.1294 - mae: 8.2265 - val_loss: 117.4473 - val_mae: 8.4631\n",
      "Epoch 40/50\n",
      "23/23 [==============================] - 0s 3ms/step - loss: 100.6273 - mae: 7.9805 - val_loss: 112.3633 - val_mae: 8.2369\n",
      "Epoch 41/50\n",
      "23/23 [==============================] - 0s 2ms/step - loss: 95.4699 - mae: 7.7391 - val_loss: 107.5853 - val_mae: 8.0215\n",
      "Epoch 42/50\n",
      "23/23 [==============================] - 0s 2ms/step - loss: 90.7256 - mae: 7.5016 - val_loss: 102.7253 - val_mae: 7.7896\n",
      "Epoch 43/50\n",
      "23/23 [==============================] - 0s 3ms/step - loss: 86.0097 - mae: 7.2658 - val_loss: 98.3585 - val_mae: 7.5799\n",
      "Epoch 44/50\n",
      "23/23 [==============================] - 0s 2ms/step - loss: 81.7127 - mae: 7.0508 - val_loss: 94.0848 - val_mae: 7.3617\n",
      "Epoch 45/50\n",
      "23/23 [==============================] - 0s 2ms/step - loss: 77.6367 - mae: 6.8411 - val_loss: 89.9829 - val_mae: 7.1549\n",
      "Epoch 46/50\n",
      "23/23 [==============================] - 0s 2ms/step - loss: 73.7403 - mae: 6.6410 - val_loss: 86.2540 - val_mae: 6.9636\n",
      "Epoch 47/50\n",
      "23/23 [==============================] - 0s 2ms/step - loss: 70.1441 - mae: 6.4517 - val_loss: 82.8213 - val_mae: 6.7841\n",
      "Epoch 48/50\n",
      "23/23 [==============================] - 0s 2ms/step - loss: 66.8646 - mae: 6.2758 - val_loss: 79.4998 - val_mae: 6.6000\n",
      "Epoch 49/50\n",
      "23/23 [==============================] - 0s 2ms/step - loss: 63.8081 - mae: 6.1031 - val_loss: 76.3608 - val_mae: 6.4391\n",
      "Epoch 50/50\n",
      "23/23 [==============================] - 0s 2ms/step - loss: 60.8476 - mae: 5.9510 - val_loss: 73.5240 - val_mae: 6.2851\n"
     ]
    },
    {
     "data": {
      "text/plain": [
       "<keras.callbacks.History at 0x13066e90d30>"
      ]
     },
     "execution_count": 6,
     "metadata": {},
     "output_type": "execute_result"
    }
   ],
   "source": [
    "# Compile the network model with relevant configurations.\n",
    "# loss, optimizer and metrics are three important configurations.\n",
    "model_MLP.compile(loss = 'mse' , optimizer = 'adam' , metrics = [ 'mae' ])\n",
    "\n",
    "\n",
    "# Train the network model with 80% training set.\n",
    "# During the training phase, 10% of the training data is\n",
    "# kept for internal validation.\n",
    "# The internal validation is useful for progressive evaluation.\n",
    "# epochs and batch_size are hyperparameters and they need to\n",
    "# be set depending on the problem.\n",
    "model_MLP.fit(x = X_train_std, y = y_train, validation_split = 0.1 ,\n",
    "epochs = 50 , batch_size = 16 )"
   ]
  },
  {
   "cell_type": "code",
   "execution_count": 7,
   "id": "e8184f84",
   "metadata": {},
   "outputs": [
    {
     "name": "stdout",
     "output_type": "stream",
     "text": [
      "4/4 [==============================] - 0s 1ms/step - loss: 58.3791 - mae: 5.6145\n",
      "58.379051208496094 5.614480972290039\n"
     ]
    }
   ],
   "source": [
    "test_loss, test_accuracy = model_MLP.evaluate(x = X_test_std, y = y_test)\n",
    "# Print the output loss and accuracy.\n",
    "# Depending on the computer used for evaluation,\n",
    "# the results might slightly vary.\n",
    "# The accuracy obtained can be close enough to what is obtained here\n",
    "print (test_loss, test_accuracy)"
   ]
  },
  {
   "cell_type": "markdown",
   "id": "a795ab0b",
   "metadata": {},
   "source": [
    "#Building a Regression MLP Using the Sequential API"
   ]
  },
  {
   "cell_type": "code",
   "execution_count": 1,
   "id": "e8a3a61e",
   "metadata": {},
   "outputs": [],
   "source": [
    "from sklearn.datasets import fetch_california_housing\n",
    "from sklearn.model_selection import train_test_split\n",
    "from sklearn.preprocessing import StandardScaler\n",
    "housing = fetch_california_housing()"
   ]
  },
  {
   "cell_type": "code",
   "execution_count": 2,
   "id": "05d055a8",
   "metadata": {},
   "outputs": [],
   "source": [
    "housing = fetch_california_housing()\n",
    "X_train_full, X_test, y_train_full, y_test = train_test_split(\n",
    "housing.data, housing.target)\n",
    "X_train, X_valid, y_train, y_valid = train_test_split(\n",
    "X_train_full, y_train_full)\n",
    "scaler = StandardScaler()\n",
    "X_train_scaled = scaler.fit_transform(X_train)\n",
    "X_valid_scaled = scaler.transform(X_valid)\n",
    "X_test_scaled = scaler.transform(X_test)"
   ]
  },
  {
   "cell_type": "code",
   "execution_count": 5,
   "id": "fab31804",
   "metadata": {},
   "outputs": [
    {
     "name": "stdout",
     "output_type": "stream",
     "text": [
      "Epoch 1/20\n",
      "363/363 [==============================] - 1s 1ms/step - loss: nan - val_loss: nan\n",
      "Epoch 2/20\n",
      "363/363 [==============================] - 0s 1ms/step - loss: nan - val_loss: nan\n",
      "Epoch 3/20\n",
      "363/363 [==============================] - 0s 1ms/step - loss: nan - val_loss: nan\n",
      "Epoch 4/20\n",
      "363/363 [==============================] - 0s 1ms/step - loss: nan - val_loss: nan\n",
      "Epoch 5/20\n",
      "363/363 [==============================] - 0s 1ms/step - loss: nan - val_loss: nan\n",
      "Epoch 6/20\n",
      "363/363 [==============================] - 0s 1ms/step - loss: nan - val_loss: nan\n",
      "Epoch 7/20\n",
      "363/363 [==============================] - 0s 1ms/step - loss: nan - val_loss: nan\n",
      "Epoch 8/20\n",
      "363/363 [==============================] - 0s 1ms/step - loss: nan - val_loss: nan\n",
      "Epoch 9/20\n",
      "363/363 [==============================] - 0s 1ms/step - loss: nan - val_loss: nan\n",
      "Epoch 10/20\n",
      "363/363 [==============================] - 0s 1ms/step - loss: nan - val_loss: nan\n",
      "Epoch 11/20\n",
      "363/363 [==============================] - 0s 1ms/step - loss: nan - val_loss: nan\n",
      "Epoch 12/20\n",
      "363/363 [==============================] - 0s 1ms/step - loss: nan - val_loss: nan\n",
      "Epoch 13/20\n",
      "363/363 [==============================] - 0s 1ms/step - loss: nan - val_loss: nan\n",
      "Epoch 14/20\n",
      "363/363 [==============================] - 0s 1ms/step - loss: nan - val_loss: nan\n",
      "Epoch 15/20\n",
      "363/363 [==============================] - 0s 1ms/step - loss: nan - val_loss: nan\n",
      "Epoch 16/20\n",
      "363/363 [==============================] - 0s 1ms/step - loss: nan - val_loss: nan\n",
      "Epoch 17/20\n",
      "363/363 [==============================] - 0s 1ms/step - loss: nan - val_loss: nan\n",
      "Epoch 18/20\n",
      "363/363 [==============================] - 0s 1ms/step - loss: nan - val_loss: nan\n",
      "Epoch 19/20\n",
      "363/363 [==============================] - 0s 1ms/step - loss: nan - val_loss: nan\n",
      "Epoch 20/20\n",
      "363/363 [==============================] - 0s 1ms/step - loss: nan - val_loss: nan\n",
      "162/162 [==============================] - 0s 837us/step - loss: nan\n"
     ]
    }
   ],
   "source": [
    "import tensorflow as tf\n",
    "from tensorflow import keras\n",
    "\n",
    "model = keras.models.Sequential([\n",
    "keras.layers.Dense(30, activation=\"relu\", input_shape=X_train.shape[1:]),\n",
    "keras.layers.Dense(1)\n",
    "])\n",
    "model.compile(loss=\"mean_squared_error\", optimizer=\"sgd\")\n",
    "history = model.fit(X_train, y_train, epochs=20,\n",
    "validation_data=(X_valid, y_valid))\n",
    "mse_test = model.evaluate(X_test, y_test)\n",
    "X_new = X_test[:3] # pretend these are new instances\n",
    "y_pred = model.predict(X_new)"
   ]
  },
  {
   "cell_type": "code",
   "execution_count": 2,
   "id": "01ee5d36",
   "metadata": {},
   "outputs": [
    {
     "name": "stderr",
     "output_type": "stream",
     "text": [
      "<>:5: SyntaxWarning: tuple indices must be integers or slices, not tuple; perhaps you missed a comma?\n",
      "<>:5: SyntaxWarning: tuple indices must be integers or slices, not tuple; perhaps you missed a comma?\n"
     ]
    },
    {
     "ename": "NameError",
     "evalue": "name 'keras' is not defined",
     "output_type": "error",
     "traceback": [
      "\u001b[1;31m---------------------------------------------------------------------------\u001b[0m",
      "\u001b[1;31mNameError\u001b[0m                                 Traceback (most recent call last)",
      "\u001b[1;32m~\\AppData\\Local\\Temp/ipykernel_8060/985480342.py\u001b[0m in \u001b[0;36m<module>\u001b[1;34m\u001b[0m\n\u001b[0;32m      1\u001b[0m \u001b[1;31m# Let’s build such a neural network to tackle the California housing problem:\u001b[0m\u001b[1;33m\u001b[0m\u001b[1;33m\u001b[0m\u001b[0m\n\u001b[1;32m----> 2\u001b[1;33m \u001b[0minput\u001b[0m \u001b[1;33m=\u001b[0m \u001b[0mkeras\u001b[0m\u001b[1;33m.\u001b[0m\u001b[0mlayers\u001b[0m\u001b[1;33m.\u001b[0m\u001b[0mInput\u001b[0m\u001b[1;33m(\u001b[0m\u001b[0mshape\u001b[0m\u001b[1;33m=\u001b[0m\u001b[0mX_train\u001b[0m\u001b[1;33m.\u001b[0m\u001b[0mshape\u001b[0m\u001b[1;33m[\u001b[0m\u001b[1;36m1\u001b[0m\u001b[1;33m:\u001b[0m\u001b[1;33m]\u001b[0m\u001b[1;33m)\u001b[0m\u001b[1;33m\u001b[0m\u001b[1;33m\u001b[0m\u001b[0m\n\u001b[0m\u001b[0;32m      3\u001b[0m \u001b[0mhidden1\u001b[0m \u001b[1;33m=\u001b[0m \u001b[0mkeras\u001b[0m\u001b[1;33m.\u001b[0m\u001b[0mlayers\u001b[0m\u001b[1;33m.\u001b[0m\u001b[0mDense\u001b[0m\u001b[1;33m(\u001b[0m\u001b[1;36m30\u001b[0m\u001b[1;33m,\u001b[0m \u001b[0mactivation\u001b[0m\u001b[1;33m=\u001b[0m\u001b[1;34m\"relu\"\u001b[0m\u001b[1;33m)\u001b[0m\u001b[1;33m(\u001b[0m\u001b[0minput\u001b[0m\u001b[1;33m)\u001b[0m\u001b[1;33m\u001b[0m\u001b[1;33m\u001b[0m\u001b[0m\n\u001b[0;32m      4\u001b[0m \u001b[0mhidden2\u001b[0m \u001b[1;33m=\u001b[0m \u001b[0mkeras\u001b[0m\u001b[1;33m.\u001b[0m\u001b[0mlayers\u001b[0m\u001b[1;33m.\u001b[0m\u001b[0mDense\u001b[0m\u001b[1;33m(\u001b[0m\u001b[1;36m30\u001b[0m\u001b[1;33m,\u001b[0m \u001b[0mactivation\u001b[0m\u001b[1;33m=\u001b[0m\u001b[1;34m\"relu\"\u001b[0m\u001b[1;33m)\u001b[0m\u001b[1;33m(\u001b[0m\u001b[0mhidden1\u001b[0m\u001b[1;33m)\u001b[0m\u001b[1;33m\u001b[0m\u001b[1;33m\u001b[0m\u001b[0m\n\u001b[0;32m      5\u001b[0m \u001b[0mconcat\u001b[0m \u001b[1;33m=\u001b[0m \u001b[0mkeras\u001b[0m\u001b[1;33m.\u001b[0m\u001b[0mlayers\u001b[0m\u001b[1;33m.\u001b[0m\u001b[0mConcatenate\u001b[0m\u001b[1;33m(\u001b[0m\u001b[1;33m(\u001b[0m\u001b[1;33m)\u001b[0m\u001b[1;33m[\u001b[0m\u001b[0mhidden1\u001b[0m\u001b[1;33m,\u001b[0m \u001b[0mhidden2\u001b[0m\u001b[1;33m]\u001b[0m\u001b[1;33m)\u001b[0m\u001b[1;33m\u001b[0m\u001b[1;33m\u001b[0m\u001b[0m\n",
      "\u001b[1;31mNameError\u001b[0m: name 'keras' is not defined"
     ]
    }
   ],
   "source": [
    "# Let’s build such a neural network to tackle the California housing problem:\n",
    "input = keras.layers.Input(shape=X_train.shape[1:])\n",
    "hidden1 = keras.layers.Dense(30, activation=\"relu\")(input)\n",
    "hidden2 = keras.layers.Dense(30, activation=\"relu\")(hidden1)\n",
    "concat = keras.layers.Concatenate(()[hidden1, hidden2])\n",
    "output = keras.layers.Dense(1)(concat)\n",
    "model = keras.models.Model(inputs=[input], outputs=[output])"
   ]
  },
  {
   "cell_type": "code",
   "execution_count": null,
   "id": "009af013",
   "metadata": {},
   "outputs": [],
   "source": []
  }
 ],
 "metadata": {
  "kernelspec": {
   "display_name": "Python 3 (ipykernel)",
   "language": "python",
   "name": "python3"
  },
  "language_info": {
   "codemirror_mode": {
    "name": "ipython",
    "version": 3
   },
   "file_extension": ".py",
   "mimetype": "text/x-python",
   "name": "python",
   "nbconvert_exporter": "python",
   "pygments_lexer": "ipython3",
   "version": "3.9.7"
  }
 },
 "nbformat": 4,
 "nbformat_minor": 5
}
