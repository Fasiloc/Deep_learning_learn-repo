{
 "cells": [
  {
   "cell_type": "code",
   "execution_count": 2,
   "id": "9c17cfc0",
   "metadata": {},
   "outputs": [],
   "source": [
    "import numpy as np\n",
    "import pandas as pd\n",
    "import matplotlib.pyplot as plt\n",
    "# Importing both TensorFlow and its high level API - Keras.\n",
    "import tensorflow as tf\n",
    "from tensorflow import keras\n",
    "# Setting the random seeds for repeatability\n",
    "tf.random.set_seed(42)\n",
    "np.random.seed(42)"
   ]
  },
  {
   "cell_type": "code",
   "execution_count": 3,
   "id": "181227f9",
   "metadata": {},
   "outputs": [
    {
     "name": "stdout",
     "output_type": "stream",
     "text": [
      "Shape of X_train:  (60000, 28, 28)\n",
      "Shape of X_test:  (10000, 28, 28)\n"
     ]
    },
    {
     "data": {
      "image/png": "[encoded data removed]",
      "text/plain": [
       "<Figure size 432x288 with 1 Axes>"
      ]
     },
     "metadata": {
      "needs_background": "light"
     },
     "output_type": "display_data"
    }
   ],
   "source": [
    "# Load MNIST database of handwritten digits\n",
    "mnistDB = keras.datasets.mnist\n",
    "# Training Dataset of 60,000 28x28 grayscale images of the 10 digits,\n",
    "# along with a test set of 10,000 images.\n",
    "(X_train, y_train),(X_test, y_test) = mnistDB.load_data()\n",
    "print(\"Shape of X_train: \", X_train.shape)\n",
    "# Shape of X_train: (60000, 28, 28)\n",
    "print(\"Shape of X_test: \", X_test.shape)\n",
    "# Shape of X_test: (10000, 28, 28)\n",
    "# We can view the dataset with matplotlib\n",
    "plt.imshow(X_train[1], cmap='binary')\n",
    "plt.show()"
   ]
  },
  {
   "cell_type": "code",
   "execution_count": 4,
   "id": "2fb362ca",
   "metadata": {},
   "outputs": [
    {
     "name": "stdout",
     "output_type": "stream",
     "text": [
      "Shape of X_train:  (60000, 784)\n",
      "Shape of X_test:  (10000, 784)\n"
     ]
    }
   ],
   "source": [
    "# All 60000 training images are converted to 1D representation.\n",
    "X_train = X_train.reshape((60000, 28*28))\n",
    "# The grayscale image pixels are unsigned values between 0 and 255.\n",
    "# These pixels need to be normalized to the range 0 to 1 for DNN.\n",
    "# So, the entire training data is converted to 32-bit float and then\n",
    "# divided with 255 to bring down the range to 0 to 1.\n",
    "X_train = X_train.astype('float32')/255\n",
    "# Similar operations are done to 10000 testing images.\n",
    "# Flattening 2D image to 1D representation.\n",
    "X_test = X_test.reshape((10000, 28*28))\n",
    "# Scale pixel values to range 0 to 1.\n",
    "X_test = X_test.astype('float32')/255\n",
    "# Check again the shape of both training and testing dataset.\n",
    "# Both are now 1D representations.\n",
    "print(\"Shape of X_train: \", X_train.shape)\n",
    "# Shape of X_train: (60000, 784)\n",
    "print(\"Shape of X_test: \", X_test.shape)\n",
    "# Shape of X_test: (10000, 784)"
   ]
  },
  {
   "cell_type": "code",
   "execution_count": 5,
   "id": "737ceb76",
   "metadata": {},
   "outputs": [
    {
     "name": "stdout",
     "output_type": "stream",
     "text": [
      "Model: \"sequential\"\n",
      "_________________________________________________________________\n",
      " Layer (type)                Output Shape              Param #   \n",
      "=================================================================\n",
      " dense (Dense)               (None, 50)                39250     \n",
      "                                                                 \n",
      " dense_1 (Dense)             (None, 30)                1530      \n",
      "                                                                 \n",
      " dense_2 (Dense)             (None, 10)                310       \n",
      "                                                                 \n",
      "=================================================================\n",
      "Total params: 41,090\n",
      "Trainable params: 41,090\n",
      "Non-trainable params: 0\n",
      "_________________________________________________________________\n"
     ]
    }
   ],
   "source": [
    "# Create neural network using keras API\n",
    "# Sequential() does linear stacking of layers\n",
    "dnnModel_MNIST = keras.models.Sequential()\n",
    "# Hidden layer definitions.\n",
    "# The input layer is defined together with\n",
    "# first hidden layer by specifying the input_shape.\n",
    "dnnModel_MNIST.add(keras.layers.Dense(50, activation=\"relu\",\n",
    "input_shape=X_train.shape[1:]))\n",
    "dnnModel_MNIST.add(keras.layers.Dense(30, activation=\"relu\"))\n",
    "# Output layer\n",
    "dnnModel_MNIST.add(keras.layers.Dense(10, activation=\"softmax\"))\n",
    "# Print the summary of network architecture\n",
    "dnnModel_MNIST.summary()"
   ]
  },
  {
   "cell_type": "code",
   "execution_count": 6,
   "id": "ef321fa0",
   "metadata": {},
   "outputs": [
    {
     "name": "stdout",
     "output_type": "stream",
     "text": [
      "{0, 1, 2, 3, 4, 5, 6, 7, 8, 9}\n",
      "Epoch 1/10\n",
      "3375/3375 [==============================] - 5s 1ms/step - loss: 0.2895 - accuracy: 0.9147 - val_loss: 0.1300 - val_accuracy: 0.9620\n",
      "Epoch 2/10\n",
      "3375/3375 [==============================] - 4s 1ms/step - loss: 0.1384 - accuracy: 0.9588 - val_loss: 0.1051 - val_accuracy: 0.9683\n",
      "Epoch 3/10\n",
      "3375/3375 [==============================] - 4s 1ms/step - loss: 0.1019 - accuracy: 0.9685 - val_loss: 0.1018 - val_accuracy: 0.9728\n",
      "Epoch 4/10\n",
      "3375/3375 [==============================] - 4s 1ms/step - loss: 0.0852 - accuracy: 0.9732 - val_loss: 0.1010 - val_accuracy: 0.9707\n",
      "Epoch 5/10\n",
      "3375/3375 [==============================] - 4s 1ms/step - loss: 0.0691 - accuracy: 0.9780 - val_loss: 0.0945 - val_accuracy: 0.9732\n",
      "Epoch 6/10\n",
      "3375/3375 [==============================] - 4s 1ms/step - loss: 0.0600 - accuracy: 0.9809 - val_loss: 0.1058 - val_accuracy: 0.9712\n",
      "Epoch 7/10\n",
      "3375/3375 [==============================] - 5s 1ms/step - loss: 0.0508 - accuracy: 0.9840 - val_loss: 0.1021 - val_accuracy: 0.9748\n",
      "Epoch 8/10\n",
      "3375/3375 [==============================] - 4s 1ms/step - loss: 0.0457 - accuracy: 0.9853 - val_loss: 0.1019 - val_accuracy: 0.9760\n",
      "Epoch 9/10\n",
      "3375/3375 [==============================] - 5s 1ms/step - loss: 0.0396 - accuracy: 0.9870 - val_loss: 0.1058 - val_accuracy: 0.9757\n",
      "Epoch 10/10\n",
      "3375/3375 [==============================] - 5s 1ms/step - loss: 0.0351 - accuracy: 0.9887 - val_loss: 0.1040 - val_accuracy: 0.9740\n"
     ]
    },
    {
     "data": {
      "text/plain": [
       "<keras.callbacks.History at 0x299488d6d30>"
      ]
     },
     "execution_count": 6,
     "metadata": {},
     "output_type": "execute_result"
    }
   ],
   "source": [
    "# Check the labels of the classes.\n",
    "# Since, they are numeric labels, we can safely go ahead.\n",
    "print(set(y_test))\n",
    "# {0, 1, 2, 3, 4, 5, 6, 7, 8, 9}\n",
    "# Compile the network model with relevant configurations.\n",
    "# loss, optimizer and metrics are three important configurations.\n",
    "dnnModel_MNIST.compile(loss='sparse_categorical_crossentropy',\n",
    "optimizer='adam', metrics=['accuracy'])\n",
    "# Train the network with 60000 training dataset\n",
    "# with 10% of them used a validation set.\n",
    "dnnModel_MNIST.fit(x=X_train, y=y_train, validation_split=0.1, epochs=10,\n",
    "batch_size=16)"
   ]
  },
  {
   "cell_type": "code",
   "execution_count": 8,
   "id": "6b6a1aef",
   "metadata": {},
   "outputs": [
    {
     "name": "stdout",
     "output_type": "stream",
     "text": [
      "313/313 [==============================] - 1s 1ms/step - loss: 0.1152 - accuracy: 0.9724\n",
      "0.11522817611694336 0.9724000096321106\n"
     ]
    }
   ],
   "source": [
    "# Evaluate the model with the 10000 testing image dataset.\n",
    "# The function to evaluate the model returns two values,\n",
    "# output loss, and the accuracy.\n",
    "test_loss, test_accuracy = dnnModel_MNIST.evaluate(x=X_test, y=y_test)\n",
    "# Print the output loss and accuracy.\n",
    "# Depending on the computer used for evaluation,\n",
    "# the results might slightly vary.\n",
    "# The accuracy obtained can be close enough to what is obtained here\n",
    "print(test_loss, test_accuracy)"
   ]
  },
  {
   "cell_type": "code",
   "execution_count": null,
   "id": "df5420b8",
   "metadata": {},
   "outputs": [],
   "source": []
  }
 ],
 "metadata": {
  "kernelspec": {
   "display_name": "Python 3 (ipykernel)",
   "language": "python",
   "name": "python3"
  },
  "language_info": {
   "codemirror_mode": {
    "name": "ipython",
    "version": 3
   },
   "file_extension": ".py",
   "mimetype": "text/x-python",
   "name": "python",
   "nbconvert_exporter": "python",
   "pygments_lexer": "ipython3",
   "version": "3.9.7"
  }
 },
 "nbformat": 4,
 "nbformat_minor": 5
}
