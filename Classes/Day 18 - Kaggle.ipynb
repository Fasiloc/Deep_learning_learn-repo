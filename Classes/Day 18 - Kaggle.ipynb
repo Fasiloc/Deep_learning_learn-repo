{
  "cells": [
    {
      "cell_type": "code",
      "execution_count": null,
      "metadata": {
        "id": "wAAF-TvjQ7gt"
      },
      "outputs": [],
      "source": [
        "!pip install -q kaggle"
      ]
    },
    {
      "cell_type": "code",
      "execution_count": null,
      "metadata": {
        "colab": {
          "base_uri": "https://localhost:8080/",
          "height": 91,
          "resources": {
            "http://localhost:8080/nbextensions/google.colab/files.js": {
              "data": "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",
              "headers": [
                [
                  "content-type",
                  "application/javascript"
                ]
              ],
              "ok": true,
              "status": 200,
              "status_text": ""
            }
          }
        },
        "id": "7KsH5108Rsaa",
        "outputId": "d40185d3-2b24-4eae-8cd9-bf27a9afb274"
      },
      "outputs": [
        {
          "data": {
            "text/html": [
              "\n",
              "     <input type=\"file\" id=\"files-627a9451-8a53-46c2-9b23-b985987f0e06\" name=\"files[]\" multiple disabled\n",
              "        style=\"border:none\" />\n",
              "     <output id=\"result-627a9451-8a53-46c2-9b23-b985987f0e06\">\n",
              "      Upload widget is only available when the cell has been executed in the\n",
              "      current browser session. Please rerun this cell to enable.\n",
              "      </output>\n",
              "      <script src=\"/nbextensions/google.colab/files.js\"></script> "
            ],
            "text/plain": [
              "<IPython.core.display.HTML object>"
            ]
          },
          "metadata": {},
          "output_type": "display_data"
        },
        {
          "name": "stdout",
          "output_type": "stream",
          "text": [
            "Saving kaggle.json to kaggle.json\n"
          ]
        },
        {
          "data": {
            "text/plain": [
              "{'kaggle.json': b'{\"username\":\"jeyakrishnan\",\"key\":\"072e4592a318da9f4a3f7927fa98fe2c\"}'}"
            ]
          },
          "execution_count": 2,
          "metadata": {},
          "output_type": "execute_result"
        }
      ],
      "source": [
        "from google.colab import files\n",
        "files.upload()"
      ]
    },
    {
      "cell_type": "code",
      "execution_count": null,
      "metadata": {
        "id": "kp_tWvBOR5b3"
      },
      "outputs": [],
      "source": [
        "! mkdir ~/.kaggle"
      ]
    },
    {
      "cell_type": "code",
      "execution_count": null,
      "metadata": {
        "id": "Wp14F202SFng"
      },
      "outputs": [],
      "source": [
        "#Copy the “kaggle.json” into this new directory\n",
        "\n",
        "! cp kaggle.json ~/.kaggle/"
      ]
    },
    {
      "cell_type": "code",
      "execution_count": null,
      "metadata": {
        "id": "mgIYyKkBSQb1"
      },
      "outputs": [],
      "source": [
        "#Allocate the required permission for this file.\n",
        "\n",
        "! chmod 600 ~/.kaggle/kaggle.json"
      ]
    },
    {
      "cell_type": "code",
      "execution_count": null,
      "metadata": {
        "colab": {
          "base_uri": "https://localhost:8080/"
        },
        "id": "O1_JhWsvSWt1",
        "outputId": "6da2a9b5-2b6a-42fb-c99b-c5b3a50d1ca8"
      },
      "outputs": [
        {
          "name": "stdout",
          "output_type": "stream",
          "text": [
            "ref                                                                            title                                             size  lastUpdated          downloadCount  voteCount  usabilityRating  \n",
            "-----------------------------------------------------------------------------  -----------------------------------------------  -----  -------------------  -------------  ---------  ---------------  \n",
            "datasets/muratkokludataset/acoustic-extinguisher-fire-dataset                  Acoustic Extinguisher Fire Dataset               621KB  2022-04-02 22:59:36           1188        779  0.9375           \n",
            "datasets/muratkokludataset/rice-image-dataset                                  Rice Image Dataset                               219MB  2022-04-03 02:12:00           1258        723  0.875            \n",
            "datasets/mdmahmudulhasansuzan/students-adaptability-level-in-online-education  Students Adaptability Level in Online Education    6KB  2022-04-16 04:46:28           4412        110  1.0              \n",
            "datasets/muratkokludataset/raisin-dataset                                      Raisin Dataset                                   112KB  2022-04-03 00:23:16            537        643  0.9375           \n",
            "datasets/muratkokludataset/pistachio-dataset                                   Pistachio Dataset                                  2MB  2022-04-03 08:38:21            547        662  0.9375           \n",
            "datasets/muratkokludataset/dry-bean-dataset                                    Dry Bean Dataset                                   5MB  2022-04-02 23:19:30            403        642  0.9375           \n",
            "datasets/muratkokludataset/pistachio-image-dataset                             Pistachio Image Dataset                           27MB  2022-03-28 18:01:27            460        706  0.9375           \n",
            "datasets/muratkokludataset/grapevine-leaves-image-dataset                      Grapevine Leaves Image Dataset                   109MB  2022-04-03 09:00:54            154        672  0.875            \n",
            "datasets/muratkokludataset/rice-msc-dataset                                    Rice MSC Dataset                                 102MB  2022-04-03 01:33:52            204        632  0.9375           \n",
            "datasets/muratkokludataset/pumpkin-seeds-dataset                               Pumpkin Seeds Dataset                            393KB  2022-03-28 18:28:16            494        640  0.9375           \n",
            "datasets/muratkokludataset/durum-wheat-dataset                                 Durum Wheat Dataset                              983MB  2022-04-03 00:02:29             97        646  0.875            \n",
            "datasets/muratkokludataset/rice-dataset-commeo-and-osmancik                    Rice Dataset Commeo and Osmancik                 524KB  2022-04-03 00:40:03            106        624  0.875            \n",
            "datasets/muhmores/spotify-top-100-songs-of-20152019                            Spotify Top 100 Songs of 2010-2019               139KB  2022-04-09 06:35:36           5076        106  0.88235295       \n",
            "datasets/rinichristy/covid19-coronavirus-pandemic                              COVID-19 Coronavirus Pandemic                      9KB  2022-04-05 08:43:16           3518         74  1.0              \n",
            "datasets/aslanahmedov/walmart-sales-forecast                                   Walmart Sales Forecast                             3MB  2022-04-21 05:28:20           2259         59  1.0              \n",
            "datasets/digvijaysinhgohil/covid19-data-deaths-and-vaccinations                Covid-19 Data Deaths and Vaccinations              2MB  2022-05-04 19:06:58            657         20  1.0              \n",
            "datasets/alexandrparkhomenko/top-apps-in-google-play                           Top Apps in Google Play                            3KB  2022-04-29 05:16:34            997         40  1.0              \n",
            "datasets/samuelcortinhas/credit-card-approval-clean-data                       Credit Card Approvals (Clean Data)                19KB  2022-04-25 15:52:35           1565         37  1.0              \n",
            "datasets/awsaf49/uwmgi-mask-dataset                                            UWMGI: Mask Dataset                               77MB  2022-04-24 17:46:47            616         39  0.7647059        \n",
            "datasets/alanjo/smartphone-processors-ranking                                  📱Smartphone Processors Ranking & Scores📊          11KB  2022-05-11 17:03:00            387         27  1.0              \n"
          ]
        }
      ],
      "source": [
        "# to list all datasets in kaagle\n",
        "!kaggle datasets list"
      ]
    },
    {
      "cell_type": "code",
      "execution_count": null,
      "metadata": {
        "colab": {
          "background_save": true,
          "base_uri": "https://localhost:8080/"
        },
        "id": "F7yLxBIYSp9f",
        "outputId": "bacf97c3-1885-41af-b51b-8c48d3b74370"
      },
      "outputs": [
        {
          "name": "stdout",
          "output_type": "stream",
          "text": [
            "Output file downloaded to /path/to/dest/data/test/food/1_0.jpg\n",
            "Output file downloaded to /path/to/dest/data/test/food/1_1.jpg\n",
            "Output file downloaded to /path/to/dest/data/test/food/1_10.jpg\n",
            "Output file downloaded to /path/to/dest/data/test/food/1_100.jpg\n",
            "Output file downloaded to /path/to/dest/data/test/food/1_101.jpg\n",
            "Output file downloaded to /path/to/dest/data/test/food/1_102.jpg\n",
            "Output file downloaded to /path/to/dest/data/test/food/1_103.jpg\n",
            "Output file downloaded to /path/to/dest/data/test/food/1_104.jpg\n",
            "Output file downloaded to /path/to/dest/data/test/food/1_105.jpg\n",
            "Output file downloaded to /path/to/dest/data/test/food/1_106.jpg\n",
            "Output file downloaded to /path/to/dest/data/test/food/1_107.jpg\n",
            "Output file downloaded to /path/to/dest/data/test/food/1_108.jpg\n",
            "Output file downloaded to /path/to/dest/data/test/food/1_109.jpg\n",
            "Output file downloaded to /path/to/dest/data/test/food/1_11.jpg\n",
            "Output file downloaded to /path/to/dest/data/test/food/1_110.jpg\n",
            "Output file downloaded to /path/to/dest/data/test/food/1_111.jpg\n",
            "Output file downloaded to /path/to/dest/data/test/food/1_112.jpg\n",
            "Output file downloaded to /path/to/dest/data/test/food/1_113.jpg\n",
            "Output file downloaded to /path/to/dest/data/test/food/1_114.jpg\n",
            "Output file downloaded to /path/to/dest/data/test/food/1_115.jpg\n",
            "Output file downloaded to /path/to/dest/data/test/food/1_116.jpg\n",
            "Output file downloaded to /path/to/dest/data/test/food/1_117.jpg\n",
            "Output file downloaded to /path/to/dest/data/test/food/1_118.jpg\n",
            "Output file downloaded to /path/to/dest/data/test/food/1_119.jpg\n",
            "Output file downloaded to /path/to/dest/data/test/food/1_12.jpg\n",
            "Output file downloaded to /path/to/dest/data/test/food/1_120.jpg\n",
            "Output file downloaded to /path/to/dest/data/test/food/1_121.jpg\n",
            "Output file downloaded to /path/to/dest/data/test/food/1_122.jpg\n",
            "Output file downloaded to /path/to/dest/data/test/food/1_123.jpg\n",
            "Output file downloaded to /path/to/dest/data/test/food/1_124.jpg\n",
            "Output file downloaded to /path/to/dest/data/test/food/1_125.jpg\n",
            "Output file downloaded to /path/to/dest/data/test/food/1_126.jpg\n",
            "Output file downloaded to /path/to/dest/data/test/food/1_127.jpg\n",
            "Output file downloaded to /path/to/dest/data/test/food/1_128.jpg\n",
            "Output file downloaded to /path/to/dest/data/test/food/1_129.jpg\n",
            "Output file downloaded to /path/to/dest/data/test/food/1_13.jpg\n",
            "Output file downloaded to /path/to/dest/data/test/food/1_130.jpg\n",
            "Output file downloaded to /path/to/dest/data/test/food/1_131.jpg\n",
            "Output file downloaded to /path/to/dest/data/test/food/1_132.jpg\n",
            "Output file downloaded to /path/to/dest/data/test/food/1_133.jpg\n",
            "Output file downloaded to /path/to/dest/data/test/food/1_134.jpg\n",
            "Output file downloaded to /path/to/dest/data/test/food/1_135.jpg\n",
            "Output file downloaded to /path/to/dest/data/test/food/1_136.jpg\n",
            "Output file downloaded to /path/to/dest/data/test/food/1_137.jpg\n",
            "Output file downloaded to /path/to/dest/data/test/food/1_138.jpg\n",
            "Output file downloaded to /path/to/dest/data/test/food/1_139.jpg\n",
            "Output file downloaded to /path/to/dest/data/test/food/1_14.jpg\n",
            "Output file downloaded to /path/to/dest/data/test/food/1_140.jpg\n",
            "Output file downloaded to /path/to/dest/data/test/food/1_141.jpg\n",
            "Output file downloaded to /path/to/dest/data/test/food/1_142.jpg\n",
            "Output file downloaded to /path/to/dest/data/test/food/1_143.jpg\n",
            "Output file downloaded to /path/to/dest/data/test/food/1_144.jpg\n",
            "Output file downloaded to /path/to/dest/data/test/food/1_145.jpg\n",
            "Output file downloaded to /path/to/dest/data/test/food/1_146.jpg\n",
            "Output file downloaded to /path/to/dest/data/test/food/1_147.jpg\n",
            "Output file downloaded to /path/to/dest/data/test/food/1_148.jpg\n",
            "Output file downloaded to /path/to/dest/data/test/food/1_149.jpg\n",
            "Output file downloaded to /path/to/dest/data/test/food/1_15.jpg\n",
            "Output file downloaded to /path/to/dest/data/test/food/1_150.jpg\n",
            "Output file downloaded to /path/to/dest/data/test/food/1_151.jpg\n",
            "Output file downloaded to /path/to/dest/data/test/food/1_152.jpg\n",
            "Output file downloaded to /path/to/dest/data/test/food/1_153.jpg\n",
            "Output file downloaded to /path/to/dest/data/test/food/1_154.jpg\n",
            "Output file downloaded to /path/to/dest/data/test/food/1_155.jpg\n",
            "Output file downloaded to /path/to/dest/data/test/food/1_156.jpg\n",
            "Output file downloaded to /path/to/dest/data/test/food/1_157.jpg\n",
            "Output file downloaded to /path/to/dest/data/test/food/1_158.jpg\n",
            "Output file downloaded to /path/to/dest/data/test/food/1_159.jpg\n",
            "Output file downloaded to /path/to/dest/data/test/food/1_16.jpg\n",
            "Output file downloaded to /path/to/dest/data/test/food/1_160.jpg\n",
            "Output file downloaded to /path/to/dest/data/test/food/1_161.jpg\n",
            "Output file downloaded to /path/to/dest/data/test/food/1_162.jpg\n",
            "Output file downloaded to /path/to/dest/data/test/food/1_163.jpg\n",
            "Output file downloaded to /path/to/dest/data/test/food/1_164.jpg\n",
            "Output file downloaded to /path/to/dest/data/test/food/1_165.jpg\n",
            "Output file downloaded to /path/to/dest/data/test/food/1_166.jpg\n",
            "Output file downloaded to /path/to/dest/data/test/food/1_167.jpg\n",
            "Output file downloaded to /path/to/dest/data/test/food/1_168.jpg\n",
            "Output file downloaded to /path/to/dest/data/test/food/1_169.jpg\n",
            "Output file downloaded to /path/to/dest/data/test/food/1_17.jpg\n",
            "Output file downloaded to /path/to/dest/data/test/food/1_170.jpg\n",
            "Output file downloaded to /path/to/dest/data/test/food/1_171.jpg\n",
            "Output file downloaded to /path/to/dest/data/test/food/1_172.jpg\n",
            "Output file downloaded to /path/to/dest/data/test/food/1_173.jpg\n",
            "Output file downloaded to /path/to/dest/data/test/food/1_174.jpg\n",
            "Output file downloaded to /path/to/dest/data/test/food/1_175.jpg\n",
            "Output file downloaded to /path/to/dest/data/test/food/1_176.jpg\n",
            "Output file downloaded to /path/to/dest/data/test/food/1_177.jpg\n",
            "Output file downloaded to /path/to/dest/data/test/food/1_178.jpg\n",
            "Output file downloaded to /path/to/dest/data/test/food/1_179.jpg\n",
            "Output file downloaded to /path/to/dest/data/test/food/1_18.jpg\n",
            "Output file downloaded to /path/to/dest/data/test/food/1_180.jpg\n",
            "Output file downloaded to /path/to/dest/data/test/food/1_181.jpg\n",
            "Output file downloaded to /path/to/dest/data/test/food/1_182.jpg\n",
            "Output file downloaded to /path/to/dest/data/test/food/1_183.jpg\n",
            "Output file downloaded to /path/to/dest/data/test/food/1_184.jpg\n",
            "Output file downloaded to /path/to/dest/data/test/food/1_185.jpg\n",
            "Output file downloaded to /path/to/dest/data/test/food/1_186.jpg\n",
            "Output file downloaded to /path/to/dest/data/test/food/1_187.jpg\n",
            "Output file downloaded to /path/to/dest/data/test/food/1_188.jpg\n",
            "Output file downloaded to /path/to/dest/data/test/food/1_189.jpg\n",
            "Output file downloaded to /path/to/dest/data/test/food/1_19.jpg\n",
            "Output file downloaded to /path/to/dest/data/test/food/1_190.jpg\n",
            "Output file downloaded to /path/to/dest/data/test/food/1_191.jpg\n",
            "Output file downloaded to /path/to/dest/data/test/food/1_192.jpg\n",
            "Output file downloaded to /path/to/dest/data/test/food/1_193.jpg\n",
            "Output file downloaded to /path/to/dest/data/test/food/1_194.jpg\n",
            "Output file downloaded to /path/to/dest/data/test/food/1_195.jpg\n",
            "Output file downloaded to /path/to/dest/data/test/food/1_196.jpg\n",
            "Output file downloaded to /path/to/dest/data/test/food/1_197.jpg\n",
            "Output file downloaded to /path/to/dest/data/test/food/1_198.jpg\n",
            "Output file downloaded to /path/to/dest/data/test/food/1_199.jpg\n",
            "Output file downloaded to /path/to/dest/data/test/food/1_2.jpg\n",
            "Output file downloaded to /path/to/dest/data/test/food/1_20.jpg\n",
            "Output file downloaded to /path/to/dest/data/test/food/1_200.jpg\n",
            "Output file downloaded to /path/to/dest/data/test/food/1_201.jpg\n",
            "Output file downloaded to /path/to/dest/data/test/food/1_202.jpg\n",
            "Output file downloaded to /path/to/dest/data/test/food/1_203.jpg\n",
            "Output file downloaded to /path/to/dest/data/test/food/1_204.jpg\n",
            "Output file downloaded to /path/to/dest/data/test/food/1_205.jpg\n",
            "Output file downloaded to /path/to/dest/data/test/food/1_206.jpg\n",
            "Output file downloaded to /path/to/dest/data/test/food/1_207.jpg\n",
            "Output file downloaded to /path/to/dest/data/test/food/1_208.jpg\n",
            "Output file downloaded to /path/to/dest/data/test/food/1_209.jpg\n",
            "Output file downloaded to /path/to/dest/data/test/food/1_21.jpg\n",
            "Output file downloaded to /path/to/dest/data/test/food/1_210.jpg\n",
            "Output file downloaded to /path/to/dest/data/test/food/1_211.jpg\n",
            "Output file downloaded to /path/to/dest/data/test/food/1_212.jpg\n",
            "Output file downloaded to /path/to/dest/data/test/food/1_213.jpg\n",
            "Output file downloaded to /path/to/dest/data/test/food/1_214.jpg\n",
            "Output file downloaded to /path/to/dest/data/test/food/1_215.jpg\n",
            "Output file downloaded to /path/to/dest/data/test/food/1_216.jpg\n",
            "Output file downloaded to /path/to/dest/data/test/food/1_217.jpg\n",
            "Output file downloaded to /path/to/dest/data/test/food/1_218.jpg\n",
            "Output file downloaded to /path/to/dest/data/test/food/1_219.jpg\n",
            "Output file downloaded to /path/to/dest/data/test/food/1_22.jpg\n",
            "Output file downloaded to /path/to/dest/data/test/food/1_220.jpg\n",
            "Output file downloaded to /path/to/dest/data/test/food/1_221.jpg\n",
            "Output file downloaded to /path/to/dest/data/test/food/1_222.jpg\n",
            "Output file downloaded to /path/to/dest/data/test/food/1_223.jpg\n",
            "Output file downloaded to /path/to/dest/data/test/food/1_224.jpg\n",
            "Output file downloaded to /path/to/dest/data/test/food/1_225.jpg\n",
            "Output file downloaded to /path/to/dest/data/test/food/1_226.jpg\n",
            "Output file downloaded to /path/to/dest/data/test/food/1_227.jpg\n",
            "Output file downloaded to /path/to/dest/data/test/food/1_228.jpg\n",
            "Output file downloaded to /path/to/dest/data/test/food/1_229.jpg\n",
            "Output file downloaded to /path/to/dest/data/test/food/1_23.jpg\n",
            "Output file downloaded to /path/to/dest/data/test/food/1_230.jpg\n",
            "Output file downloaded to /path/to/dest/data/test/food/1_231.jpg\n",
            "Output file downloaded to /path/to/dest/data/test/food/1_232.jpg\n",
            "Output file downloaded to /path/to/dest/data/test/food/1_233.jpg\n",
            "Output file downloaded to /path/to/dest/data/test/food/1_234.jpg\n",
            "Output file downloaded to /path/to/dest/data/test/food/1_235.jpg\n",
            "Output file downloaded to /path/to/dest/data/test/food/1_236.jpg\n",
            "Output file downloaded to /path/to/dest/data/test/food/1_237.jpg\n",
            "Output file downloaded to /path/to/dest/data/test/food/1_238.jpg\n",
            "Output file downloaded to /path/to/dest/data/test/food/1_239.jpg\n",
            "Output file downloaded to /path/to/dest/data/test/food/1_24.jpg\n",
            "Output file downloaded to /path/to/dest/data/test/food/1_240.jpg\n",
            "Output file downloaded to /path/to/dest/data/test/food/1_241.jpg\n",
            "Output file downloaded to /path/to/dest/data/test/food/1_242.jpg\n",
            "Output file downloaded to /path/to/dest/data/test/food/1_243.jpg\n",
            "Output file downloaded to /path/to/dest/data/test/food/1_244.jpg\n",
            "Output file downloaded to /path/to/dest/data/test/food/1_245.jpg\n",
            "Output file downloaded to /path/to/dest/data/test/food/1_246.jpg\n",
            "Output file downloaded to /path/to/dest/data/test/food/1_247.jpg\n",
            "Output file downloaded to /path/to/dest/data/test/food/1_248.jpg\n",
            "Output file downloaded to /path/to/dest/data/test/food/1_249.jpg\n",
            "Output file downloaded to /path/to/dest/data/test/food/1_25.jpg\n",
            "Output file downloaded to /path/to/dest/data/test/food/1_250.jpg\n",
            "Output file downloaded to /path/to/dest/data/test/food/1_251.jpg\n",
            "Output file downloaded to /path/to/dest/data/test/food/1_252.jpg\n",
            "Output file downloaded to /path/to/dest/data/test/food/1_253.jpg\n",
            "Output file downloaded to /path/to/dest/data/test/food/1_254.jpg\n",
            "Output file downloaded to /path/to/dest/data/test/food/1_255.jpg\n",
            "Output file downloaded to /path/to/dest/data/test/food/1_256.jpg\n",
            "Output file downloaded to /path/to/dest/data/test/food/1_257.jpg\n",
            "Output file downloaded to /path/to/dest/data/test/food/1_258.jpg\n",
            "Output file downloaded to /path/to/dest/data/test/food/1_259.jpg\n",
            "Output file downloaded to /path/to/dest/data/test/food/1_26.jpg\n",
            "Output file downloaded to /path/to/dest/data/test/food/1_260.jpg\n",
            "Output file downloaded to /path/to/dest/data/test/food/1_261.jpg\n",
            "Output file downloaded to /path/to/dest/data/test/food/1_262.jpg\n",
            "Output file downloaded to /path/to/dest/data/test/food/1_263.jpg\n",
            "Output file downloaded to /path/to/dest/data/test/food/1_264.jpg\n",
            "Output file downloaded to /path/to/dest/data/test/food/1_265.jpg\n",
            "Output file downloaded to /path/to/dest/data/test/food/1_266.jpg\n",
            "Output file downloaded to /path/to/dest/data/test/food/1_267.jpg\n",
            "Output file downloaded to /path/to/dest/data/test/food/1_268.jpg\n",
            "Output file downloaded to /path/to/dest/data/test/food/1_269.jpg\n",
            "Output file downloaded to /path/to/dest/data/test/food/1_27.jpg\n",
            "Output file downloaded to /path/to/dest/data/test/food/1_270.jpg\n",
            "Output file downloaded to /path/to/dest/data/test/food/1_271.jpg\n",
            "Output file downloaded to /path/to/dest/data/test/food/1_272.jpg\n",
            "Output file downloaded to /path/to/dest/data/test/food/1_273.jpg\n",
            "Output file downloaded to /path/to/dest/data/test/food/1_274.jpg\n",
            "Output file downloaded to /path/to/dest/data/test/food/1_275.jpg\n",
            "Output file downloaded to /path/to/dest/data/test/food/1_276.jpg\n",
            "Output file downloaded to /path/to/dest/data/test/food/1_277.jpg\n",
            "Output file downloaded to /path/to/dest/data/test/food/1_278.jpg\n",
            "Output file downloaded to /path/to/dest/data/test/food/1_279.jpg\n",
            "Output file downloaded to /path/to/dest/data/test/food/1_28.jpg\n",
            "Output file downloaded to /path/to/dest/data/test/food/1_280.jpg\n",
            "Output file downloaded to /path/to/dest/data/test/food/1_281.jpg\n",
            "Output file downloaded to /path/to/dest/data/test/food/1_282.jpg\n",
            "Output file downloaded to /path/to/dest/data/test/food/1_283.jpg\n",
            "Output file downloaded to /path/to/dest/data/test/food/1_284.jpg\n",
            "Output file downloaded to /path/to/dest/data/test/food/1_285.jpg\n",
            "Output file downloaded to /path/to/dest/data/test/food/1_286.jpg\n",
            "Output file downloaded to /path/to/dest/data/test/food/1_287.jpg\n",
            "Output file downloaded to /path/to/dest/data/test/food/1_288.jpg\n",
            "Output file downloaded to /path/to/dest/data/test/food/1_289.jpg\n",
            "Output file downloaded to /path/to/dest/data/test/food/1_29.jpg\n",
            "Output file downloaded to /path/to/dest/data/test/food/1_290.jpg\n",
            "Output file downloaded to /path/to/dest/data/test/food/1_291.jpg\n",
            "Output file downloaded to /path/to/dest/data/test/food/1_292.jpg\n",
            "Output file downloaded to /path/to/dest/data/test/food/1_293.jpg\n",
            "Output file downloaded to /path/to/dest/data/test/food/1_294.jpg\n",
            "Output file downloaded to /path/to/dest/data/test/food/1_295.jpg\n",
            "Output file downloaded to /path/to/dest/data/test/food/1_296.jpg\n",
            "Output file downloaded to /path/to/dest/data/test/food/1_297.jpg\n",
            "Output file downloaded to /path/to/dest/data/test/food/1_298.jpg\n",
            "Output file downloaded to /path/to/dest/data/test/food/1_299.jpg\n",
            "Output file downloaded to /path/to/dest/data/test/food/1_3.jpg\n",
            "Output file downloaded to /path/to/dest/data/test/food/1_30.jpg\n",
            "Output file downloaded to /path/to/dest/data/test/food/1_300.jpg\n",
            "Output file downloaded to /path/to/dest/data/test/food/1_301.jpg\n",
            "Output file downloaded to /path/to/dest/data/test/food/1_302.jpg\n",
            "Output file downloaded to /path/to/dest/data/test/food/1_303.jpg\n",
            "Output file downloaded to /path/to/dest/data/test/food/1_304.jpg\n",
            "Output file downloaded to /path/to/dest/data/test/food/1_305.jpg\n",
            "Output file downloaded to /path/to/dest/data/test/food/1_306.jpg\n",
            "Output file downloaded to /path/to/dest/data/test/food/1_307.jpg\n",
            "Output file downloaded to /path/to/dest/data/test/food/1_308.jpg\n",
            "Output file downloaded to /path/to/dest/data/test/food/1_309.jpg\n",
            "Output file downloaded to /path/to/dest/data/test/food/1_31.jpg\n",
            "Output file downloaded to /path/to/dest/data/test/food/1_310.jpg\n",
            "Output file downloaded to /path/to/dest/data/test/food/1_311.jpg\n",
            "Output file downloaded to /path/to/dest/data/test/food/1_312.jpg\n",
            "Output file downloaded to /path/to/dest/data/test/food/1_313.jpg\n",
            "Output file downloaded to /path/to/dest/data/test/food/1_314.jpg\n",
            "Output file downloaded to /path/to/dest/data/test/food/1_315.jpg\n",
            "Output file downloaded to /path/to/dest/data/test/food/1_316.jpg\n",
            "Output file downloaded to /path/to/dest/data/test/food/1_317.jpg\n",
            "Output file downloaded to /path/to/dest/data/test/food/1_318.jpg\n",
            "Output file downloaded to /path/to/dest/data/test/food/1_319.jpg\n",
            "Output file downloaded to /path/to/dest/data/test/food/1_32.jpg\n",
            "Output file downloaded to /path/to/dest/data/test/food/1_320.jpg\n",
            "Output file downloaded to /path/to/dest/data/test/food/1_321.jpg\n",
            "Output file downloaded to /path/to/dest/data/test/food/1_322.jpg\n",
            "Output file downloaded to /path/to/dest/data/test/food/1_323.jpg\n",
            "Output file downloaded to /path/to/dest/data/test/food/1_324.jpg\n",
            "Output file downloaded to /path/to/dest/data/test/food/1_325.jpg\n",
            "Output file downloaded to /path/to/dest/data/test/food/1_326.jpg\n",
            "Output file downloaded to /path/to/dest/data/test/food/1_327.jpg\n",
            "Output file downloaded to /path/to/dest/data/test/food/1_328.jpg\n",
            "Output file downloaded to /path/to/dest/data/test/food/1_329.jpg\n",
            "Output file downloaded to /path/to/dest/data/test/food/1_33.jpg\n",
            "Output file downloaded to /path/to/dest/data/test/food/1_330.jpg\n",
            "Output file downloaded to /path/to/dest/data/test/food/1_331.jpg\n",
            "Output file downloaded to /path/to/dest/data/test/food/1_332.jpg\n",
            "Output file downloaded to /path/to/dest/data/test/food/1_333.jpg\n",
            "Output file downloaded to /path/to/dest/data/test/food/1_334.jpg\n",
            "Output file downloaded to /path/to/dest/data/test/food/1_335.jpg\n",
            "Output file downloaded to /path/to/dest/data/test/food/1_336.jpg\n",
            "Output file downloaded to /path/to/dest/data/test/food/1_337.jpg\n",
            "Output file downloaded to /path/to/dest/data/test/food/1_338.jpg\n",
            "Output file downloaded to /path/to/dest/data/test/food/1_339.jpg\n",
            "Output file downloaded to /path/to/dest/data/test/food/1_34.jpg\n",
            "Output file downloaded to /path/to/dest/data/test/food/1_340.jpg\n",
            "Output file downloaded to /path/to/dest/data/test/food/1_341.jpg\n",
            "Output file downloaded to /path/to/dest/data/test/food/1_342.jpg\n",
            "Output file downloaded to /path/to/dest/data/test/food/1_343.jpg\n",
            "Output file downloaded to /path/to/dest/data/test/food/1_344.jpg\n",
            "Output file downloaded to /path/to/dest/data/test/food/1_345.jpg\n",
            "Output file downloaded to /path/to/dest/data/test/food/1_346.jpg\n",
            "Output file downloaded to /path/to/dest/data/test/food/1_347.jpg\n",
            "Output file downloaded to /path/to/dest/data/test/food/1_348.jpg\n",
            "Output file downloaded to /path/to/dest/data/test/food/1_349.jpg\n",
            "Output file downloaded to /path/to/dest/data/test/food/1_35.jpg\n",
            "Output file downloaded to /path/to/dest/data/test/food/1_350.jpg\n",
            "Output file downloaded to /path/to/dest/data/test/food/1_351.jpg\n",
            "Output file downloaded to /path/to/dest/data/test/food/1_352.jpg\n",
            "Output file downloaded to /path/to/dest/data/test/food/1_353.jpg\n",
            "Output file downloaded to /path/to/dest/data/test/food/1_354.jpg\n",
            "Output file downloaded to /path/to/dest/data/test/food/1_355.jpg\n",
            "Output file downloaded to /path/to/dest/data/test/food/1_356.jpg\n",
            "Output file downloaded to /path/to/dest/data/test/food/1_357.jpg\n",
            "Output file downloaded to /path/to/dest/data/test/food/1_358.jpg\n",
            "Output file downloaded to /path/to/dest/data/test/food/1_359.jpg\n",
            "Output file downloaded to /path/to/dest/data/test/food/1_36.jpg\n",
            "Output file downloaded to /path/to/dest/data/test/food/1_360.jpg\n",
            "Output file downloaded to /path/to/dest/data/test/food/1_361.jpg\n",
            "Output file downloaded to /path/to/dest/data/test/food/1_362.jpg\n",
            "Output file downloaded to /path/to/dest/data/test/food/1_363.jpg\n",
            "Output file downloaded to /path/to/dest/data/test/food/1_364.jpg\n",
            "Output file downloaded to /path/to/dest/data/test/food/1_365.jpg\n",
            "Output file downloaded to /path/to/dest/data/test/food/1_366.jpg\n",
            "Output file downloaded to /path/to/dest/data/test/food/1_367.jpg\n",
            "Output file downloaded to /path/to/dest/data/test/food/1_368.jpg\n",
            "Output file downloaded to /path/to/dest/data/test/food/1_369.jpg\n",
            "Output file downloaded to /path/to/dest/data/test/food/1_37.jpg\n",
            "Output file downloaded to /path/to/dest/data/test/food/1_370.jpg\n",
            "Output file downloaded to /path/to/dest/data/test/food/1_371.jpg\n",
            "Output file downloaded to /path/to/dest/data/test/food/1_372.jpg\n",
            "Output file downloaded to /path/to/dest/data/test/food/1_373.jpg\n",
            "Output file downloaded to /path/to/dest/data/test/food/1_374.jpg\n",
            "Output file downloaded to /path/to/dest/data/test/food/1_375.jpg\n",
            "Output file downloaded to /path/to/dest/data/test/food/1_376.jpg\n",
            "Output file downloaded to /path/to/dest/data/test/food/1_377.jpg\n",
            "Output file downloaded to /path/to/dest/data/test/food/1_378.jpg\n",
            "Output file downloaded to /path/to/dest/data/test/food/1_379.jpg\n",
            "Output file downloaded to /path/to/dest/data/test/food/1_38.jpg\n",
            "Output file downloaded to /path/to/dest/data/test/food/1_380.jpg\n",
            "Output file downloaded to /path/to/dest/data/test/food/1_381.jpg\n",
            "Output file downloaded to /path/to/dest/data/test/food/1_382.jpg\n",
            "Output file downloaded to /path/to/dest/data/test/food/1_383.jpg\n",
            "Output file downloaded to /path/to/dest/data/test/food/1_384.jpg\n",
            "Output file downloaded to /path/to/dest/data/test/food/1_385.jpg\n",
            "Output file downloaded to /path/to/dest/data/test/food/1_386.jpg\n",
            "Output file downloaded to /path/to/dest/data/test/food/1_387.jpg\n",
            "Output file downloaded to /path/to/dest/data/test/food/1_388.jpg\n",
            "Output file downloaded to /path/to/dest/data/test/food/1_389.jpg\n",
            "Output file downloaded to /path/to/dest/data/test/food/1_39.jpg\n",
            "Output file downloaded to /path/to/dest/data/test/food/1_390.jpg\n",
            "Output file downloaded to /path/to/dest/data/test/food/1_391.jpg\n",
            "Output file downloaded to /path/to/dest/data/test/food/1_392.jpg\n",
            "Output file downloaded to /path/to/dest/data/test/food/1_393.jpg\n",
            "Output file downloaded to /path/to/dest/data/test/food/1_394.jpg\n",
            "Output file downloaded to /path/to/dest/data/test/food/1_395.jpg\n",
            "Output file downloaded to /path/to/dest/data/test/food/1_396.jpg\n",
            "Output file downloaded to /path/to/dest/data/test/food/1_397.jpg\n",
            "Output file downloaded to /path/to/dest/data/test/food/1_398.jpg\n",
            "Output file downloaded to /path/to/dest/data/test/food/1_399.jpg\n",
            "Output file downloaded to /path/to/dest/data/test/food/1_4.jpg\n",
            "Output file downloaded to /path/to/dest/data/test/food/1_40.jpg\n",
            "Output file downloaded to /path/to/dest/data/test/food/1_400.jpg\n",
            "Output file downloaded to /path/to/dest/data/test/food/1_401.jpg\n",
            "Output file downloaded to /path/to/dest/data/test/food/1_402.jpg\n",
            "Output file downloaded to /path/to/dest/data/test/food/1_403.jpg\n",
            "Output file downloaded to /path/to/dest/data/test/food/1_404.jpg\n",
            "Output file downloaded to /path/to/dest/data/test/food/1_405.jpg\n",
            "Output file downloaded to /path/to/dest/data/test/food/1_406.jpg\n",
            "Output file downloaded to /path/to/dest/data/test/food/1_407.jpg\n",
            "Output file downloaded to /path/to/dest/data/test/food/1_408.jpg\n",
            "Output file downloaded to /path/to/dest/data/test/food/1_409.jpg\n",
            "Output file downloaded to /path/to/dest/data/test/food/1_41.jpg\n",
            "Output file downloaded to /path/to/dest/data/test/food/1_410.jpg\n",
            "Output file downloaded to /path/to/dest/data/test/food/1_411.jpg\n",
            "Output file downloaded to /path/to/dest/data/test/food/1_412.jpg\n",
            "Output file downloaded to /path/to/dest/data/test/food/1_413.jpg\n",
            "Output file downloaded to /path/to/dest/data/test/food/1_414.jpg\n",
            "Output file downloaded to /path/to/dest/data/test/food/1_415.jpg\n",
            "Output file downloaded to /path/to/dest/data/test/food/1_416.jpg\n",
            "Output file downloaded to /path/to/dest/data/test/food/1_417.jpg\n",
            "Output file downloaded to /path/to/dest/data/test/food/1_418.jpg\n",
            "Output file downloaded to /path/to/dest/data/test/food/1_419.jpg\n",
            "Output file downloaded to /path/to/dest/data/test/food/1_42.jpg\n",
            "Output file downloaded to /path/to/dest/data/test/food/1_420.jpg\n",
            "Output file downloaded to /path/to/dest/data/test/food/1_421.jpg\n",
            "Output file downloaded to /path/to/dest/data/test/food/1_422.jpg\n",
            "Output file downloaded to /path/to/dest/data/test/food/1_423.jpg\n",
            "Output file downloaded to /path/to/dest/data/test/food/1_424.jpg\n",
            "Output file downloaded to /path/to/dest/data/test/food/1_425.jpg\n",
            "Output file downloaded to /path/to/dest/data/test/food/1_426.jpg\n",
            "Output file downloaded to /path/to/dest/data/test/food/1_427.jpg\n",
            "Output file downloaded to /path/to/dest/data/test/food/1_428.jpg\n",
            "Output file downloaded to /path/to/dest/data/test/food/1_429.jpg\n",
            "Output file downloaded to /path/to/dest/data/test/food/1_43.jpg\n",
            "Output file downloaded to /path/to/dest/data/test/food/1_430.jpg\n",
            "Output file downloaded to /path/to/dest/data/test/food/1_431.jpg\n",
            "Output file downloaded to /path/to/dest/data/test/food/1_432.jpg\n",
            "Output file downloaded to /path/to/dest/data/test/food/1_433.jpg\n",
            "Output file downloaded to /path/to/dest/data/test/food/1_434.jpg\n",
            "Output file downloaded to /path/to/dest/data/test/food/1_435.jpg\n",
            "Output file downloaded to /path/to/dest/data/test/food/1_436.jpg\n",
            "Output file downloaded to /path/to/dest/data/test/food/1_437.jpg\n",
            "Output file downloaded to /path/to/dest/data/test/food/1_438.jpg\n",
            "Output file downloaded to /path/to/dest/data/test/food/1_439.jpg\n",
            "Output file downloaded to /path/to/dest/data/test/food/1_44.jpg\n",
            "Output file downloaded to /path/to/dest/data/test/food/1_440.jpg\n",
            "Output file downloaded to /path/to/dest/data/test/food/1_441.jpg\n",
            "Output file downloaded to /path/to/dest/data/test/food/1_442.jpg\n",
            "Output file downloaded to /path/to/dest/data/test/food/1_443.jpg\n",
            "Output file downloaded to /path/to/dest/data/test/food/1_444.jpg\n",
            "Output file downloaded to /path/to/dest/data/test/food/1_445.jpg\n",
            "Output file downloaded to /path/to/dest/data/test/food/1_446.jpg\n",
            "Output file downloaded to /path/to/dest/data/test/food/1_447.jpg\n",
            "Output file downloaded to /path/to/dest/data/test/food/1_448.jpg\n",
            "Output file downloaded to /path/to/dest/data/test/food/1_449.jpg\n",
            "Output file downloaded to /path/to/dest/data/test/food/1_45.jpg\n",
            "Output file downloaded to /path/to/dest/data/test/food/1_450.jpg\n",
            "Output file downloaded to /path/to/dest/data/test/food/1_451.jpg\n",
            "Output file downloaded to /path/to/dest/data/test/food/1_452.jpg\n",
            "Output file downloaded to /path/to/dest/data/test/food/1_453.jpg\n",
            "Output file downloaded to /path/to/dest/data/test/food/1_454.jpg\n",
            "Output file downloaded to /path/to/dest/data/test/food/1_455.jpg\n",
            "Output file downloaded to /path/to/dest/data/test/food/1_456.jpg\n",
            "Output file downloaded to /path/to/dest/data/test/food/1_457.jpg\n",
            "Output file downloaded to /path/to/dest/data/test/food/1_458.jpg\n",
            "Output file downloaded to /path/to/dest/data/test/food/1_459.jpg\n",
            "Output file downloaded to /path/to/dest/data/test/food/1_46.jpg\n",
            "Output file downloaded to /path/to/dest/data/test/food/1_460.jpg\n",
            "Output file downloaded to /path/to/dest/data/test/food/1_461.jpg\n",
            "Output file downloaded to /path/to/dest/data/test/food/1_462.jpg\n",
            "Output file downloaded to /path/to/dest/data/test/food/1_463.jpg\n",
            "Output file downloaded to /path/to/dest/data/test/food/1_464.jpg\n",
            "Output file downloaded to /path/to/dest/data/test/food/1_465.jpg\n",
            "Output file downloaded to /path/to/dest/data/test/food/1_466.jpg\n",
            "Output file downloaded to /path/to/dest/data/test/food/1_467.jpg\n",
            "Output file downloaded to /path/to/dest/data/test/food/1_468.jpg\n",
            "Output file downloaded to /path/to/dest/data/test/food/1_469.jpg\n",
            "Output file downloaded to /path/to/dest/data/test/food/1_47.jpg\n",
            "Output file downloaded to /path/to/dest/data/test/food/1_470.jpg\n",
            "Output file downloaded to /path/to/dest/data/test/food/1_471.jpg\n",
            "Output file downloaded to /path/to/dest/data/test/food/1_472.jpg\n",
            "Output file downloaded to /path/to/dest/data/test/food/1_473.jpg\n",
            "Output file downloaded to /path/to/dest/data/test/food/1_474.jpg\n",
            "Output file downloaded to /path/to/dest/data/test/food/1_475.jpg\n",
            "Output file downloaded to /path/to/dest/data/test/food/1_476.jpg\n",
            "Output file downloaded to /path/to/dest/data/test/food/1_477.jpg\n",
            "Output file downloaded to /path/to/dest/data/test/food/1_478.jpg\n",
            "Output file downloaded to /path/to/dest/data/test/food/1_479.jpg\n",
            "Output file downloaded to /path/to/dest/data/test/food/1_48.jpg\n",
            "Output file downloaded to /path/to/dest/data/test/food/1_480.jpg\n",
            "Output file downloaded to /path/to/dest/data/test/food/1_481.jpg\n",
            "Output file downloaded to /path/to/dest/data/test/food/1_482.jpg\n",
            "Output file downloaded to /path/to/dest/data/test/food/1_483.jpg\n",
            "Output file downloaded to /path/to/dest/data/test/food/1_484.jpg\n",
            "Output file downloaded to /path/to/dest/data/test/food/1_485.jpg\n",
            "Output file downloaded to /path/to/dest/data/test/food/1_486.jpg\n",
            "Output file downloaded to /path/to/dest/data/test/food/1_487.jpg\n",
            "Output file downloaded to /path/to/dest/data/test/food/1_488.jpg\n",
            "Output file downloaded to /path/to/dest/data/test/food/1_489.jpg\n",
            "Output file downloaded to /path/to/dest/data/test/food/1_49.jpg\n",
            "Output file downloaded to /path/to/dest/data/test/food/1_490.jpg\n",
            "Output file downloaded to /path/to/dest/data/test/food/1_491.jpg\n",
            "Output file downloaded to /path/to/dest/data/test/food/1_492.jpg\n",
            "Output file downloaded to /path/to/dest/data/test/food/1_493.jpg\n",
            "Output file downloaded to /path/to/dest/data/test/food/1_494.jpg\n",
            "Output file downloaded to /path/to/dest/data/test/food/1_495.jpg\n",
            "Output file downloaded to /path/to/dest/data/test/food/1_496.jpg\n",
            "Output file downloaded to /path/to/dest/data/test/food/1_497.jpg\n",
            "Output file downloaded to /path/to/dest/data/test/food/1_498.jpg\n",
            "Output file downloaded to /path/to/dest/data/test/food/1_499.jpg\n",
            "Output file downloaded to /path/to/dest/data/test/food/1_5.jpg\n",
            "Output file downloaded to /path/to/dest/data/test/food/1_50.jpg\n",
            "Output file downloaded to /path/to/dest/data/test/food/1_51.jpg\n",
            "Output file downloaded to /path/to/dest/data/test/food/1_52.jpg\n",
            "Output file downloaded to /path/to/dest/data/test/food/1_53.jpg\n",
            "Output file downloaded to /path/to/dest/data/test/food/1_54.jpg\n",
            "Output file downloaded to /path/to/dest/data/test/food/1_55.jpg\n",
            "Output file downloaded to /path/to/dest/data/test/food/1_56.jpg\n",
            "Output file downloaded to /path/to/dest/data/test/food/1_57.jpg\n",
            "Output file downloaded to /path/to/dest/data/test/food/1_58.jpg\n",
            "Output file downloaded to /path/to/dest/data/test/food/1_59.jpg\n",
            "Output file downloaded to /path/to/dest/data/test/food/1_6.jpg\n",
            "Output file downloaded to /path/to/dest/data/test/food/1_60.jpg\n",
            "Output file downloaded to /path/to/dest/data/test/food/1_61.jpg\n",
            "Output file downloaded to /path/to/dest/data/test/food/1_62.jpg\n",
            "Output file downloaded to /path/to/dest/data/test/food/1_63.jpg\n",
            "Output file downloaded to /path/to/dest/data/test/food/1_64.jpg\n",
            "Output file downloaded to /path/to/dest/data/test/food/1_65.jpg\n",
            "Output file downloaded to /path/to/dest/data/test/food/1_66.jpg\n",
            "Output file downloaded to /path/to/dest/data/test/food/1_67.jpg\n",
            "Output file downloaded to /path/to/dest/data/test/food/1_68.jpg\n",
            "Output file downloaded to /path/to/dest/data/test/food/1_69.jpg\n",
            "Output file downloaded to /path/to/dest/data/test/food/1_7.jpg\n",
            "Output file downloaded to /path/to/dest/data/test/food/1_70.jpg\n",
            "Output file downloaded to /path/to/dest/data/test/food/1_71.jpg\n",
            "Output file downloaded to /path/to/dest/data/test/food/1_72.jpg\n",
            "Output file downloaded to /path/to/dest/data/test/food/1_73.jpg\n",
            "Output file downloaded to /path/to/dest/data/test/food/1_74.jpg\n",
            "Output file downloaded to /path/to/dest/data/test/food/1_75.jpg\n",
            "Output file downloaded to /path/to/dest/data/test/food/1_76.jpg\n",
            "Output file downloaded to /path/to/dest/data/test/food/1_77.jpg\n",
            "Output file downloaded to /path/to/dest/data/test/food/1_78.jpg\n",
            "Output file downloaded to /path/to/dest/data/test/food/1_79.jpg\n",
            "Output file downloaded to /path/to/dest/data/test/food/1_8.jpg\n",
            "Output file downloaded to /path/to/dest/data/test/food/1_80.jpg\n",
            "Output file downloaded to /path/to/dest/data/test/food/1_81.jpg\n",
            "Output file downloaded to /path/to/dest/data/test/food/1_82.jpg\n",
            "Output file downloaded to /path/to/dest/data/test/food/1_83.jpg\n",
            "Output file downloaded to /path/to/dest/data/test/food/1_84.jpg\n",
            "Output file downloaded to /path/to/dest/data/test/food/1_85.jpg\n",
            "Output file downloaded to /path/to/dest/data/test/food/1_86.jpg\n",
            "Output file downloaded to /path/to/dest/data/test/food/1_87.jpg\n",
            "Output file downloaded to /path/to/dest/data/test/food/1_88.jpg\n",
            "Output file downloaded to /path/to/dest/data/test/food/1_89.jpg\n",
            "Output file downloaded to /path/to/dest/data/test/food/1_9.jpg\n",
            "Output file downloaded to /path/to/dest/data/test/food/1_90.jpg\n",
            "Output file downloaded to /path/to/dest/data/test/food/1_91.jpg\n",
            "Output file downloaded to /path/to/dest/data/test/food/1_92.jpg\n",
            "Output file downloaded to /path/to/dest/data/test/food/1_93.jpg\n",
            "Output file downloaded to /path/to/dest/data/test/food/1_94.jpg\n",
            "Output file downloaded to /path/to/dest/data/test/food/1_95.jpg\n",
            "Output file downloaded to /path/to/dest/data/test/food/1_96.jpg\n",
            "Output file downloaded to /path/to/dest/data/test/food/1_97.jpg\n",
            "Output file downloaded to /path/to/dest/data/test/food/1_98.jpg\n",
            "Output file downloaded to /path/to/dest/data/test/food/1_99.jpg\n",
            "Kernel log downloaded to /path/to/dest/transferlearning-food-5k.log \n"
          ]
        }
      ],
      "source": [
        "# TransferLearning-Food-5K\n",
        "!kaggle kernels output rafaelmendespereira/transferlearning-food-5k -p /path/to/dest"
      ]
    },
    {
      "cell_type": "code",
      "execution_count": null,
      "metadata": {
        "colab": {
          "base_uri": "https://localhost:8080/"
        },
        "id": "npe-EhjIT4w0",
        "outputId": "23d50c3e-93de-4d3d-c2bf-8e968550cd06"
      },
      "outputs": [
        {
          "name": "stdout",
          "output_type": "stream",
          "text": [
            "Downloading dogs-vs-cats-redux-kernels-edition.zip to /content\n",
            " 97% 786M/814M [00:08<00:00, 85.4MB/s]\n",
            "100% 814M/814M [00:08<00:00, 103MB/s] \n"
          ]
        }
      ],
      "source": [
        "#Dog or cat\n",
        "!kaggle competitions download -c dogs-vs-cats-redux-kernels-edition\n"
      ]
    },
    {
      "cell_type": "code",
      "execution_count": null,
      "metadata": {
        "colab": {
          "base_uri": "https://localhost:8080/"
        },
        "id": "xa3cvbNYUfEB",
        "outputId": "19fdb1eb-26d1-4484-e8fe-5cda4908301b"
      },
      "outputs": [
        {
          "name": "stdout",
          "output_type": "stream",
          "text": [
            "Archive:  dogs-vs-cats-redux-kernels-edition.zip\n",
            "  inflating: sample_submission.csv   \n",
            "  inflating: test.zip                \n",
            "  inflating: train.zip               \n"
          ]
        }
      ],
      "source": [
        "#unzip\n",
        "\n",
        "!unzip dogs-vs-cats-redux-kernels-edition.zip"
      ]
    },
    {
      "cell_type": "code",
      "source": [
        "import tensorflow as tf\n",
        "from tensorflow import keras\n",
        "from keras.models import Sequential\n",
        "from keras.layers import Dense\n",
        "#from tensorflow.keras.layers import Concatenate\n",
        "\n",
        "input_A = keras.layers.Input(shape=[5], name=\"wide_input\")\n",
        "input_B = keras.layers.Input(shape=[6], name=\"deep_input\")\n",
        "hidden1 = keras.layers.Dense(30, activation=\"relu\")(input_A)\n",
        "hiddden2 = keras.layers.Dense(30, activation=\"relu\")(hidden1)\n",
        "concat = keras.layers.Concatenate()([input_A, hiddden2])\n",
        "output = keras.layers.Dense(1, name=\"output\")(concat)\n",
        "model = keras.Model(inputs=[input_A, input_B], outputs=[output])\n"
      ],
      "metadata": {
        "id": "CVCuJYVooWo3"
      },
      "execution_count": null,
      "outputs": []
    },
    {
      "cell_type": "code",
      "source": [
        "print(model)"
      ],
      "metadata": {
        "id": "x1M2ouJarP_n",
        "colab": {
          "base_uri": "https://localhost:8080/"
        },
        "outputId": "4c72058e-3ab0-48be-c9b6-858d92ab4b94"
      },
      "execution_count": null,
      "outputs": [
        {
          "output_type": "stream",
          "name": "stdout",
          "text": [
            "<keras.engine.functional.Functional object at 0x7f2979d63c90>\n"
          ]
        }
      ]
    },
    {
      "cell_type": "code",
      "source": [
        "print(output)"
      ],
      "metadata": {
        "colab": {
          "base_uri": "https://localhost:8080/"
        },
        "id": "pmw8NGxBsGxa",
        "outputId": "e71c7c47-2b60-4944-b626-1042a2ca3fdb"
      },
      "execution_count": null,
      "outputs": [
        {
          "output_type": "stream",
          "name": "stdout",
          "text": [
            "KerasTensor(type_spec=TensorSpec(shape=(None, 1), dtype=tf.float32, name=None), name='output/BiasAdd:0', description=\"created by layer 'output'\")\n"
          ]
        }
      ]
    },
    {
      "cell_type": "code",
      "source": [
        ""
      ],
      "metadata": {
        "id": "t_MGdjePsPfp"
      },
      "execution_count": null,
      "outputs": []
    }
  ],
  "metadata": {
    "colab": {
      "name": "Kaggle.ipynb",
      "provenance": []
    },
    "kernelspec": {
      "display_name": "Python 3",
      "name": "python3"
    },
    "language_info": {
      "name": "python"
    }
  },
  "nbformat": 4,
  "nbformat_minor": 0
}