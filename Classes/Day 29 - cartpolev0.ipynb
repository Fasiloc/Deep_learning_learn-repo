{
  "nbformat": 4,
  "nbformat_minor": 0,
  "metadata": {
    "colab": {
      "name": "cartpolev0.ipynb",
      "provenance": []
    },
    "kernelspec": {
      "name": "python3",
      "display_name": "Python 3"
    },
    "language_info": {
      "name": "python"
    }
  },
  "cells": [
    {
      "cell_type": "code",
      "source": [
        "!pip install gym stable_baselines3"
      ],
      "metadata": {
        "colab": {
          "base_uri": "https://localhost:8080/",
          "height": 728
        },
        "id": "WFdDJAWKABF0",
        "outputId": "9df26335-fedd-436c-8b47-9fc9c5666756"
      },
      "execution_count": 3,
      "outputs": [
        {
          "output_type": "stream",
          "name": "stdout",
          "text": [
            "Looking in indexes: https://pypi.org/simple, https://us-python.pkg.dev/colab-wheels/public/simple/\n",
            "Requirement already satisfied: gym in /usr/local/lib/python3.7/dist-packages (0.17.3)\n",
            "Collecting stable_baselines3\n",
            "  Downloading stable_baselines3-1.5.0-py3-none-any.whl (177 kB)\n",
            "\u001b[K     |████████████████████████████████| 177 kB 4.8 MB/s \n",
            "\u001b[?25hRequirement already satisfied: cloudpickle<1.7.0,>=1.2.0 in /usr/local/lib/python3.7/dist-packages (from gym) (1.3.0)\n",
            "Requirement already satisfied: pyglet<=1.5.0,>=1.4.0 in /usr/local/lib/python3.7/dist-packages (from gym) (1.5.0)\n",
            "Requirement already satisfied: numpy>=1.10.4 in /usr/local/lib/python3.7/dist-packages (from gym) (1.21.6)\n",
            "Requirement already satisfied: scipy in /usr/local/lib/python3.7/dist-packages (from gym) (1.4.1)\n",
            "Requirement already satisfied: future in /usr/local/lib/python3.7/dist-packages (from pyglet<=1.5.0,>=1.4.0->gym) (0.16.0)\n",
            "Collecting gym\n",
            "  Downloading gym-0.21.0.tar.gz (1.5 MB)\n",
            "\u001b[K     |████████████████████████████████| 1.5 MB 55.8 MB/s \n",
            "\u001b[?25hRequirement already satisfied: torch>=1.8.1 in /usr/local/lib/python3.7/dist-packages (from stable_baselines3) (1.11.0+cu113)\n",
            "Requirement already satisfied: pandas in /usr/local/lib/python3.7/dist-packages (from stable_baselines3) (1.3.5)\n",
            "Requirement already satisfied: matplotlib in /usr/local/lib/python3.7/dist-packages (from stable_baselines3) (3.2.2)\n",
            "Requirement already satisfied: importlib_metadata>=4.8.1 in /usr/local/lib/python3.7/dist-packages (from gym) (4.11.4)\n",
            "Requirement already satisfied: typing-extensions>=3.6.4 in /usr/local/lib/python3.7/dist-packages (from importlib_metadata>=4.8.1->gym) (4.2.0)\n",
            "Requirement already satisfied: zipp>=0.5 in /usr/local/lib/python3.7/dist-packages (from importlib_metadata>=4.8.1->gym) (3.8.0)\n",
            "Requirement already satisfied: python-dateutil>=2.1 in /usr/local/lib/python3.7/dist-packages (from matplotlib->stable_baselines3) (2.8.2)\n",
            "Requirement already satisfied: kiwisolver>=1.0.1 in /usr/local/lib/python3.7/dist-packages (from matplotlib->stable_baselines3) (1.4.2)\n",
            "Requirement already satisfied: pyparsing!=2.0.4,!=2.1.2,!=2.1.6,>=2.0.1 in /usr/local/lib/python3.7/dist-packages (from matplotlib->stable_baselines3) (3.0.9)\n",
            "Requirement already satisfied: cycler>=0.10 in /usr/local/lib/python3.7/dist-packages (from matplotlib->stable_baselines3) (0.11.0)\n",
            "Requirement already satisfied: six>=1.5 in /usr/local/lib/python3.7/dist-packages (from python-dateutil>=2.1->matplotlib->stable_baselines3) (1.15.0)\n",
            "Requirement already satisfied: pytz>=2017.3 in /usr/local/lib/python3.7/dist-packages (from pandas->stable_baselines3) (2022.1)\n",
            "Building wheels for collected packages: gym\n",
            "  Building wheel for gym (setup.py) ... \u001b[?25l\u001b[?25hdone\n",
            "  Created wheel for gym: filename=gym-0.21.0-py3-none-any.whl size=1616825 sha256=ac922e0b270c303057e8cc96ecb69a0f66f46d68fb7c5041939bee66f0a09972\n",
            "  Stored in directory: /root/.cache/pip/wheels/76/ee/9c/36bfe3e079df99acf5ae57f4e3464ff2771b34447d6d2f2148\n",
            "Successfully built gym\n",
            "Installing collected packages: gym, stable-baselines3\n",
            "  Attempting uninstall: gym\n",
            "    Found existing installation: gym 0.17.3\n",
            "    Uninstalling gym-0.17.3:\n",
            "      Successfully uninstalled gym-0.17.3\n",
            "Successfully installed gym-0.21.0 stable-baselines3-1.5.0\n"
          ]
        },
        {
          "output_type": "display_data",
          "data": {
            "application/vnd.colab-display-data+json": {
              "pip_warning": {
                "packages": [
                  "gym"
                ]
              }
            }
          },
          "metadata": {}
        }
      ]
    },
    {
      "cell_type": "code",
      "execution_count": 4,
      "metadata": {
        "colab": {
          "base_uri": "https://localhost:8080/",
          "height": 269
        },
        "id": "TaBxr9jo_l3H",
        "outputId": "ed1c1453-d49d-4af1-f02a-4d7f32ccf97b"
      },
      "outputs": [
        {
          "output_type": "display_data",
          "data": {
            "text/plain": [
              "<Figure size 432x288 with 1 Axes>"
            ],
            "image/png": "[encoded data removed]"
          },
          "metadata": {
            "needs_background": "light"
          }
        }
      ],
      "source": [
        "!apt-get install python-opengl -y\n",
        "\n",
        "!apt install xvfb -y\n",
        "\n",
        "!pip install pyvirtualdisplay\n",
        "\n",
        "!pip install piglet\n",
        "\n",
        "\n",
        "from pyvirtualdisplay import Display\n",
        "Display().start()\n",
        "\n",
        "import gym\n",
        "from IPython import display\n",
        "import matplotlib.pyplot as plt\n",
        "%matplotlib inline\n",
        "\n",
        "env = gym.make('CartPole-v0')\n",
        "env.reset()\n",
        "img = plt.imshow(env.render('rgb_array'))\n",
        "for _ in range(40):\n",
        "    img.set_data(env.render('rgb_array')) \n",
        "    display.display(plt.gcf())\n",
        "    display.clear_output(wait=True)\n",
        "    action = env.action_space.sample()\n",
        "    env.step(action)"
      ]
    },
    {
      "cell_type": "code",
      "source": [
        "import gym\n",
        "from stable_baselines3 import PPO\n",
        "from stable_baselines3.common.vec_env import DummyVecEnv\n",
        "from stable_baselines3.common.evaluation import evaluate_policy"
      ],
      "metadata": {
        "id": "SzDGGt59_54j"
      },
      "execution_count": 5,
      "outputs": []
    },
    {
      "cell_type": "code",
      "source": [
        "for episode in range(1, 11):\n",
        "    score = 0\n",
        "    state = env.reset()\n",
        "    done = False\n",
        "    \n",
        "    while not done:\n",
        "        env.render()\n",
        "        action = env.action_space.sample()\n",
        "        n_state, reward, done, info = env.step(action)\n",
        "        score += reward\n",
        "        \n",
        "    print('Episode:', episode, 'Score:', score)\n",
        "env.close()"
      ],
      "metadata": {
        "colab": {
          "base_uri": "https://localhost:8080/"
        },
        "id": "kMJ5o-5JAPRo",
        "outputId": "7b4b8c0f-4042-431c-eaed-23f172b42e43"
      },
      "execution_count": 6,
      "outputs": [
        {
          "output_type": "stream",
          "name": "stdout",
          "text": [
            "Episode: 1 Score: 19.0\n",
            "Episode: 2 Score: 15.0\n",
            "Episode: 3 Score: 23.0\n",
            "Episode: 4 Score: 30.0\n",
            "Episode: 5 Score: 13.0\n",
            "Episode: 6 Score: 15.0\n",
            "Episode: 7 Score: 19.0\n",
            "Episode: 8 Score: 63.0\n",
            "Episode: 9 Score: 16.0\n",
            "Episode: 10 Score: 43.0\n"
          ]
        }
      ]
    },
    {
      "cell_type": "code",
      "source": [
        "env_name = 'CartPole-v0'"
      ],
      "metadata": {
        "id": "7txFf-BlA9X1"
      },
      "execution_count": 8,
      "outputs": []
    },
    {
      "cell_type": "code",
      "source": [
        "env = gym.make(env_name)\n",
        "env = DummyVecEnv([lambda: env])\n",
        "model = PPO('MlpPolicy', env, verbose=1)"
      ],
      "metadata": {
        "colab": {
          "base_uri": "https://localhost:8080/"
        },
        "id": "s4fO1eHPAZAf",
        "outputId": "f94f9e85-41c0-48ae-aa29-8e8e530a0a04"
      },
      "execution_count": 9,
      "outputs": [
        {
          "output_type": "stream",
          "name": "stdout",
          "text": [
            "Using cpu device\n"
          ]
        }
      ]
    },
    {
      "cell_type": "code",
      "source": [
        "model.learn(total_timesteps=20000)"
      ],
      "metadata": {
        "colab": {
          "base_uri": "https://localhost:8080/"
        },
        "id": "rEtf_s8VBGEw",
        "outputId": "eff66624-cf91-4867-becf-62f7b20decf4"
      },
      "execution_count": 10,
      "outputs": [
        {
          "output_type": "stream",
          "name": "stdout",
          "text": [
            "-----------------------------\n",
            "| time/              |      |\n",
            "|    fps             | 1536 |\n",
            "|    iterations      | 1    |\n",
            "|    time_elapsed    | 1    |\n",
            "|    total_timesteps | 2048 |\n",
            "-----------------------------\n",
            "-----------------------------------------\n",
            "| time/                   |             |\n",
            "|    fps                  | 1137        |\n",
            "|    iterations           | 2           |\n",
            "|    time_elapsed         | 3           |\n",
            "|    total_timesteps      | 4096        |\n",
            "| train/                  |             |\n",
            "|    approx_kl            | 0.009765044 |\n",
            "|    clip_fraction        | 0.121       |\n",
            "|    clip_range           | 0.2         |\n",
            "|    entropy_loss         | -0.686      |\n",
            "|    explained_variance   | -0.0022     |\n",
            "|    learning_rate        | 0.0003      |\n",
            "|    loss                 | 6.66        |\n",
            "|    n_updates            | 10          |\n",
            "|    policy_gradient_loss | -0.0183     |\n",
            "|    value_loss           | 49.7        |\n",
            "-----------------------------------------\n",
            "-----------------------------------------\n",
            "| time/                   |             |\n",
            "|    fps                  | 1045        |\n",
            "|    iterations           | 3           |\n",
            "|    time_elapsed         | 5           |\n",
            "|    total_timesteps      | 6144        |\n",
            "| train/                  |             |\n",
            "|    approx_kl            | 0.009514494 |\n",
            "|    clip_fraction        | 0.0622      |\n",
            "|    clip_range           | 0.2         |\n",
            "|    entropy_loss         | -0.666      |\n",
            "|    explained_variance   | 0.106       |\n",
            "|    learning_rate        | 0.0003      |\n",
            "|    loss                 | 13.3        |\n",
            "|    n_updates            | 20          |\n",
            "|    policy_gradient_loss | -0.018      |\n",
            "|    value_loss           | 33.8        |\n",
            "-----------------------------------------\n",
            "------------------------------------------\n",
            "| time/                   |              |\n",
            "|    fps                  | 1005         |\n",
            "|    iterations           | 4            |\n",
            "|    time_elapsed         | 8            |\n",
            "|    total_timesteps      | 8192         |\n",
            "| train/                  |              |\n",
            "|    approx_kl            | 0.0075563695 |\n",
            "|    clip_fraction        | 0.0836       |\n",
            "|    clip_range           | 0.2          |\n",
            "|    entropy_loss         | -0.632       |\n",
            "|    explained_variance   | 0.238        |\n",
            "|    learning_rate        | 0.0003       |\n",
            "|    loss                 | 18.3         |\n",
            "|    n_updates            | 30           |\n",
            "|    policy_gradient_loss | -0.0182      |\n",
            "|    value_loss           | 50           |\n",
            "------------------------------------------\n",
            "-----------------------------------------\n",
            "| time/                   |             |\n",
            "|    fps                  | 986         |\n",
            "|    iterations           | 5           |\n",
            "|    time_elapsed         | 10          |\n",
            "|    total_timesteps      | 10240       |\n",
            "| train/                  |             |\n",
            "|    approx_kl            | 0.008303199 |\n",
            "|    clip_fraction        | 0.0751      |\n",
            "|    clip_range           | 0.2         |\n",
            "|    entropy_loss         | -0.617      |\n",
            "|    explained_variance   | 0.348       |\n",
            "|    learning_rate        | 0.0003      |\n",
            "|    loss                 | 21.4        |\n",
            "|    n_updates            | 40          |\n",
            "|    policy_gradient_loss | -0.0163     |\n",
            "|    value_loss           | 55.3        |\n",
            "-----------------------------------------\n",
            "-----------------------------------------\n",
            "| time/                   |             |\n",
            "|    fps                  | 972         |\n",
            "|    iterations           | 6           |\n",
            "|    time_elapsed         | 12          |\n",
            "|    total_timesteps      | 12288       |\n",
            "| train/                  |             |\n",
            "|    approx_kl            | 0.008017393 |\n",
            "|    clip_fraction        | 0.097       |\n",
            "|    clip_range           | 0.2         |\n",
            "|    entropy_loss         | -0.607      |\n",
            "|    explained_variance   | 0.699       |\n",
            "|    learning_rate        | 0.0003      |\n",
            "|    loss                 | 15.2        |\n",
            "|    n_updates            | 50          |\n",
            "|    policy_gradient_loss | -0.0148     |\n",
            "|    value_loss           | 39.3        |\n",
            "-----------------------------------------\n",
            "-----------------------------------------\n",
            "| time/                   |             |\n",
            "|    fps                  | 957         |\n",
            "|    iterations           | 7           |\n",
            "|    time_elapsed         | 14          |\n",
            "|    total_timesteps      | 14336       |\n",
            "| train/                  |             |\n",
            "|    approx_kl            | 0.008604921 |\n",
            "|    clip_fraction        | 0.0744      |\n",
            "|    clip_range           | 0.2         |\n",
            "|    entropy_loss         | -0.59       |\n",
            "|    explained_variance   | 0.82        |\n",
            "|    learning_rate        | 0.0003      |\n",
            "|    loss                 | 8.19        |\n",
            "|    n_updates            | 60          |\n",
            "|    policy_gradient_loss | -0.0124     |\n",
            "|    value_loss           | 34.7        |\n",
            "-----------------------------------------\n",
            "-----------------------------------------\n",
            "| time/                   |             |\n",
            "|    fps                  | 949         |\n",
            "|    iterations           | 8           |\n",
            "|    time_elapsed         | 17          |\n",
            "|    total_timesteps      | 16384       |\n",
            "| train/                  |             |\n",
            "|    approx_kl            | 0.008245348 |\n",
            "|    clip_fraction        | 0.088       |\n",
            "|    clip_range           | 0.2         |\n",
            "|    entropy_loss         | -0.58       |\n",
            "|    explained_variance   | 0.809       |\n",
            "|    learning_rate        | 0.0003      |\n",
            "|    loss                 | 15.3        |\n",
            "|    n_updates            | 70          |\n",
            "|    policy_gradient_loss | -0.0104     |\n",
            "|    value_loss           | 35.5        |\n",
            "-----------------------------------------\n",
            "-----------------------------------------\n",
            "| time/                   |             |\n",
            "|    fps                  | 945         |\n",
            "|    iterations           | 9           |\n",
            "|    time_elapsed         | 19          |\n",
            "|    total_timesteps      | 18432       |\n",
            "| train/                  |             |\n",
            "|    approx_kl            | 0.008839949 |\n",
            "|    clip_fraction        | 0.0887      |\n",
            "|    clip_range           | 0.2         |\n",
            "|    entropy_loss         | -0.579      |\n",
            "|    explained_variance   | 0.835       |\n",
            "|    learning_rate        | 0.0003      |\n",
            "|    loss                 | 9.11        |\n",
            "|    n_updates            | 80          |\n",
            "|    policy_gradient_loss | -0.0113     |\n",
            "|    value_loss           | 31.9        |\n",
            "-----------------------------------------\n",
            "-----------------------------------------\n",
            "| time/                   |             |\n",
            "|    fps                  | 943         |\n",
            "|    iterations           | 10          |\n",
            "|    time_elapsed         | 21          |\n",
            "|    total_timesteps      | 20480       |\n",
            "| train/                  |             |\n",
            "|    approx_kl            | 0.012479786 |\n",
            "|    clip_fraction        | 0.111       |\n",
            "|    clip_range           | 0.2         |\n",
            "|    entropy_loss         | -0.562      |\n",
            "|    explained_variance   | 0.938       |\n",
            "|    learning_rate        | 0.0003      |\n",
            "|    loss                 | 16.1        |\n",
            "|    n_updates            | 90          |\n",
            "|    policy_gradient_loss | -0.00812    |\n",
            "|    value_loss           | 16.8        |\n",
            "-----------------------------------------\n"
          ]
        },
        {
          "output_type": "execute_result",
          "data": {
            "text/plain": [
              "<stable_baselines3.ppo.ppo.PPO at 0x7f750a56dd50>"
            ]
          },
          "metadata": {},
          "execution_count": 10
        }
      ]
    },
    {
      "cell_type": "code",
      "source": [
        "evaluate_policy(model, env, n_eval_episodes=10, render=True)"
      ],
      "metadata": {
        "colab": {
          "base_uri": "https://localhost:8080/"
        },
        "id": "ziw1-kAKBU5O",
        "outputId": "d1021baa-8589-4aa5-e92f-0ac0c2df6e4d"
      },
      "execution_count": 11,
      "outputs": [
        {
          "output_type": "stream",
          "name": "stderr",
          "text": [
            "/usr/local/lib/python3.7/dist-packages/stable_baselines3/common/evaluation.py:69: UserWarning: Evaluation environment is not wrapped with a ``Monitor`` wrapper. This may result in reporting modified episode lengths and rewards, if other wrappers happen to modify these. Consider wrapping environment first with ``Monitor`` wrapper.\n",
            "  UserWarning,\n"
          ]
        },
        {
          "output_type": "execute_result",
          "data": {
            "text/plain": [
              "(200.0, 0.0)"
            ]
          },
          "metadata": {},
          "execution_count": 11
        }
      ]
    },
    {
      "cell_type": "code",
      "source": [
        "for episode in range(1, 11):\n",
        "    score = 0\n",
        "    obs = env.reset()\n",
        "    done = False\n",
        "    \n",
        "    while not done:\n",
        "        env.render()\n",
        "        action, _ = model.predict(obs)\n",
        "        obs, reward, done, info = env.step(action)\n",
        "        score += reward\n",
        "        \n",
        "    print('Episode:', episode, 'Score:', score)\n",
        "env.close()"
      ],
      "metadata": {
        "colab": {
          "base_uri": "https://localhost:8080/"
        },
        "id": "A__Qc0p9BeIA",
        "outputId": "a6730dff-59af-49af-dc23-2a222578ba50"
      },
      "execution_count": 12,
      "outputs": [
        {
          "output_type": "stream",
          "name": "stdout",
          "text": [
            "Episode: 1 Score: [200.]\n",
            "Episode: 2 Score: [200.]\n",
            "Episode: 3 Score: [200.]\n",
            "Episode: 4 Score: [200.]\n",
            "Episode: 5 Score: [200.]\n",
            "Episode: 6 Score: [90.]\n",
            "Episode: 7 Score: [200.]\n",
            "Episode: 8 Score: [200.]\n",
            "Episode: 9 Score: [200.]\n",
            "Episode: 10 Score: [200.]\n"
          ]
        }
      ]
    }
  ]
}