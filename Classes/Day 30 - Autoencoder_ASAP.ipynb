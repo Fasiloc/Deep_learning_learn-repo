{
  "nbformat": 4,
  "nbformat_minor": 0,
  "metadata": {
    "colab": {
      "name": "Autoencoder ASAP.ipynb",
      "provenance": [],
      "collapsed_sections": []
    },
    "kernelspec": {
      "name": "python3",
      "display_name": "Python 3"
    },
    "language_info": {
      "name": "python"
    },
    "accelerator": "GPU"
  },
  "cells": [
    {
      "cell_type": "code",
      "source": [
        "import numpy as np\n",
        "np.random.seed(42)\n",
        "import matplotlib.pyplot as plt\n",
        "%matplotlib inline\n",
        "import tensorflow as tf\n",
        "from tensorflow import keras"
      ],
      "metadata": {
        "id": "5zJl56pH77E2"
      },
      "execution_count": null,
      "outputs": []
    },
    {
      "cell_type": "code",
      "source": [
        "tf.random.set_seed(42)"
      ],
      "metadata": {
        "id": "SAE1XKio8E-Q"
      },
      "execution_count": null,
      "outputs": []
    },
    {
      "cell_type": "code",
      "source": [
        "def plot_image(image):\n",
        "  plt.imshow(image, cmap=\"Greys\", interpolation=\"nearest\")\n",
        "  plt.axis(\"off\")"
      ],
      "metadata": {
        "id": "b8AIQ7Ri8NP8"
      },
      "execution_count": null,
      "outputs": []
    },
    {
      "cell_type": "code",
      "source": [
        "def show_reconstructions(model, n_test_images = 4):\n",
        "  reconstructions = model.predict(X_test[:n_test_images])\n",
        "  fig = plt.figure(figsize=(8, 2 * n_test_images))\n",
        "  for image_index in range(n_test_images):\n",
        "    plt.subplot(n_test_images, 2, image_index * 2 + 1)\n",
        "    plot_image(X_test[image_index])\n",
        "    plt.subplot(n_test_images, 2, image_index * 2 + 2)\n",
        "    plot_image(reconstructions[image_index])\n",
        "  "
      ],
      "metadata": {
        "id": "wvhU3y978ork"
      },
      "execution_count": null,
      "outputs": []
    },
    {
      "cell_type": "code",
      "source": [
        "def rounded_accuracy(y_true, y_pred):\n",
        "  return keras.metrics.binary_accuracy(tf.round(y_true), tf.round(y_pred))"
      ],
      "metadata": {
        "id": "bX8RqPOR9ONI"
      },
      "execution_count": null,
      "outputs": []
    },
    {
      "cell_type": "code",
      "source": [
        "(X_train, y_train), (X_test, y_test) = keras.datasets.mnist.load_data()\n",
        "X_train = X_train / 255.0\n",
        "X_test = X_test / 255.0"
      ],
      "metadata": {
        "id": "aVRJiy5o9ZEA",
        "colab": {
          "base_uri": "https://localhost:8080/"
        },
        "outputId": "e84f0094-061e-4941-efe3-f84edccf80d4"
      },
      "execution_count": null,
      "outputs": [
        {
          "output_type": "stream",
          "name": "stdout",
          "text": [
            "Downloading data from https://storage.googleapis.com/tensorflow/tf-keras-datasets/mnist.npz\n",
            "11493376/11490434 [==============================] - 0s 0us/step\n",
            "11501568/11490434 [==============================] - 0s 0us/step\n"
          ]
        }
      ]
    },
    {
      "cell_type": "code",
      "source": [
        "stacked_encoder = keras.models.Sequential([\n",
        "  keras.layers.Flatten(input_shape=[28,28]),\n",
        "  keras.layers.Dense(100, activation=\"relu\"),\n",
        "  keras.layers.Dense(30, activation=\"relu\")\n",
        "])"
      ],
      "metadata": {
        "id": "5NjhqD5n9v9k"
      },
      "execution_count": null,
      "outputs": []
    },
    {
      "cell_type": "code",
      "source": [
        "stacked_decoder = keras.models.Sequential([\n",
        "  keras.layers.Dense(100, activation=\"relu\", input_shape=[30]),\n",
        "  keras.layers.Dense(28*28, activation=\"sigmoid\"),\n",
        "  keras.layers.Reshape([28,28])\n",
        "])"
      ],
      "metadata": {
        "id": "cOOnMRqp9_pB"
      },
      "execution_count": null,
      "outputs": []
    },
    {
      "cell_type": "code",
      "source": [
        "stacked_ae = keras.models.Sequential([stacked_encoder, stacked_decoder])"
      ],
      "metadata": {
        "id": "vRhGtiGR-KL0"
      },
      "execution_count": null,
      "outputs": []
    },
    {
      "cell_type": "code",
      "source": [
        "stacked_ae.summary()"
      ],
      "metadata": {
        "colab": {
          "base_uri": "https://localhost:8080/"
        },
        "id": "yw1kFzUz-UbV",
        "outputId": "866f3b4a-7c03-4410-99d3-45d4eede5d70"
      },
      "execution_count": null,
      "outputs": [
        {
          "output_type": "stream",
          "name": "stdout",
          "text": [
            "Model: \"sequential_6\"\n",
            "_________________________________________________________________\n",
            " Layer (type)                Output Shape              Param #   \n",
            "=================================================================\n",
            " sequential (Sequential)     (None, 30)                81530     \n",
            "                                                                 \n",
            " sequential_5 (Sequential)   (None, 28, 28)            82284     \n",
            "                                                                 \n",
            "=================================================================\n",
            "Total params: 163,814\n",
            "Trainable params: 163,814\n",
            "Non-trainable params: 0\n",
            "_________________________________________________________________\n"
          ]
        }
      ]
    },
    {
      "cell_type": "code",
      "source": [
        "stacked_ae.compile(loss=\"binary_crossentropy\", optimizer='adam', metrics=[\"accuracy\"])"
      ],
      "metadata": {
        "id": "nBcKHqdc-b46"
      },
      "execution_count": null,
      "outputs": []
    },
    {
      "cell_type": "code",
      "source": [
        "history_sae = stacked_ae.fit(X_train, X_train, epochs=5)"
      ],
      "metadata": {
        "colab": {
          "base_uri": "https://localhost:8080/"
        },
        "id": "9_1-rNoFAo_b",
        "outputId": "7713f2a3-3a67-4176-e5bb-42c8e147fc68"
      },
      "execution_count": null,
      "outputs": [
        {
          "output_type": "stream",
          "name": "stdout",
          "text": [
            "Epoch 1/5\n",
            "1875/1875 [==============================] - 5s 3ms/step - loss: 0.1165 - accuracy: 0.2488\n",
            "Epoch 2/5\n",
            "1875/1875 [==============================] - 5s 3ms/step - loss: 0.0944 - accuracy: 0.2766\n",
            "Epoch 3/5\n",
            "1875/1875 [==============================] - 5s 3ms/step - loss: 0.0920 - accuracy: 0.2807\n",
            "Epoch 4/5\n",
            "1875/1875 [==============================] - 5s 3ms/step - loss: 0.0907 - accuracy: 0.2835\n",
            "Epoch 5/5\n",
            "1875/1875 [==============================] - 5s 3ms/step - loss: 0.0896 - accuracy: 0.2861\n"
          ]
        }
      ]
    },
    {
      "cell_type": "code",
      "source": [
        "show_reconstructions(stacked_ae)\n",
        "plt.show()"
      ],
      "metadata": {
        "colab": {
          "base_uri": "https://localhost:8080/",
          "height": 466
        },
        "id": "6HVLxhhoBqEu",
        "outputId": "d8d519a4-4afc-4fbb-92bd-31afde79ed57"
      },
      "execution_count": null,
      "outputs": [
        {
          "output_type": "display_data",
          "data": {
            "text/plain": [
              "<Figure size 576x576 with 8 Axes>"
            ],
            "image/png": "[encoded data removed]"
          },
          "metadata": {
            "needs_background": "light"
          }
        }
      ]
    }
  ]
}