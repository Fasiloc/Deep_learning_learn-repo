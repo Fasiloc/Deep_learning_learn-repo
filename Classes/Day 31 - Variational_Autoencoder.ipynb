{
  "nbformat": 4,
  "nbformat_minor": 0,
  "metadata": {
    "colab": {
      "name": "Variational Autoencoder.ipynb",
      "provenance": [],
      "collapsed_sections": []
    },
    "kernelspec": {
      "name": "python3",
      "display_name": "Python 3"
    },
    "language_info": {
      "name": "python"
    }
  },
  "cells": [
    {
      "cell_type": "markdown",
      "source": [
        "Construct a variation encoder trained on MNIST dataset to synthetically generate MNIST\n",
        "looking handwritten digit images."
      ],
      "metadata": {
        "id": "AXyXkjmXv26o"
      }
    },
    {
      "cell_type": "code",
      "source": [
        "# import required librarie and modules\n",
        "import numpy as np\n",
        "np.random.seed(42)\n",
        "import matplotlib.pyplot as plt\n",
        "%matplotlib inline\n",
        "import tensorflow as tf\n",
        "from tensorflow import keras"
      ],
      "metadata": {
        "id": "HrjrVFWEwadU"
      },
      "execution_count": null,
      "outputs": []
    },
    {
      "cell_type": "code",
      "source": [
        "# A random seed is used to ensure that results are reproducible\n",
        "tf.random.set_seed(42)"
      ],
      "metadata": {
        "id": "2uS8KfQvwsCp"
      },
      "execution_count": null,
      "outputs": []
    },
    {
      "cell_type": "code",
      "source": [
        "# self is always pointing to current Object\n",
        "class Sampling(keras.layers.Layer):\n",
        "  def call(self, inputs):\n",
        "    mean, log_var = inputs\n",
        "    return K.random_normal(tf.shape(log_var)) * K.exp(log_var / 2) + mean"
      ],
      "metadata": {
        "id": "Dotg-o95wvvC"
      },
      "execution_count": null,
      "outputs": []
    },
    {
      "cell_type": "code",
      "source": [
        "# function to plot image\n",
        "def plot_image(image):\n",
        "  plt.imshow(image, cmap=\"Greys\", interpolation=\"nearest\")\n",
        "  plt.axis(\"off\")"
      ],
      "metadata": {
        "id": "dsYdGjd7xAs2"
      },
      "execution_count": null,
      "outputs": []
    },
    {
      "cell_type": "code",
      "source": [
        "# function to display reconstructed images\n",
        "def show_reconstructions(model, n_test_images = 2):\n",
        "  reconstructions = model.predict(X_test[:n_test_images])\n",
        "  fig = plt.figure(figsize=(8, 3 * n_test_images))\n",
        "  for image_index in range(n_test_images):\n",
        "    plt.subplot(n_test_images, 2, image_index * 2 + 1)\n",
        "    plot_image(X_test[image_index])\n",
        "    plt.subplot(n_test_images, 2, image_index * 2 + 2)\n",
        "    plot_image(reconstructions[image_index])"
      ],
      "metadata": {
        "id": "-2pdYTvHxL4n"
      },
      "execution_count": null,
      "outputs": []
    },
    {
      "cell_type": "code",
      "source": [
        "# function to display accuracy\n",
        "def rounded_accuracy(y_true, y_pred):\n",
        "  return keras.metrics.binary_accuracy(tf.round(y_true), tf.round(y_pred))"
      ],
      "metadata": {
        "id": "fUdNsxlWxV1q"
      },
      "execution_count": null,
      "outputs": []
    },
    {
      "cell_type": "code",
      "source": [
        "# load and normalize data\n",
        "(X_train, y_train), (X_test, y_test) = keras.datasets.mnist.load_data()\n",
        "X_train = X_train / 255.0\n",
        "X_test = X_test / 255.0"
      ],
      "metadata": {
        "colab": {
          "base_uri": "https://localhost:8080/"
        },
        "id": "jQYu0-t6xcU1",
        "outputId": "c3143657-e3b8-4800-be17-a29e292c2276"
      },
      "execution_count": null,
      "outputs": [
        {
          "output_type": "stream",
          "name": "stdout",
          "text": [
            "Downloading data from https://storage.googleapis.com/tensorflow/tf-keras-datasets/mnist.npz\n",
            "11493376/11490434 [==============================] - 0s 0us/step\n",
            "11501568/11490434 [==============================] - 0s 0us/step\n"
          ]
        }
      ]
    },
    {
      "cell_type": "code",
      "source": [
        "# to access some useful functions like 'square', 'exp' etc. from Keras backend. \n",
        "K = keras.backend\n",
        "# size of the latent space\n",
        "codings_size = 10"
      ],
      "metadata": {
        "id": "Ivf_-7j0xjir"
      },
      "execution_count": null,
      "outputs": []
    },
    {
      "cell_type": "code",
      "source": [
        "# build the encoder - functional API is used here - sequential can also be used. Scaled Exponential Linear Unit (SELU) activation function is used\n",
        "inputs = keras.layers.Input(shape=[28, 28])\n",
        "z = keras.layers.Flatten()(inputs)\n",
        "z = keras.layers.Dense(150, activation=\"selu\")(z)\n",
        "z = keras.layers.Dense(100, activation=\"selu\")(z)\n",
        "codings_mean = keras.layers.Dense(codings_size)(z)\n",
        "codings_log_var = keras.layers.Dense(codings_size)(z)\n",
        "codings = Sampling()([codings_mean, codings_log_var])\n",
        "variational_encoder = keras.models.Model(inputs=[inputs], outputs=[codings_mean, codings_log_var, codings])"
      ],
      "metadata": {
        "id": "W_wxdlMnxu_p"
      },
      "execution_count": null,
      "outputs": []
    },
    {
      "cell_type": "code",
      "source": [
        "# build the decoder\n",
        "decoder_inputs = keras.layers.Input(shape=[codings_size])\n",
        "x = keras.layers.Dense(100, activation=\"selu\")(decoder_inputs)\n",
        "x = keras.layers.Dense(150, activation=\"selu\")(x)\n",
        "x = keras.layers.Dense(28 * 28, activation=\"sigmoid\")(x)\n",
        "outputs = keras.layers.Reshape([28, 28])(x)\n",
        "variational_decoder = keras.models.Model(inputs=[decoder_inputs], outputs=[outputs])"
      ],
      "metadata": {
        "id": "l2XPEOvMyMge"
      },
      "execution_count": null,
      "outputs": []
    },
    {
      "cell_type": "code",
      "source": [
        "# pass on the inputs to variational encoder and extract the feature distribution in the latent space (code)\n",
        "_, _, codings = variational_encoder(inputs)"
      ],
      "metadata": {
        "id": "-bANiE2OySd8"
      },
      "execution_count": null,
      "outputs": []
    },
    {
      "cell_type": "code",
      "source": [
        "# pass on codings to the variational decoder and extract the reconstructions\n",
        "reconstructions = variational_decoder(codings)"
      ],
      "metadata": {
        "id": "_fmnwQuqyYPt"
      },
      "execution_count": null,
      "outputs": []
    },
    {
      "cell_type": "code",
      "source": [
        "variational_ae = keras.models.Model(inputs=[inputs], outputs=[reconstructions])"
      ],
      "metadata": {
        "id": "b3GfifsMyd3-"
      },
      "execution_count": null,
      "outputs": []
    },
    {
      "cell_type": "code",
      "source": [
        "# KL divergance\n",
        "latent_loss = -0.5 * K.sum(1 + codings_log_var - K.exp(codings_log_var) - K.square(codings_mean),axis=-1)"
      ],
      "metadata": {
        "id": "NstXEPhmyirq"
      },
      "execution_count": null,
      "outputs": []
    },
    {
      "cell_type": "code",
      "source": [
        "variational_ae.add_loss(K.mean(latent_loss) / 784.)"
      ],
      "metadata": {
        "id": "c1cT_KwaywRM"
      },
      "execution_count": null,
      "outputs": []
    },
    {
      "cell_type": "code",
      "source": [
        "variational_ae.compile(loss=\"binary_crossentropy\", optimizer=\"adam\",\n",
        "metrics=[rounded_accuracy])"
      ],
      "metadata": {
        "id": "gdPjCvqqy3cX"
      },
      "execution_count": null,
      "outputs": []
    },
    {
      "cell_type": "code",
      "source": [
        "history = variational_ae.fit(X_train, X_train, epochs=10, batch_size=32)"
      ],
      "metadata": {
        "colab": {
          "base_uri": "https://localhost:8080/"
        },
        "id": "2oRo4W55y-Bj",
        "outputId": "6a6c5d11-06ef-4eae-f91c-7cfb0ea2214d"
      },
      "execution_count": null,
      "outputs": [
        {
          "output_type": "stream",
          "name": "stdout",
          "text": [
            "Epoch 1/10\n",
            "1875/1875 [==============================] - 18s 9ms/step - loss: 0.1851 - rounded_accuracy: 0.9275\n",
            "Epoch 2/10\n",
            "1875/1875 [==============================] - 17s 9ms/step - loss: 0.1566 - rounded_accuracy: 0.9447\n",
            "Epoch 3/10\n",
            "1875/1875 [==============================] - 15s 8ms/step - loss: 0.1516 - rounded_accuracy: 0.9479\n",
            "Epoch 4/10\n",
            "1875/1875 [==============================] - 16s 8ms/step - loss: 0.1487 - rounded_accuracy: 0.9497\n",
            "Epoch 5/10\n",
            "1875/1875 [==============================] - 17s 9ms/step - loss: 0.1468 - rounded_accuracy: 0.9510\n",
            "Epoch 6/10\n",
            "1875/1875 [==============================] - 17s 9ms/step - loss: 0.1452 - rounded_accuracy: 0.9520\n",
            "Epoch 7/10\n",
            "1875/1875 [==============================] - 26s 14ms/step - loss: 0.1440 - rounded_accuracy: 0.9528\n",
            "Epoch 8/10\n",
            "1875/1875 [==============================] - 22s 12ms/step - loss: 0.1431 - rounded_accuracy: 0.9534\n",
            "Epoch 9/10\n",
            "1875/1875 [==============================] - 21s 11ms/step - loss: 0.1423 - rounded_accuracy: 0.9540\n",
            "Epoch 10/10\n",
            "1875/1875 [==============================] - 22s 12ms/step - loss: 0.1416 - rounded_accuracy: 0.9544\n"
          ]
        }
      ]
    },
    {
      "cell_type": "code",
      "source": [
        "# function to plo images\n",
        "def plot_multiple_images(images, n_cols=None):\n",
        "  n_cols = n_cols or len(images)\n",
        "  n_rows = (len(images) - 1) // n_cols + 1\n",
        "  if images.shape[-1] == 1:\n",
        "    images = np.squeeze(images, axis=-1)\n",
        "  plt.figure(figsize=(n_cols, n_rows))\n",
        "  for index, image in enumerate(images):\n",
        "    plt.subplot(n_rows, n_cols, index + 1)\n",
        "    plt.imshow(image, cmap=\"binary\")\n",
        "    plt.axis(\"off\")"
      ],
      "metadata": {
        "id": "SrT3UXDOzgl8"
      },
      "execution_count": null,
      "outputs": []
    },
    {
      "cell_type": "code",
      "source": [
        "# use random uniform distributions to generate images\n",
        "codings = tf.random.normal(shape=[12, codings_size])\n",
        "images = variational_decoder(codings).numpy()\n",
        "plot_multiple_images(images, 4)"
      ],
      "metadata": {
        "colab": {
          "base_uri": "https://localhost:8080/",
          "height": 194
        },
        "id": "ltDoSuC5z1WO",
        "outputId": "ba1624f0-088e-46d4-a52a-78865e5d9e0a"
      },
      "execution_count": null,
      "outputs": [
        {
          "output_type": "display_data",
          "data": {
            "text/plain": [
              "<Figure size 288x216 with 12 Axes>"
            ],
            "image/png": "[encoded data removed]"
          },
          "metadata": {
            "needs_background": "light"
          }
        }
      ]
    }
  ]
}