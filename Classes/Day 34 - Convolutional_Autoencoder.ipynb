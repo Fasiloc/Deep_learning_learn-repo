{
  "nbformat": 4,
  "nbformat_minor": 0,
  "metadata": {
    "colab": {
      "name": "Convolutional Autoencoder.ipynb",
      "provenance": [],
      "collapsed_sections": []
    },
    "kernelspec": {
      "name": "python3",
      "display_name": "Python 3"
    },
    "language_info": {
      "name": "python"
    },
    "accelerator": "GPU"
  },
  "cells": [
    {
      "cell_type": "markdown",
      "source": [
        "**Convolutional Autoencoder - Lab Session**\n",
        "\n",
        "Learning outcome of the session\n",
        "\n",
        "● Trainees will learn how to build a convolutional autoencoder which is a better model than dense autoencoder for images. MNIST dataset is used here."
      ],
      "metadata": {
        "id": "wYQ2XolN1cO_"
      }
    },
    {
      "cell_type": "code",
      "source": [
        "# import the required files\n",
        "import numpy as np\n",
        "np.random.seed(42)\n",
        "import matplotlib.pyplot as plt\n",
        "%matplotlib inline\n",
        "import tensorflow as tf\n",
        "from tensorflow import keras"
      ],
      "metadata": {
        "id": "oB9pCPwd1zTa"
      },
      "execution_count": null,
      "outputs": []
    },
    {
      "cell_type": "code",
      "source": [
        "tf.random.set_seed(42)"
      ],
      "metadata": {
        "id": "Atmgtls72Ygt"
      },
      "execution_count": null,
      "outputs": []
    },
    {
      "cell_type": "code",
      "source": [
        "def plot_image(image):\n",
        "  plt.imshow(image, cmap=\"Greys\", interpolation=\"nearest\")\n",
        "  plt.axis(\"off\")"
      ],
      "metadata": {
        "id": "8CabIEkh2gBU"
      },
      "execution_count": null,
      "outputs": []
    },
    {
      "cell_type": "code",
      "source": [
        "# function to display reconstructed image along with original image\n",
        "def show_reconstructions(model, n_test_images = 2):\n",
        "  reconstructions = model.predict(X_test[:n_test_images])\n",
        "  fig = plt.figure(figsize=(8, 3 * n_test_images))\n",
        "  for image_index in range(n_test_images):\n",
        "    plt.subplot(n_test_images, 2, image_index * 2 + 1)\n",
        "    plot_image(X_test[image_index])\n",
        "    plt.subplot(n_test_images, 2, image_index * 2 + 2)\n",
        "    plot_image(reconstructions[image_index])"
      ],
      "metadata": {
        "id": "znb8aVUG2sN6"
      },
      "execution_count": null,
      "outputs": []
    },
    {
      "cell_type": "code",
      "source": [
        "def rounded_accuracy(y_true, y_pred):\n",
        "  return keras.metrics.binary_accuracy(tf.round(y_true), tf.round(y_pred))"
      ],
      "metadata": {
        "id": "A0Ph2-5s3X77"
      },
      "execution_count": null,
      "outputs": []
    },
    {
      "cell_type": "code",
      "source": [
        "# load and normalize data\n",
        "(X_train, y_train), (X_test, y_test) = keras.datasets.mnist.load_data()\n",
        "X_train = X_train / 255.0\n",
        "X_test = X_test / 255.0"
      ],
      "metadata": {
        "colab": {
          "base_uri": "https://localhost:8080/"
        },
        "id": "p95kLCVs3wOs",
        "outputId": "8c45f921-397b-4fd7-ee24-f66bd75662eb"
      },
      "execution_count": null,
      "outputs": [
        {
          "output_type": "stream",
          "name": "stdout",
          "text": [
            "Downloading data from https://storage.googleapis.com/tensorflow/tf-keras-datasets/mnist.npz\n",
            "11493376/11490434 [==============================] - 0s 0us/step\n",
            "11501568/11490434 [==============================] - 0s 0us/step\n"
          ]
        }
      ]
    },
    {
      "cell_type": "code",
      "source": [
        "# define encoder\n",
        "conv_encoder = keras.models.Sequential([\n",
        "  keras.layers.Reshape([28, 28, 1], input_shape=[28, 28]),\n",
        "  keras.layers.Conv2D(16, kernel_size=3, padding=\"SAME\", activation=\"relu\"),\n",
        "  keras.layers.MaxPool2D(pool_size=2),\n",
        "  keras.layers.Conv2D(32, kernel_size=3, padding=\"SAME\", activation=\"relu\"),\n",
        "  keras.layers.MaxPool2D(pool_size=2),\n",
        "  keras.layers.Conv2D(64, kernel_size=3, padding=\"SAME\", activation=\"relu\"),\n",
        "  keras.layers.MaxPool2D(pool_size=2)\n",
        "])"
      ],
      "metadata": {
        "id": "GQMJSaMN38wX"
      },
      "execution_count": null,
      "outputs": []
    },
    {
      "cell_type": "code",
      "source": [
        "# define decoder\n",
        "conv_decoder = keras.models.Sequential([\n",
        "  keras.layers.Conv2DTranspose(32, kernel_size=3, strides=2, padding=\"VALID\",\n",
        "  activation=\"relu\", input_shape=[3, 3, 64]),\n",
        "  keras.layers.Conv2DTranspose(16, kernel_size=3, strides=2, padding=\"SAME\",\n",
        "  activation=\"relu\"),\n",
        "  keras.layers.Conv2DTranspose(1, kernel_size=3, strides=2, padding=\"SAME\",\n",
        "  activation=\"sigmoid\"),\n",
        "  keras.layers.Reshape([28, 28])\n",
        "])"
      ],
      "metadata": {
        "id": "GN4CUsks4lXI"
      },
      "execution_count": null,
      "outputs": []
    },
    {
      "cell_type": "code",
      "source": [
        "# create the autoencoder model\n",
        "conv_ae = keras.models.Sequential([conv_encoder, conv_decoder])"
      ],
      "metadata": {
        "id": "NT_b5eP36up3"
      },
      "execution_count": null,
      "outputs": []
    },
    {
      "cell_type": "code",
      "source": [
        "conv_ae.summary()"
      ],
      "metadata": {
        "colab": {
          "base_uri": "https://localhost:8080/"
        },
        "id": "ofzNgYpH682y",
        "outputId": "3149bbe0-636e-4aa7-9bdd-132f82f25d4a"
      },
      "execution_count": null,
      "outputs": [
        {
          "output_type": "stream",
          "name": "stdout",
          "text": [
            "Model: \"sequential_2\"\n",
            "_________________________________________________________________\n",
            " Layer (type)                Output Shape              Param #   \n",
            "=================================================================\n",
            " sequential (Sequential)     (None, 3, 3, 64)          23296     \n",
            "                                                                 \n",
            " sequential_1 (Sequential)   (None, 28, 28)            23233     \n",
            "                                                                 \n",
            "=================================================================\n",
            "Total params: 46,529\n",
            "Trainable params: 46,529\n",
            "Non-trainable params: 0\n",
            "_________________________________________________________________\n"
          ]
        }
      ]
    },
    {
      "cell_type": "code",
      "source": [
        "# compile the model with the required loss function and optimizer\n",
        "conv_ae.compile(loss=\"binary_crossentropy\", optimizer='adam', metrics=[\"accuracy\"])"
      ],
      "metadata": {
        "id": "WPkBSkoE7AZZ"
      },
      "execution_count": null,
      "outputs": []
    },
    {
      "cell_type": "code",
      "source": [
        "# train the model\n",
        "history_convAE = conv_ae.fit(X_train, X_train, epochs=5)"
      ],
      "metadata": {
        "colab": {
          "base_uri": "https://localhost:8080/"
        },
        "id": "2TyBVueb8Wd-",
        "outputId": "0f64c011-1697-4fbe-b160-6249cd2a2a5f"
      },
      "execution_count": null,
      "outputs": [
        {
          "output_type": "stream",
          "name": "stdout",
          "text": [
            "Epoch 1/5\n",
            "1875/1875 [==============================] - 19s 4ms/step - loss: 0.1799 - accuracy: 0.2923\n",
            "Epoch 2/5\n",
            "1875/1875 [==============================] - 7s 4ms/step - loss: 0.1431 - accuracy: 0.4120\n",
            "Epoch 3/5\n",
            "1875/1875 [==============================] - 7s 4ms/step - loss: 0.1260 - accuracy: 0.4622\n",
            "Epoch 4/5\n",
            "1875/1875 [==============================] - 7s 4ms/step - loss: 0.1269 - accuracy: 0.4528\n",
            "Epoch 5/5\n",
            "1875/1875 [==============================] - 7s 4ms/step - loss: 0.1335 - accuracy: 0.4523\n"
          ]
        }
      ]
    },
    {
      "cell_type": "code",
      "source": [
        "show_reconstructions(conv_ae)\n",
        "plt.show()"
      ],
      "metadata": {
        "colab": {
          "base_uri": "https://localhost:8080/",
          "height": 357
        },
        "id": "fkm2OdyP8wPo",
        "outputId": "5ba296e1-8319-410f-9f0d-1878eeabadd6"
      },
      "execution_count": null,
      "outputs": [
        {
          "output_type": "display_data",
          "data": {
            "text/plain": [
              "<Figure size 576x432 with 4 Axes>"
            ],
            "image/png": "[encoded data removed]"
          },
          "metadata": {
            "needs_background": "light"
          }
        }
      ]
    }
  ]
}