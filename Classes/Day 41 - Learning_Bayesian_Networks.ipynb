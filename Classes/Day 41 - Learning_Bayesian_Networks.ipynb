{
  "nbformat": 4,
  "nbformat_minor": 0,
  "metadata": {
    "colab": {
      "name": "Learning Bayesian Networks.ipynb",
      "provenance": []
    },
    "kernelspec": {
      "name": "python3",
      "display_name": "Python 3"
    }
  },
  "cells": [
    {
      "cell_type": "code",
      "metadata": {
        "id": "pr7Z3IA9npXC",
        "colab": {
          "base_uri": "https://localhost:8080/"
        },
        "outputId": "9f9c7de8-92b1-4a52-920b-2d1ac4309ac7"
      },
      "source": [
        "!pip install pandas\n",
        "!pip install numpy\n",
        "!pip install pgmpy"
      ],
      "execution_count": 13,
      "outputs": [
        {
          "output_type": "stream",
          "name": "stdout",
          "text": [
            "Looking in indexes: https://pypi.org/simple, https://us-python.pkg.dev/colab-wheels/public/simple/\n",
            "Requirement already satisfied: pandas in /usr/local/lib/python3.7/dist-packages (1.3.5)\n",
            "Requirement already satisfied: numpy>=1.17.3 in /usr/local/lib/python3.7/dist-packages (from pandas) (1.21.6)\n",
            "Requirement already satisfied: python-dateutil>=2.7.3 in /usr/local/lib/python3.7/dist-packages (from pandas) (2.8.2)\n",
            "Requirement already satisfied: pytz>=2017.3 in /usr/local/lib/python3.7/dist-packages (from pandas) (2022.1)\n",
            "Requirement already satisfied: six>=1.5 in /usr/local/lib/python3.7/dist-packages (from python-dateutil>=2.7.3->pandas) (1.15.0)\n",
            "Looking in indexes: https://pypi.org/simple, https://us-python.pkg.dev/colab-wheels/public/simple/\n",
            "Requirement already satisfied: numpy in /usr/local/lib/python3.7/dist-packages (1.21.6)\n",
            "Looking in indexes: https://pypi.org/simple, https://us-python.pkg.dev/colab-wheels/public/simple/\n",
            "Requirement already satisfied: pgmpy in /usr/local/lib/python3.7/dist-packages (0.1.18)\n",
            "Requirement already satisfied: statsmodels in /usr/local/lib/python3.7/dist-packages (from pgmpy) (0.10.2)\n",
            "Requirement already satisfied: scipy in /usr/local/lib/python3.7/dist-packages (from pgmpy) (1.4.1)\n",
            "Requirement already satisfied: joblib in /usr/local/lib/python3.7/dist-packages (from pgmpy) (1.1.0)\n",
            "Requirement already satisfied: scikit-learn in /usr/local/lib/python3.7/dist-packages (from pgmpy) (1.0.2)\n",
            "Requirement already satisfied: pandas in /usr/local/lib/python3.7/dist-packages (from pgmpy) (1.3.5)\n",
            "Requirement already satisfied: networkx in /usr/local/lib/python3.7/dist-packages (from pgmpy) (2.6.3)\n",
            "Requirement already satisfied: torch in /usr/local/lib/python3.7/dist-packages (from pgmpy) (1.11.0+cu113)\n",
            "Requirement already satisfied: numpy in /usr/local/lib/python3.7/dist-packages (from pgmpy) (1.21.6)\n",
            "Requirement already satisfied: pyparsing in /usr/local/lib/python3.7/dist-packages (from pgmpy) (3.0.9)\n",
            "Requirement already satisfied: tqdm in /usr/local/lib/python3.7/dist-packages (from pgmpy) (4.64.0)\n",
            "Requirement already satisfied: pytz>=2017.3 in /usr/local/lib/python3.7/dist-packages (from pandas->pgmpy) (2022.1)\n",
            "Requirement already satisfied: python-dateutil>=2.7.3 in /usr/local/lib/python3.7/dist-packages (from pandas->pgmpy) (2.8.2)\n",
            "Requirement already satisfied: six>=1.5 in /usr/local/lib/python3.7/dist-packages (from python-dateutil>=2.7.3->pandas->pgmpy) (1.15.0)\n",
            "Requirement already satisfied: threadpoolctl>=2.0.0 in /usr/local/lib/python3.7/dist-packages (from scikit-learn->pgmpy) (3.1.0)\n",
            "Requirement already satisfied: patsy>=0.4.0 in /usr/local/lib/python3.7/dist-packages (from statsmodels->pgmpy) (0.5.2)\n",
            "Requirement already satisfied: typing-extensions in /usr/local/lib/python3.7/dist-packages (from torch->pgmpy) (4.1.1)\n"
          ]
        }
      ]
    },
    {
      "cell_type": "markdown",
      "metadata": {
        "id": "GzNfOBdPiINs"
      },
      "source": [
        "# **Learning Bayesian Networks**"
      ]
    },
    {
      "cell_type": "markdown",
      "metadata": {
        "id": "haooIWMtiSQP"
      },
      "source": [
        "Bayesian networks encode a probability distribution over a set of variables, and how they can be used e.g. to predict variable states, or to generate new samples from the joint distribution. This section will be about obtaining a Bayesian network, given a set of sample data. Learning a Bayesian network can be split into two problems:\n",
        "\n",
        "  **Parameter learning**: Given a set of data samples and a DAG that captures the dependencies between the variables, estimate the (conditional) probability distributions of the individual variables.\n",
        "\n",
        "  **Structure learning**: Given a set of data samples, estimate a DAG that captures the dependencies between the variables.\n",
        "\n",
        "  This notebook aims to illustrate how parameter learning and structure learning can be done with pgmpy. Currently, the library supports:\n",
        "  \n",
        "\n",
        "Parameter learning for discrete nodes:\n",
        "\n",
        "*   Maximum Likelihood Estimation\n",
        "*   Bayesian Estimation\n",
        "    \n",
        "Structure learning for discrete, fully observed networks:\n",
        "    \n",
        "*    Score-based structure estimation (BIC/BDeu/K2 score; exhaustive search, hill climb/tabu search)\n",
        "*   Constraint-based structure estimation (PC)\n",
        "*   Hybrid structure estimation (MMHC)\n",
        "\n",
        "\n",
        "# **Parameter Learning **\n",
        "\n",
        "  Suppose we have the following data:"
      ]
    },
    {
      "cell_type": "code",
      "metadata": {
        "id": "rmqcjyXdiH32",
        "colab": {
          "base_uri": "https://localhost:8080/"
        },
        "outputId": "41e20755-902c-46ca-c3ec-ff8c39bbc112"
      },
      "source": [
        "\n",
        "import pandas as pd\n",
        "data = pd.DataFrame(data={'fruit': [\"banana\", \"apple\", \"banana\", \"apple\", \"banana\",\"apple\", \"banana\", \n",
        "                                    \"apple\", \"apple\", \"apple\", \"banana\", \"banana\", \"apple\", \"banana\",], \n",
        "                          'tasty': [\"yes\", \"no\", \"yes\", \"yes\", \"yes\", \"yes\", \"yes\", \n",
        "                                    \"yes\", \"yes\", \"yes\", \"yes\", \"no\", \"no\", \"no\"], \n",
        "                          'size': [\"large\", \"large\", \"large\", \"small\", \"large\", \"large\", \"large\",\n",
        "                                    \"small\", \"large\", \"large\", \"large\", \"large\", \"small\", \"small\"]})\n",
        "print(data)"
      ],
      "execution_count": 14,
      "outputs": [
        {
          "output_type": "stream",
          "name": "stdout",
          "text": [
            "     fruit tasty   size\n",
            "0   banana   yes  large\n",
            "1    apple    no  large\n",
            "2   banana   yes  large\n",
            "3    apple   yes  small\n",
            "4   banana   yes  large\n",
            "5    apple   yes  large\n",
            "6   banana   yes  large\n",
            "7    apple   yes  small\n",
            "8    apple   yes  large\n",
            "9    apple   yes  large\n",
            "10  banana   yes  large\n",
            "11  banana    no  large\n",
            "12   apple    no  small\n",
            "13  banana    no  small\n"
          ]
        }
      ]
    },
    {
      "cell_type": "markdown",
      "metadata": {
        "id": "PyZuFK0ljuxU"
      },
      "source": [
        "We know that the variables relate as follows:"
      ]
    },
    {
      "cell_type": "code",
      "metadata": {
        "id": "-qb8XKJIh1fO",
        "colab": {
          "base_uri": "https://localhost:8080/"
        },
        "outputId": "013775e7-fbc7-43e8-a6d3-cc3dd72860d8"
      },
      "source": [
        "\n",
        "from pgmpy.models import BayesianModel\n",
        "\n",
        "model = BayesianModel([('fruit', 'tasty'), ('size', 'tasty')])  # fruit -> tasty <- size"
      ],
      "execution_count": 15,
      "outputs": [
        {
          "output_type": "stream",
          "name": "stderr",
          "text": [
            "/usr/local/lib/python3.7/dist-packages/pgmpy/models/BayesianModel.py:10: FutureWarning: BayesianModel has been renamed to BayesianNetwork. Please use BayesianNetwork class, BayesianModel will be removed in future.\n",
            "  FutureWarning,\n"
          ]
        }
      ]
    },
    {
      "cell_type": "markdown",
      "metadata": {
        "id": "gJuxmhzGj0Ht"
      },
      "source": [
        "\n",
        "Parameter learning is the task to estimate the values of the conditional probability distributions (CPDs), for the variables fruit, size, and tasty."
      ]
    },
    {
      "cell_type": "markdown",
      "metadata": {
        "id": "2WglsabviF7O"
      },
      "source": [
        "State counts\n",
        "To make sense of the given data, we can start by counting how often each state of the variable occurs. If the variable is dependent on parents, the counts are done conditionally on the parents states, i.e. for seperately for each parent configuration:"
      ]
    },
    {
      "cell_type": "code",
      "metadata": {
        "id": "7Jbq8VxNj6Mq",
        "colab": {
          "base_uri": "https://localhost:8080/"
        },
        "outputId": "cbd7467e-05f4-4be2-edf4-bc3623aadbde"
      },
      "source": [
        "from pgmpy.estimators import ParameterEstimator\n",
        "pe = ParameterEstimator(model, data)\n",
        "print(\"\\n\", pe.state_counts('fruit'))  # unconditional\n",
        "print(\"\\n\", pe.state_counts('tasty'))  # conditional on fruit and size"
      ],
      "execution_count": 16,
      "outputs": [
        {
          "output_type": "stream",
          "name": "stdout",
          "text": [
            "\n",
            "         fruit\n",
            "apple       7\n",
            "banana      7\n",
            "\n",
            " fruit apple       banana      \n",
            "size  large small  large small\n",
            "tasty                         \n",
            "no      1.0   1.0    1.0   1.0\n",
            "yes     3.0   2.0    5.0   0.0\n"
          ]
        }
      ]
    },
    {
      "cell_type": "markdown",
      "metadata": {
        "id": "v93TdPWdj4AY"
      },
      "source": [
        "We can see, for example, that as many apples as bananas were observed and that 5 large bananas were tasty, while only 1 was not."
      ]
    },
    {
      "cell_type": "markdown",
      "metadata": {
        "id": "VaeRKm7qj-SS"
      },
      "source": [
        "**Maximum Likelihood Estimation**\n",
        "\n",
        "\n",
        "A natural estimate for the CPDs is to simply use the relative frequencies, with which the variable states have occured. We observed 7 apples among a total of 14 fruits, so we might guess that about 50% of fruits are apples.\n",
        "\n",
        "This approach is Maximum Likelihood Estimation (MLE). According to MLE, we should fill the CPDs in such a way, that $P(\\text{data}|\\text{model})$ is maximal. This is achieved when using the relative frequencies. See [1], section 17.1 for an introduction to ML parameter estimation. pgmpy supports MLE as follows:"
      ]
    },
    {
      "cell_type": "code",
      "metadata": {
        "id": "njSaSDoFkcvK",
        "colab": {
          "base_uri": "https://localhost:8080/"
        },
        "outputId": "0ff9ad40-3351-4087-bad3-a4dc18828444"
      },
      "source": [
        "from pgmpy.estimators import MaximumLikelihoodEstimator\n",
        "mle = MaximumLikelihoodEstimator(model, data)\n",
        "print(mle.estimate_cpd('fruit'))  # unconditional\n",
        "print(mle.estimate_cpd('tasty'))  # conditional"
      ],
      "execution_count": 17,
      "outputs": [
        {
          "output_type": "stream",
          "name": "stdout",
          "text": [
            "+---------------+-----+\n",
            "| fruit(apple)  | 0.5 |\n",
            "+---------------+-----+\n",
            "| fruit(banana) | 0.5 |\n",
            "+---------------+-----+\n",
            "+------------+--------------+-----+---------------+\n",
            "| fruit      | fruit(apple) | ... | fruit(banana) |\n",
            "+------------+--------------+-----+---------------+\n",
            "| size       | size(large)  | ... | size(small)   |\n",
            "+------------+--------------+-----+---------------+\n",
            "| tasty(no)  | 0.25         | ... | 1.0           |\n",
            "+------------+--------------+-----+---------------+\n",
            "| tasty(yes) | 0.75         | ... | 0.0           |\n",
            "+------------+--------------+-----+---------------+\n"
          ]
        }
      ]
    },
    {
      "cell_type": "markdown",
      "metadata": {
        "id": "q0ey1LYUkeZs"
      },
      "source": [
        "\n",
        "mle.estimate_cpd(variable) computes the state counts and divides each cell by the (conditional) sample size. The mle.get_parameters()-method returns a list of CPDs for all variable of the model.\n",
        "\n",
        "The built-in fit()-method of BayesianModel provides more convenient access to parameter estimators:"
      ]
    },
    {
      "cell_type": "code",
      "metadata": {
        "id": "aaWwb3bjkh5f"
      },
      "source": [
        "# Calibrate all CPDs of `model` using MLE:\n",
        "model.fit(data, estimator=MaximumLikelihoodEstimator)"
      ],
      "execution_count": 18,
      "outputs": []
    },
    {
      "cell_type": "markdown",
      "metadata": {
        "id": "SkmI3Kn_ki8K"
      },
      "source": [
        "\n",
        "While very straightforward, the ML estimator has the problem of overfitting to the data. In above CPD, the probability of a large banana being tasty is estimated at 0.833, because 5 out of 6 observed large bananas were tasty. Fine. But note that the probability of a small banana being tasty is estimated at 0.0, because we observed only one small banana and it happened to be not tasty. But that should hardly make us certain that small bananas aren't tasty! We simply do not have enough observations to rely on the observed frequencies. If the observed data is not representative for the underlying distribution, ML estimations will be extremly far off.\n",
        "\n",
        "When estimating parameters for Bayesian networks, lack of data is a frequent problem. Even if the total sample size is very large, the fact that state counts are done conditionally for each parents configuration causes immense fragmentation. If a variable has 3 parents that can each take 10 states, then state counts will be done seperately for 10^3 = 1000 parents configurations. This makes MLE very fragile and unstable for learning Bayesian Network parameters. A way to mitigate MLE's overfitting is Bayesian Parameter Estimation."
      ]
    },
    {
      "cell_type": "markdown",
      "metadata": {
        "id": "24DHWylrkm4q"
      },
      "source": [
        "**Bayesian Parameter Estimation**\n",
        "\n",
        "\n",
        "The Bayesian Parameter Estimator starts with already existing prior CPDs, that express our beliefs about the variables before the data was observed. Those \"priors\" are then updated, using the state counts from the observed data. See [1], Section 17.3 for a general introduction to Bayesian estimators.\n",
        "\n",
        "One can think of the priors as consisting in pseudo state counts, that are added to the actual counts before normalization. Unless one wants to encode specific beliefs about the distributions of the variables, one commonly chooses uniform priors, i.e. ones that deem all states equiprobable.\n",
        "\n",
        "A very simple prior is the so-called K2 prior, which simply adds 1 to the count of every single state. A somewhat more sensible choice of prior is BDeu (Bayesian Dirichlet equivalent uniform prior). For BDeu we need to specify an equivalent sample size N and then the pseudo-counts are the equivalent of having observed N uniform samples of each variable (and each parent configuration). In pgmpy:"
      ]
    },
    {
      "cell_type": "code",
      "metadata": {
        "id": "5Ehug-m1ksU_",
        "colab": {
          "base_uri": "https://localhost:8080/"
        },
        "outputId": "8184d0a7-84e4-47ac-aa97-d74591ac65d6"
      },
      "source": [
        "from pgmpy.estimators import BayesianEstimator\n",
        "est = BayesianEstimator(model, data)\n",
        "\n",
        "print(est.estimate_cpd('tasty', prior_type='BDeu', equivalent_sample_size=10))"
      ],
      "execution_count": 19,
      "outputs": [
        {
          "output_type": "stream",
          "name": "stdout",
          "text": [
            "+------------+---------------------+-----+---------------------+\n",
            "| fruit      | fruit(apple)        | ... | fruit(banana)       |\n",
            "+------------+---------------------+-----+---------------------+\n",
            "| size       | size(large)         | ... | size(small)         |\n",
            "+------------+---------------------+-----+---------------------+\n",
            "| tasty(no)  | 0.34615384615384615 | ... | 0.6428571428571429  |\n",
            "+------------+---------------------+-----+---------------------+\n",
            "| tasty(yes) | 0.6538461538461539  | ... | 0.35714285714285715 |\n",
            "+------------+---------------------+-----+---------------------+\n"
          ]
        }
      ]
    },
    {
      "cell_type": "markdown",
      "metadata": {
        "id": "5rODmDHiku43"
      },
      "source": [
        "\n",
        "The estimated values in the CPDs are now more conservative. In particular, the estimate for a small banana being not tasty is now around 0.64 rather than 1.0. Setting equivalent_sample_size to 10 means that for each parent configuration, we add the equivalent of 10 uniform samples (here: +5 small bananas that are tasty and +5 that aren't).\n",
        "\n",
        "BayesianEstimator, too, can be used via the fit()-method. Full example:"
      ]
    },
    {
      "cell_type": "code",
      "metadata": {
        "id": "lO8azF9pkv8H",
        "colab": {
          "base_uri": "https://localhost:8080/"
        },
        "outputId": "5edea94f-1ec9-4089-c52b-aa96dceb568d"
      },
      "source": [
        "import numpy as np\n",
        "import pandas as pd\n",
        "from pgmpy.models import BayesianModel\n",
        "from pgmpy.estimators import BayesianEstimator\n",
        "\n",
        "# generate data\n",
        "data = pd.DataFrame(np.random.randint(low=0, high=2, size=(5000, 4)), columns=['A', 'B', 'C', 'D'])\n",
        "model = BayesianModel([('A', 'B'), ('A', 'C'), ('D', 'C'), ('B', 'D')])\n",
        "\n",
        "model.fit(data, estimator=BayesianEstimator, prior_type=\"BDeu\") # default equivalent_sample_size=5\n",
        "for cpd in model.get_cpds():\n",
        "    print(cpd)"
      ],
      "execution_count": 20,
      "outputs": [
        {
          "output_type": "stream",
          "name": "stdout",
          "text": [
            "+------+----------+\n",
            "| A(0) | 0.494206 |\n",
            "+------+----------+\n",
            "| A(1) | 0.505794 |\n",
            "+------+----------+\n",
            "+------+--------------------+--------------------+\n",
            "| A    | A(0)               | A(1)               |\n",
            "+------+--------------------+--------------------+\n",
            "| B(0) | 0.5111178492015362 | 0.4990124432154849 |\n",
            "+------+--------------------+--------------------+\n",
            "| B(1) | 0.4888821507984637 | 0.5009875567845151 |\n",
            "+------+--------------------+--------------------+\n",
            "+------+---------------------+-----+--------------------+\n",
            "| A    | A(0)                | ... | A(1)               |\n",
            "+------+---------------------+-----+--------------------+\n",
            "| D    | D(0)                | ... | D(1)               |\n",
            "+------+---------------------+-----+--------------------+\n",
            "| C(0) | 0.500780487804878   | ... | 0.5053794428434197 |\n",
            "+------+---------------------+-----+--------------------+\n",
            "| C(1) | 0.49921951219512195 | ... | 0.4946205571565802 |\n",
            "+------+---------------------+-----+--------------------+\n",
            "+------+--------------------+---------------------+\n",
            "| B    | B(0)               | B(1)                |\n",
            "+------+--------------------+---------------------+\n",
            "| D(0) | 0.5037586547972305 | 0.49979818365287587 |\n",
            "+------+--------------------+---------------------+\n",
            "| D(1) | 0.4962413452027695 | 0.5002018163471241  |\n",
            "+------+--------------------+---------------------+\n"
          ]
        },
        {
          "output_type": "stream",
          "name": "stderr",
          "text": [
            "/usr/local/lib/python3.7/dist-packages/pgmpy/models/BayesianModel.py:10: FutureWarning: BayesianModel has been renamed to BayesianNetwork. Please use BayesianNetwork class, BayesianModel will be removed in future.\n",
            "  FutureWarning,\n"
          ]
        }
      ]
    }
  ]
}