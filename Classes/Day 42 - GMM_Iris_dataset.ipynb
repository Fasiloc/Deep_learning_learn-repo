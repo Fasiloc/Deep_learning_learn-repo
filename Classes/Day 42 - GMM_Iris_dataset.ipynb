{
  "nbformat": 4,
  "nbformat_minor": 0,
  "metadata": {
    "colab": {
      "name": "GMM Iris dataset",
      "provenance": []
    },
    "kernelspec": {
      "name": "python3",
      "display_name": "Python 3"
    },
    "language_info": {
      "name": "python"
    }
  },
  "cells": [
    {
      "cell_type": "code",
      "execution_count": 1,
      "metadata": {
        "colab": {
          "base_uri": "https://localhost:8080/",
          "height": 285
        },
        "id": "8qfbvBqHWmlQ",
        "outputId": "46f559ad-4848-4d39-b5bd-c07986d32259"
      },
      "outputs": [
        {
          "output_type": "execute_result",
          "data": {
            "text/plain": [
              "<matplotlib.collections.PathCollection at 0x7f167f7fba90>"
            ]
          },
          "metadata": {},
          "execution_count": 1
        },
        {
          "output_type": "display_data",
          "data": {
            "text/plain": [
              "<Figure size 432x288 with 1 Axes>"
            ],
            "image/png": "[encoded data removed]"
          },
          "metadata": {
            "needs_background": "light"
          }
        }
      ],
      "source": [
        "import numpy as np\n",
        "import pandas as pd\n",
        "import matplotlib.pyplot as plt\n",
        "from pandas import DataFrame\n",
        "from sklearn import datasets\n",
        "from sklearn.mixture import GaussianMixture\n",
        "\n",
        "# load the iris dataset\n",
        "iris = datasets.load_iris()\n",
        "\n",
        "# select first two columns\n",
        "X = iris.data[:, :2]\n",
        "\n",
        "# turn it into a dataframe\n",
        "d = pd.DataFrame(X)\n",
        "\n",
        "# plot the data\n",
        "plt.scatter(d[0], d[1])\n"
      ]
    },
    {
      "cell_type": "code",
      "source": [
        "gmm = GaussianMixture(n_components = 3)\n",
        "\n",
        "# Fit the GMM model for the dataset\n",
        "# which expresses the dataset as a\n",
        "# mixture of 3 Gaussian Distribution\n",
        "gmm.fit(d)\n",
        "\n",
        "# Assign a label to each sample\n",
        "labels = gmm.predict(d)\n",
        "d['labels']= labels\n",
        "d0 = d[d['labels']== 0]\n",
        "d1 = d[d['labels']== 1]\n",
        "d2 = d[d['labels']== 2]\n",
        "\n",
        "# plot three clusters in same plot\n",
        "plt.scatter(d0[0], d0[1], c ='r')\n",
        "plt.scatter(d1[0], d1[1], c ='yellow')\n",
        "plt.scatter(d2[0], d2[1], c ='g')\n"
      ],
      "metadata": {
        "colab": {
          "base_uri": "https://localhost:8080/",
          "height": 375
        },
        "id": "poJEGwxCXCVr",
        "outputId": "bd4cfcad-0f7f-410a-a49f-4b79e1780afb"
      },
      "execution_count": 14,
      "outputs": [
        {
          "output_type": "stream",
          "name": "stderr",
          "text": [
            "/usr/local/lib/python3.7/dist-packages/sklearn/utils/validation.py:1692: FutureWarning: Feature names only support names that are all strings. Got feature names with dtypes: ['int', 'str']. An error will be raised in 1.2.\n",
            "  FutureWarning,\n",
            "/usr/local/lib/python3.7/dist-packages/sklearn/utils/validation.py:1692: FutureWarning: Feature names only support names that are all strings. Got feature names with dtypes: ['int', 'str']. An error will be raised in 1.2.\n",
            "  FutureWarning,\n"
          ]
        },
        {
          "output_type": "execute_result",
          "data": {
            "text/plain": [
              "<matplotlib.collections.PathCollection at 0x7f167a681d90>"
            ]
          },
          "metadata": {},
          "execution_count": 14
        },
        {
          "output_type": "display_data",
          "data": {
            "text/plain": [
              "<Figure size 432x288 with 1 Axes>"
            ],
            "image/png": "[encoded data removed]"
          },
          "metadata": {
            "needs_background": "light"
          }
        }
      ]
    },
    {
      "cell_type": "code",
      "source": [
        "# print the converged log-likelihood value\n",
        "print(gmm.lower_bound_)\n",
        "\n",
        "# print the number of iterations needed\n",
        "# for the log-likelihood value to converge\n",
        "print(gmm.n_iter_)\n"
      ],
      "metadata": {
        "colab": {
          "base_uri": "https://localhost:8080/"
        },
        "id": "A9gddJjnXEej",
        "outputId": "d9e194d1-7195-40fe-acc4-312dc8d171c8"
      },
      "execution_count": 15,
      "outputs": [
        {
          "output_type": "stream",
          "name": "stdout",
          "text": [
            "4.376407931700725\n",
            "2\n"
          ]
        }
      ]
    },
    {
      "cell_type": "code",
      "source": [
        "print(gmm.means_)\n",
        "print('\\n')\n",
        "print(gmm.covariances_)"
      ],
      "metadata": {
        "colab": {
          "base_uri": "https://localhost:8080/"
        },
        "id": "KZzgwzHnaLaO",
        "outputId": "272227a4-2e1e-4114-cb02-d404e4706d1f"
      },
      "execution_count": 7,
      "outputs": [
        {
          "output_type": "stream",
          "name": "stdout",
          "text": [
            "[[6.68055626 3.02849627]\n",
            " [5.9009976  2.74387546]\n",
            " [5.01507898 3.4514463 ]]\n",
            "\n",
            "\n",
            "[[[0.36153508 0.05159664]\n",
            "  [0.05159664 0.08927917]]\n",
            "\n",
            " [[0.27671149 0.08897036]\n",
            "  [0.08897036 0.09389206]]\n",
            "\n",
            " [[0.11944714 0.08835648]\n",
            "  [0.08835648 0.11893388]]]\n"
          ]
        }
      ]
    },
    {
      "cell_type": "code",
      "source": [
        ""
      ],
      "metadata": {
        "id": "m4v13JBqj63p"
      },
      "execution_count": null,
      "outputs": []
    }
  ]
}