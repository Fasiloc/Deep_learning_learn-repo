{
  "nbformat": 4,
  "nbformat_minor": 0,
  "metadata": {
    "colab": {
      "provenance": [],
      "mount_file_id": "1jZl_94MFW756huX-HfYCfISMIHVqMGEw",
      "authorship_tag": "ABX9TyP+GkskJejnrraurcCmKLc0",
      "include_colab_link": true
    },
    "kernelspec": {
      "name": "python3",
      "display_name": "Python 3"
    },
    "language_info": {
      "name": "python"
    }
  },
  "cells": [
    {
      "cell_type": "markdown",
      "metadata": {
        "id": "view-in-github",
        "colab_type": "text"
      },
      "source": [
        "<a href=\"https://colab.research.google.com/github/Fasiloc/Deep_learning_learn-repo/blob/main/Mini%20Project/Mini_project_Credit_card_Fraud_Detection_Fasil_oc.ipynb\" target=\"_parent\"><img src=\"https://colab.research.google.com/assets/colab-badge.svg\" alt=\"Open In Colab\"/></a>"
      ]
    },
    {
      "cell_type": "code",
      "execution_count": null,
      "metadata": {
        "id": "K3wKE7WkQ-2i"
      },
      "outputs": [],
      "source": [
        "# importing libraries\n",
        "import pandas as pd\n",
        "import numpy as np\n",
        "from tensorflow import keras"
      ]
    },
    {
      "cell_type": "markdown",
      "source": [
        "creditcard.csv dataset is taken from kaggle. It is shortened further limited to 99999 columns due to network limitations"
      ],
      "metadata": {
        "id": "Yd1nTuHb1zfE"
      }
    },
    {
      "cell_type": "code",
      "source": [
        "# Dataset loading\n",
        "credit = pd.read_csv('/content/drive/MyDrive/Deep Learning Miniproject/creditcard.csv')"
      ],
      "metadata": {
        "id": "svO3TyM_SBlF"
      },
      "execution_count": null,
      "outputs": []
    },
    {
      "cell_type": "code",
      "source": [
        "credit.head(10)"
      ],
      "metadata": {
        "id": "zxNBxCUQSY7u",
        "colab": {
          "base_uri": "https://localhost:8080/",
          "height": 456
        },
        "outputId": "79c22386-12fa-4c1d-9534-40920159137d"
      },
      "execution_count": null,
      "outputs": [
        {
          "output_type": "execute_result",
          "data": {
            "text/plain": [
              "   Time        V1        V2        V3        V4        V5        V6        V7  \\\n",
              "0   0.0 -1.359807 -0.072781  2.536347  1.378155 -0.338321  0.462388  0.239599   \n",
              "1   0.0  1.191857  0.266151  0.166480  0.448154  0.060018 -0.082361 -0.078803   \n",
              "2   1.0 -1.358354 -1.340163  1.773209  0.379780 -0.503198  1.800499  0.791461   \n",
              "3   1.0 -0.966272 -0.185226  1.792993 -0.863291 -0.010309  1.247203  0.237609   \n",
              "4   2.0 -1.158233  0.877737  1.548718  0.403034 -0.407193  0.095921  0.592941   \n",
              "5   2.0 -0.425966  0.960523  1.141109 -0.168252  0.420987 -0.029728  0.476201   \n",
              "6   4.0  1.229658  0.141004  0.045371  1.202613  0.191881  0.272708 -0.005159   \n",
              "7   7.0 -0.644269  1.417964  1.074380 -0.492199  0.948934  0.428118  1.120631   \n",
              "8   7.0 -0.894286  0.286157 -0.113192 -0.271526  2.669599  3.721818  0.370145   \n",
              "9   9.0 -0.338262  1.119593  1.044367 -0.222187  0.499361 -0.246761  0.651583   \n",
              "\n",
              "         V8        V9  ...       V21       V22       V23       V24       V25  \\\n",
              "0  0.098698  0.363787  ... -0.018307  0.277838 -0.110474  0.066928  0.128539   \n",
              "1  0.085102 -0.255425  ... -0.225775 -0.638672  0.101288 -0.339846  0.167170   \n",
              "2  0.247676 -1.514654  ...  0.247998  0.771679  0.909412 -0.689281 -0.327642   \n",
              "3  0.377436 -1.387024  ... -0.108300  0.005274 -0.190321 -1.175575  0.647376   \n",
              "4 -0.270533  0.817739  ... -0.009431  0.798278 -0.137458  0.141267 -0.206010   \n",
              "5  0.260314 -0.568671  ... -0.208254 -0.559825 -0.026398 -0.371427 -0.232794   \n",
              "6  0.081213  0.464960  ... -0.167716 -0.270710 -0.154104 -0.780055  0.750137   \n",
              "7 -3.807864  0.615375  ...  1.943465 -1.015455  0.057504 -0.649709 -0.415267   \n",
              "8  0.851084 -0.392048  ... -0.073425 -0.268092 -0.204233  1.011592  0.373205   \n",
              "9  0.069539 -0.736727  ... -0.246914 -0.633753 -0.120794 -0.385050 -0.069733   \n",
              "\n",
              "        V26       V27       V28  Amount  Class  \n",
              "0 -0.189115  0.133558 -0.021053  149.62    0.0  \n",
              "1  0.125895 -0.008983  0.014724    2.69    0.0  \n",
              "2 -0.139097 -0.055353 -0.059752  378.66    0.0  \n",
              "3 -0.221929  0.062723  0.061458  123.50    0.0  \n",
              "4  0.502292  0.219422  0.215153   69.99    0.0  \n",
              "5  0.105915  0.253844  0.081080    3.67    0.0  \n",
              "6 -0.257237  0.034507  0.005168    4.99    0.0  \n",
              "7 -0.051634 -1.206921 -1.085339   40.80    0.0  \n",
              "8 -0.384157  0.011747  0.142404   93.20    0.0  \n",
              "9  0.094199  0.246219  0.083076    3.68    0.0  \n",
              "\n",
              "[10 rows x 31 columns]"
            ],
            "text/html": [
              "\n",
              "  <div id=\"df-86626b8e-f7b7-4a9b-bcf4-5c14bf3ccc41\">\n",
              "    <div class=\"colab-df-container\">\n",
              "      <div>\n",
              "<style scoped>\n",
              "    .dataframe tbody tr th:only-of-type {\n",
              "        vertical-align: middle;\n",
              "    }\n",
              "\n",
              "    .dataframe tbody tr th {\n",
              "        vertical-align: top;\n",
              "    }\n",
              "\n",
              "    .dataframe thead th {\n",
              "        text-align: right;\n",
              "    }\n",
              "</style>\n",
              "<table border=\"1\" class=\"dataframe\">\n",
              "  <thead>\n",
              "    <tr style=\"text-align: right;\">\n",
              "      <th></th>\n",
              "      <th>Time</th>\n",
              "      <th>V1</th>\n",
              "      <th>V2</th>\n",
              "      <th>V3</th>\n",
              "      <th>V4</th>\n",
              "      <th>V5</th>\n",
              "      <th>V6</th>\n",
              "      <th>V7</th>\n",
              "      <th>V8</th>\n",
              "      <th>V9</th>\n",
              "      <th>...</th>\n",
              "      <th>V21</th>\n",
              "      <th>V22</th>\n",
              "      <th>V23</th>\n",
              "      <th>V24</th>\n",
              "      <th>V25</th>\n",
              "      <th>V26</th>\n",
              "      <th>V27</th>\n",
              "      <th>V28</th>\n",
              "      <th>Amount</th>\n",
              "      <th>Class</th>\n",
              "    </tr>\n",
              "  </thead>\n",
              "  <tbody>\n",
              "    <tr>\n",
              "      <th>0</th>\n",
              "      <td>0.0</td>\n",
              "      <td>-1.359807</td>\n",
              "      <td>-0.072781</td>\n",
              "      <td>2.536347</td>\n",
              "      <td>1.378155</td>\n",
              "      <td>-0.338321</td>\n",
              "      <td>0.462388</td>\n",
              "      <td>0.239599</td>\n",
              "      <td>0.098698</td>\n",
              "      <td>0.363787</td>\n",
              "      <td>...</td>\n",
              "      <td>-0.018307</td>\n",
              "      <td>0.277838</td>\n",
              "      <td>-0.110474</td>\n",
              "      <td>0.066928</td>\n",
              "      <td>0.128539</td>\n",
              "      <td>-0.189115</td>\n",
              "      <td>0.133558</td>\n",
              "      <td>-0.021053</td>\n",
              "      <td>149.62</td>\n",
              "      <td>0.0</td>\n",
              "    </tr>\n",
              "    <tr>\n",
              "      <th>1</th>\n",
              "      <td>0.0</td>\n",
              "      <td>1.191857</td>\n",
              "      <td>0.266151</td>\n",
              "      <td>0.166480</td>\n",
              "      <td>0.448154</td>\n",
              "      <td>0.060018</td>\n",
              "      <td>-0.082361</td>\n",
              "      <td>-0.078803</td>\n",
              "      <td>0.085102</td>\n",
              "      <td>-0.255425</td>\n",
              "      <td>...</td>\n",
              "      <td>-0.225775</td>\n",
              "      <td>-0.638672</td>\n",
              "      <td>0.101288</td>\n",
              "      <td>-0.339846</td>\n",
              "      <td>0.167170</td>\n",
              "      <td>0.125895</td>\n",
              "      <td>-0.008983</td>\n",
              "      <td>0.014724</td>\n",
              "      <td>2.69</td>\n",
              "      <td>0.0</td>\n",
              "    </tr>\n",
              "    <tr>\n",
              "      <th>2</th>\n",
              "      <td>1.0</td>\n",
              "      <td>-1.358354</td>\n",
              "      <td>-1.340163</td>\n",
              "      <td>1.773209</td>\n",
              "      <td>0.379780</td>\n",
              "      <td>-0.503198</td>\n",
              "      <td>1.800499</td>\n",
              "      <td>0.791461</td>\n",
              "      <td>0.247676</td>\n",
              "      <td>-1.514654</td>\n",
              "      <td>...</td>\n",
              "      <td>0.247998</td>\n",
              "      <td>0.771679</td>\n",
              "      <td>0.909412</td>\n",
              "      <td>-0.689281</td>\n",
              "      <td>-0.327642</td>\n",
              "      <td>-0.139097</td>\n",
              "      <td>-0.055353</td>\n",
              "      <td>-0.059752</td>\n",
              "      <td>378.66</td>\n",
              "      <td>0.0</td>\n",
              "    </tr>\n",
              "    <tr>\n",
              "      <th>3</th>\n",
              "      <td>1.0</td>\n",
              "      <td>-0.966272</td>\n",
              "      <td>-0.185226</td>\n",
              "      <td>1.792993</td>\n",
              "      <td>-0.863291</td>\n",
              "      <td>-0.010309</td>\n",
              "      <td>1.247203</td>\n",
              "      <td>0.237609</td>\n",
              "      <td>0.377436</td>\n",
              "      <td>-1.387024</td>\n",
              "      <td>...</td>\n",
              "      <td>-0.108300</td>\n",
              "      <td>0.005274</td>\n",
              "      <td>-0.190321</td>\n",
              "      <td>-1.175575</td>\n",
              "      <td>0.647376</td>\n",
              "      <td>-0.221929</td>\n",
              "      <td>0.062723</td>\n",
              "      <td>0.061458</td>\n",
              "      <td>123.50</td>\n",
              "      <td>0.0</td>\n",
              "    </tr>\n",
              "    <tr>\n",
              "      <th>4</th>\n",
              "      <td>2.0</td>\n",
              "      <td>-1.158233</td>\n",
              "      <td>0.877737</td>\n",
              "      <td>1.548718</td>\n",
              "      <td>0.403034</td>\n",
              "      <td>-0.407193</td>\n",
              "      <td>0.095921</td>\n",
              "      <td>0.592941</td>\n",
              "      <td>-0.270533</td>\n",
              "      <td>0.817739</td>\n",
              "      <td>...</td>\n",
              "      <td>-0.009431</td>\n",
              "      <td>0.798278</td>\n",
              "      <td>-0.137458</td>\n",
              "      <td>0.141267</td>\n",
              "      <td>-0.206010</td>\n",
              "      <td>0.502292</td>\n",
              "      <td>0.219422</td>\n",
              "      <td>0.215153</td>\n",
              "      <td>69.99</td>\n",
              "      <td>0.0</td>\n",
              "    </tr>\n",
              "    <tr>\n",
              "      <th>5</th>\n",
              "      <td>2.0</td>\n",
              "      <td>-0.425966</td>\n",
              "      <td>0.960523</td>\n",
              "      <td>1.141109</td>\n",
              "      <td>-0.168252</td>\n",
              "      <td>0.420987</td>\n",
              "      <td>-0.029728</td>\n",
              "      <td>0.476201</td>\n",
              "      <td>0.260314</td>\n",
              "      <td>-0.568671</td>\n",
              "      <td>...</td>\n",
              "      <td>-0.208254</td>\n",
              "      <td>-0.559825</td>\n",
              "      <td>-0.026398</td>\n",
              "      <td>-0.371427</td>\n",
              "      <td>-0.232794</td>\n",
              "      <td>0.105915</td>\n",
              "      <td>0.253844</td>\n",
              "      <td>0.081080</td>\n",
              "      <td>3.67</td>\n",
              "      <td>0.0</td>\n",
              "    </tr>\n",
              "    <tr>\n",
              "      <th>6</th>\n",
              "      <td>4.0</td>\n",
              "      <td>1.229658</td>\n",
              "      <td>0.141004</td>\n",
              "      <td>0.045371</td>\n",
              "      <td>1.202613</td>\n",
              "      <td>0.191881</td>\n",
              "      <td>0.272708</td>\n",
              "      <td>-0.005159</td>\n",
              "      <td>0.081213</td>\n",
              "      <td>0.464960</td>\n",
              "      <td>...</td>\n",
              "      <td>-0.167716</td>\n",
              "      <td>-0.270710</td>\n",
              "      <td>-0.154104</td>\n",
              "      <td>-0.780055</td>\n",
              "      <td>0.750137</td>\n",
              "      <td>-0.257237</td>\n",
              "      <td>0.034507</td>\n",
              "      <td>0.005168</td>\n",
              "      <td>4.99</td>\n",
              "      <td>0.0</td>\n",
              "    </tr>\n",
              "    <tr>\n",
              "      <th>7</th>\n",
              "      <td>7.0</td>\n",
              "      <td>-0.644269</td>\n",
              "      <td>1.417964</td>\n",
              "      <td>1.074380</td>\n",
              "      <td>-0.492199</td>\n",
              "      <td>0.948934</td>\n",
              "      <td>0.428118</td>\n",
              "      <td>1.120631</td>\n",
              "      <td>-3.807864</td>\n",
              "      <td>0.615375</td>\n",
              "      <td>...</td>\n",
              "      <td>1.943465</td>\n",
              "      <td>-1.015455</td>\n",
              "      <td>0.057504</td>\n",
              "      <td>-0.649709</td>\n",
              "      <td>-0.415267</td>\n",
              "      <td>-0.051634</td>\n",
              "      <td>-1.206921</td>\n",
              "      <td>-1.085339</td>\n",
              "      <td>40.80</td>\n",
              "      <td>0.0</td>\n",
              "    </tr>\n",
              "    <tr>\n",
              "      <th>8</th>\n",
              "      <td>7.0</td>\n",
              "      <td>-0.894286</td>\n",
              "      <td>0.286157</td>\n",
              "      <td>-0.113192</td>\n",
              "      <td>-0.271526</td>\n",
              "      <td>2.669599</td>\n",
              "      <td>3.721818</td>\n",
              "      <td>0.370145</td>\n",
              "      <td>0.851084</td>\n",
              "      <td>-0.392048</td>\n",
              "      <td>...</td>\n",
              "      <td>-0.073425</td>\n",
              "      <td>-0.268092</td>\n",
              "      <td>-0.204233</td>\n",
              "      <td>1.011592</td>\n",
              "      <td>0.373205</td>\n",
              "      <td>-0.384157</td>\n",
              "      <td>0.011747</td>\n",
              "      <td>0.142404</td>\n",
              "      <td>93.20</td>\n",
              "      <td>0.0</td>\n",
              "    </tr>\n",
              "    <tr>\n",
              "      <th>9</th>\n",
              "      <td>9.0</td>\n",
              "      <td>-0.338262</td>\n",
              "      <td>1.119593</td>\n",
              "      <td>1.044367</td>\n",
              "      <td>-0.222187</td>\n",
              "      <td>0.499361</td>\n",
              "      <td>-0.246761</td>\n",
              "      <td>0.651583</td>\n",
              "      <td>0.069539</td>\n",
              "      <td>-0.736727</td>\n",
              "      <td>...</td>\n",
              "      <td>-0.246914</td>\n",
              "      <td>-0.633753</td>\n",
              "      <td>-0.120794</td>\n",
              "      <td>-0.385050</td>\n",
              "      <td>-0.069733</td>\n",
              "      <td>0.094199</td>\n",
              "      <td>0.246219</td>\n",
              "      <td>0.083076</td>\n",
              "      <td>3.68</td>\n",
              "      <td>0.0</td>\n",
              "    </tr>\n",
              "  </tbody>\n",
              "</table>\n",
              "<p>10 rows × 31 columns</p>\n",
              "</div>\n",
              "      <button class=\"colab-df-convert\" onclick=\"convertToInteractive('df-86626b8e-f7b7-4a9b-bcf4-5c14bf3ccc41')\"\n",
              "              title=\"Convert this dataframe to an interactive table.\"\n",
              "              style=\"display:none;\">\n",
              "        \n",
              "  <svg xmlns=\"http://www.w3.org/2000/svg\" height=\"24px\"viewBox=\"0 0 24 24\"\n",
              "       width=\"24px\">\n",
              "    <path d=\"M0 0h24v24H0V0z\" fill=\"none\"/>\n",
              "    <path d=\"M18.56 5.44l.94 2.06.94-2.06 2.06-.94-2.06-.94-.94-2.06-.94 2.06-2.06.94zm-11 1L8.5 8.5l.94-2.06 2.06-.94-2.06-.94L8.5 2.5l-.94 2.06-2.06.94zm10 10l.94 2.06.94-2.06 2.06-.94-2.06-.94-.94-2.06-.94 2.06-2.06.94z\"/><path d=\"M17.41 7.96l-1.37-1.37c-.4-.4-.92-.59-1.43-.59-.52 0-1.04.2-1.43.59L10.3 9.45l-7.72 7.72c-.78.78-.78 2.05 0 2.83L4 21.41c.39.39.9.59 1.41.59.51 0 1.02-.2 1.41-.59l7.78-7.78 2.81-2.81c.8-.78.8-2.07 0-2.86zM5.41 20L4 18.59l7.72-7.72 1.47 1.35L5.41 20z\"/>\n",
              "  </svg>\n",
              "      </button>\n",
              "      \n",
              "  <style>\n",
              "    .colab-df-container {\n",
              "      display:flex;\n",
              "      flex-wrap:wrap;\n",
              "      gap: 12px;\n",
              "    }\n",
              "\n",
              "    .colab-df-convert {\n",
              "      background-color: #E8F0FE;\n",
              "      border: none;\n",
              "      border-radius: 50%;\n",
              "      cursor: pointer;\n",
              "      display: none;\n",
              "      fill: #1967D2;\n",
              "      height: 32px;\n",
              "      padding: 0 0 0 0;\n",
              "      width: 32px;\n",
              "    }\n",
              "\n",
              "    .colab-df-convert:hover {\n",
              "      background-color: #E2EBFA;\n",
              "      box-shadow: 0px 1px 2px rgba(60, 64, 67, 0.3), 0px 1px 3px 1px rgba(60, 64, 67, 0.15);\n",
              "      fill: #174EA6;\n",
              "    }\n",
              "\n",
              "    [theme=dark] .colab-df-convert {\n",
              "      background-color: #3B4455;\n",
              "      fill: #D2E3FC;\n",
              "    }\n",
              "\n",
              "    [theme=dark] .colab-df-convert:hover {\n",
              "      background-color: #434B5C;\n",
              "      box-shadow: 0px 1px 3px 1px rgba(0, 0, 0, 0.15);\n",
              "      filter: drop-shadow(0px 1px 2px rgba(0, 0, 0, 0.3));\n",
              "      fill: #FFFFFF;\n",
              "    }\n",
              "  </style>\n",
              "\n",
              "      <script>\n",
              "        const buttonEl =\n",
              "          document.querySelector('#df-86626b8e-f7b7-4a9b-bcf4-5c14bf3ccc41 button.colab-df-convert');\n",
              "        buttonEl.style.display =\n",
              "          google.colab.kernel.accessAllowed ? 'block' : 'none';\n",
              "\n",
              "        async function convertToInteractive(key) {\n",
              "          const element = document.querySelector('#df-86626b8e-f7b7-4a9b-bcf4-5c14bf3ccc41');\n",
              "          const dataTable =\n",
              "            await google.colab.kernel.invokeFunction('convertToInteractive',\n",
              "                                                     [key], {});\n",
              "          if (!dataTable) return;\n",
              "\n",
              "          const docLinkHtml = 'Like what you see? Visit the ' +\n",
              "            '<a target=\"_blank\" href=https://colab.research.google.com/notebooks/data_table.ipynb>data table notebook</a>'\n",
              "            + ' to learn more about interactive tables.';\n",
              "          element.innerHTML = '';\n",
              "          dataTable['output_type'] = 'display_data';\n",
              "          await google.colab.output.renderOutput(dataTable, element);\n",
              "          const docLink = document.createElement('div');\n",
              "          docLink.innerHTML = docLinkHtml;\n",
              "          element.appendChild(docLink);\n",
              "        }\n",
              "      </script>\n",
              "    </div>\n",
              "  </div>\n",
              "  "
            ]
          },
          "metadata": {},
          "execution_count": 3
        }
      ]
    },
    {
      "cell_type": "code",
      "source": [
        "credit.shape"
      ],
      "metadata": {
        "id": "IeXxnUcGSf00",
        "colab": {
          "base_uri": "https://localhost:8080/"
        },
        "outputId": "fbd37623-dcaa-4dee-ee93-045d85386f04"
      },
      "execution_count": null,
      "outputs": [
        {
          "output_type": "execute_result",
          "data": {
            "text/plain": [
              "(284617, 31)"
            ]
          },
          "metadata": {},
          "execution_count": 4
        }
      ]
    },
    {
      "cell_type": "code",
      "source": [
        "# checking for null values\n",
        "credit.isnull().sum()"
      ],
      "metadata": {
        "id": "q-xpsY9Y2cL5",
        "colab": {
          "base_uri": "https://localhost:8080/"
        },
        "outputId": "2a99c86c-5061-4b60-9b22-971b5c8dd1da"
      },
      "execution_count": null,
      "outputs": [
        {
          "output_type": "execute_result",
          "data": {
            "text/plain": [
              "Time      184619\n",
              "V1        184619\n",
              "V2        184619\n",
              "V3        184619\n",
              "V4        184619\n",
              "V5        184619\n",
              "V6        184619\n",
              "V7        184619\n",
              "V8        184619\n",
              "V9        184619\n",
              "V10       184619\n",
              "V11       184619\n",
              "V12       184619\n",
              "V13       184619\n",
              "V14       184619\n",
              "V15       184619\n",
              "V16       184619\n",
              "V17       184619\n",
              "V18       184619\n",
              "V19       184619\n",
              "V20       184619\n",
              "V21       184619\n",
              "V22       184619\n",
              "V23       184619\n",
              "V24       184619\n",
              "V25       184619\n",
              "V26       184619\n",
              "V27       184619\n",
              "V28       184619\n",
              "Amount    184619\n",
              "Class     184619\n",
              "dtype: int64"
            ]
          },
          "metadata": {},
          "execution_count": 5
        }
      ]
    },
    {
      "cell_type": "code",
      "source": [
        "# removing null values\n",
        "credit = credit.dropna()"
      ],
      "metadata": {
        "id": "5Zq_qyg8Tt-F"
      },
      "execution_count": null,
      "outputs": []
    },
    {
      "cell_type": "code",
      "source": [
        "credit.info()"
      ],
      "metadata": {
        "id": "op_XPgO8Sle9",
        "colab": {
          "base_uri": "https://localhost:8080/"
        },
        "outputId": "029cf98e-7741-4b79-8a59-5874f27d1727"
      },
      "execution_count": null,
      "outputs": [
        {
          "output_type": "stream",
          "name": "stdout",
          "text": [
            "<class 'pandas.core.frame.DataFrame'>\n",
            "Int64Index: 99998 entries, 0 to 99997\n",
            "Data columns (total 31 columns):\n",
            " #   Column  Non-Null Count  Dtype  \n",
            "---  ------  --------------  -----  \n",
            " 0   Time    99998 non-null  float64\n",
            " 1   V1      99998 non-null  float64\n",
            " 2   V2      99998 non-null  float64\n",
            " 3   V3      99998 non-null  float64\n",
            " 4   V4      99998 non-null  float64\n",
            " 5   V5      99998 non-null  float64\n",
            " 6   V6      99998 non-null  float64\n",
            " 7   V7      99998 non-null  float64\n",
            " 8   V8      99998 non-null  float64\n",
            " 9   V9      99998 non-null  float64\n",
            " 10  V10     99998 non-null  float64\n",
            " 11  V11     99998 non-null  float64\n",
            " 12  V12     99998 non-null  float64\n",
            " 13  V13     99998 non-null  float64\n",
            " 14  V14     99998 non-null  float64\n",
            " 15  V15     99998 non-null  float64\n",
            " 16  V16     99998 non-null  float64\n",
            " 17  V17     99998 non-null  float64\n",
            " 18  V18     99998 non-null  float64\n",
            " 19  V19     99998 non-null  float64\n",
            " 20  V20     99998 non-null  float64\n",
            " 21  V21     99998 non-null  float64\n",
            " 22  V22     99998 non-null  float64\n",
            " 23  V23     99998 non-null  float64\n",
            " 24  V24     99998 non-null  float64\n",
            " 25  V25     99998 non-null  float64\n",
            " 26  V26     99998 non-null  float64\n",
            " 27  V27     99998 non-null  float64\n",
            " 28  V28     99998 non-null  float64\n",
            " 29  Amount  99998 non-null  float64\n",
            " 30  Class   99998 non-null  float64\n",
            "dtypes: float64(31)\n",
            "memory usage: 24.4 MB\n"
          ]
        }
      ]
    },
    {
      "cell_type": "code",
      "source": [
        "# Assigning dependent and indipendent variables\n",
        "x = credit.iloc[:, :-1]\n",
        "y = credit.iloc[:,-1]"
      ],
      "metadata": {
        "id": "p5YC5RNqSoZ8"
      },
      "execution_count": null,
      "outputs": []
    },
    {
      "cell_type": "code",
      "source": [
        "print(x.shape)\n",
        "print(y.shape)"
      ],
      "metadata": {
        "id": "_vNGuUcKTCbd",
        "colab": {
          "base_uri": "https://localhost:8080/"
        },
        "outputId": "9ac9d998-5a62-4c0a-f82a-e8b0fecc5ad5"
      },
      "execution_count": null,
      "outputs": [
        {
          "output_type": "stream",
          "name": "stdout",
          "text": [
            "(99998, 30)\n",
            "(99998,)\n"
          ]
        }
      ]
    },
    {
      "cell_type": "code",
      "source": [
        "from sklearn.model_selection import train_test_split\n",
        "\n",
        "#Train test split\n",
        "train_data, test_data, train_label, test_label = train_test_split(x, y, test_size=0.3,random_state=42)\n",
        "\n",
        "# validation split\n",
        "train_data, validation_data, train_label, validation_label = train_test_split(train_data, train_label, test_size=.2)"
      ],
      "metadata": {
        "id": "ryePCBcZTDd7"
      },
      "execution_count": null,
      "outputs": []
    },
    {
      "cell_type": "code",
      "source": [
        "# converting into normal distribution - Standardisation\n",
        "\n",
        "mean = np.mean(train_data)\n",
        "std = np.std(train_data)\n",
        "\n",
        "train_data -= mean\n",
        "train_data /= std\n",
        "\n",
        "validation_data -= mean\n",
        "validation_data /= std\n",
        "\n",
        "test_data -= mean\n",
        "test_data /= std"
      ],
      "metadata": {
        "id": "Xj6VB1TITLt9"
      },
      "execution_count": null,
      "outputs": []
    },
    {
      "cell_type": "code",
      "source": [
        "# creating model\n",
        "from keras import models, layers\n",
        "\n",
        "model = models.Sequential()\n",
        "model.add(layers.Dense(50, input_shape=(train_data.shape[1],), activation='relu'))\n",
        "model.add(layers.Dense(30, activation='relu'))\n",
        "model.add(layers.Dense(15, activation='relu'))\n",
        "model.add(layers.Dense(1, activation='sigmoid'))"
      ],
      "metadata": {
        "id": "hfuyUFGMVP_D"
      },
      "execution_count": null,
      "outputs": []
    },
    {
      "cell_type": "code",
      "source": [
        "# compiling model\n",
        "model.compile(optimizer='rmsprop', loss='binary_crossentropy',metrics = ['acc'])"
      ],
      "metadata": {
        "id": "a41oS9q0VUEq"
      },
      "execution_count": null,
      "outputs": []
    },
    {
      "cell_type": "code",
      "source": [
        "# taking label numbers in trainig data\n",
        "train_label.value_counts()"
      ],
      "metadata": {
        "id": "DYCtv6Jd6zLK",
        "colab": {
          "base_uri": "https://localhost:8080/"
        },
        "outputId": "e8d50261-c258-4f8b-c901-f8b2ac6b6764"
      },
      "execution_count": null,
      "outputs": [
        {
          "output_type": "execute_result",
          "data": {
            "text/plain": [
              "0.0    55869\n",
              "1.0      129\n",
              "Name: Class, dtype: int64"
            ]
          },
          "metadata": {},
          "execution_count": 14
        }
      ]
    },
    {
      "cell_type": "markdown",
      "source": [
        "Here, label 1 are very low compared to label 0, around 466 times low. For balancing this we can introduce weights in neurual network"
      ],
      "metadata": {
        "id": "-job-hsU7MdV"
      }
    },
    {
      "cell_type": "code",
      "source": [
        "weights = {\n",
        "    0:1,\n",
        "    1:466\n",
        "}"
      ],
      "metadata": {
        "id": "WUWFVo048iz7"
      },
      "execution_count": null,
      "outputs": []
    },
    {
      "cell_type": "code",
      "source": [
        "history = model.fit(train_data, train_label, epochs=30, validation_data=(validation_data, validation_label), class_weight=weights)"
      ],
      "metadata": {
        "id": "bQQaqJ5aVXJ9",
        "colab": {
          "base_uri": "https://localhost:8080/"
        },
        "outputId": "a4129a73-f6f1-4986-9327-5a3ac7f12f2a"
      },
      "execution_count": null,
      "outputs": [
        {
          "output_type": "stream",
          "name": "stdout",
          "text": [
            "Epoch 1/30\n",
            "1750/1750 [==============================] - 5s 2ms/step - loss: 1.8644 - acc: 0.9986 - val_loss: 0.0085 - val_acc: 0.9994\n",
            "Epoch 2/30\n",
            "1750/1750 [==============================] - 4s 2ms/step - loss: 1.3593 - acc: 0.9991 - val_loss: 0.0055 - val_acc: 0.9995\n",
            "Epoch 3/30\n",
            "1750/1750 [==============================] - 4s 2ms/step - loss: 1.5645 - acc: 0.9992 - val_loss: 0.0057 - val_acc: 0.9995\n",
            "Epoch 4/30\n",
            "1750/1750 [==============================] - 4s 3ms/step - loss: 1.1781 - acc: 0.9991 - val_loss: 0.0055 - val_acc: 0.9994\n",
            "Epoch 5/30\n",
            "1750/1750 [==============================] - 4s 2ms/step - loss: 1.3616 - acc: 0.9992 - val_loss: 0.0120 - val_acc: 0.9994\n",
            "Epoch 6/30\n",
            "1750/1750 [==============================] - 4s 2ms/step - loss: 1.1894 - acc: 0.9991 - val_loss: 0.0042 - val_acc: 0.9995\n",
            "Epoch 7/30\n",
            "1750/1750 [==============================] - 4s 2ms/step - loss: 1.3359 - acc: 0.9992 - val_loss: 0.0055 - val_acc: 0.9994\n",
            "Epoch 8/30\n",
            "1750/1750 [==============================] - 4s 2ms/step - loss: 1.1847 - acc: 0.9992 - val_loss: 0.0035 - val_acc: 0.9994\n",
            "Epoch 9/30\n",
            "1750/1750 [==============================] - 4s 2ms/step - loss: 1.1270 - acc: 0.9992 - val_loss: 0.0059 - val_acc: 0.9994\n",
            "Epoch 10/30\n",
            "1750/1750 [==============================] - 4s 2ms/step - loss: 1.3818 - acc: 0.9992 - val_loss: 0.0083 - val_acc: 0.9995\n",
            "Epoch 11/30\n",
            "1750/1750 [==============================] - 4s 2ms/step - loss: 0.8933 - acc: 0.9992 - val_loss: 0.0055 - val_acc: 0.9996\n",
            "Epoch 12/30\n",
            "1750/1750 [==============================] - 4s 3ms/step - loss: 1.2035 - acc: 0.9979 - val_loss: 0.0041 - val_acc: 0.9995\n",
            "Epoch 13/30\n",
            "1750/1750 [==============================] - 5s 3ms/step - loss: 0.9600 - acc: 0.9992 - val_loss: 0.0068 - val_acc: 0.9995\n",
            "Epoch 14/30\n",
            "1750/1750 [==============================] - 4s 2ms/step - loss: 1.4243 - acc: 0.9995 - val_loss: 0.0068 - val_acc: 0.9994\n",
            "Epoch 15/30\n",
            "1750/1750 [==============================] - 4s 2ms/step - loss: 1.0026 - acc: 0.9994 - val_loss: 0.0055 - val_acc: 0.9996\n",
            "Epoch 16/30\n",
            "1750/1750 [==============================] - 4s 2ms/step - loss: 1.2664 - acc: 0.9995 - val_loss: 0.0066 - val_acc: 0.9996\n",
            "Epoch 17/30\n",
            "1750/1750 [==============================] - 4s 2ms/step - loss: 1.1365 - acc: 0.9972 - val_loss: 0.0061 - val_acc: 0.9996\n",
            "Epoch 18/30\n",
            "1750/1750 [==============================] - 4s 2ms/step - loss: 1.4370 - acc: 0.9986 - val_loss: 0.0074 - val_acc: 0.9994\n",
            "Epoch 19/30\n",
            "1750/1750 [==============================] - 4s 2ms/step - loss: 0.8902 - acc: 0.9984 - val_loss: 0.0094 - val_acc: 0.9996\n",
            "Epoch 20/30\n",
            "1750/1750 [==============================] - 4s 2ms/step - loss: 1.0071 - acc: 0.9956 - val_loss: 0.0115 - val_acc: 0.9994\n",
            "Epoch 21/30\n",
            "1750/1750 [==============================] - 4s 2ms/step - loss: 1.2063 - acc: 0.9988 - val_loss: 0.0114 - val_acc: 0.9993\n",
            "Epoch 22/30\n",
            "1750/1750 [==============================] - 5s 3ms/step - loss: 0.9813 - acc: 0.9973 - val_loss: 0.0071 - val_acc: 0.9996\n",
            "Epoch 23/30\n",
            "1750/1750 [==============================] - 5s 3ms/step - loss: 1.0435 - acc: 0.9974 - val_loss: 0.0092 - val_acc: 0.9995\n",
            "Epoch 24/30\n",
            "1750/1750 [==============================] - 4s 2ms/step - loss: 1.1954 - acc: 0.9994 - val_loss: 0.0321 - val_acc: 0.9979\n",
            "Epoch 25/30\n",
            "1750/1750 [==============================] - 4s 2ms/step - loss: 1.1299 - acc: 0.9977 - val_loss: 0.0135 - val_acc: 0.9996\n",
            "Epoch 26/30\n",
            "1750/1750 [==============================] - 4s 2ms/step - loss: 1.1541 - acc: 0.9995 - val_loss: 0.0107 - val_acc: 0.9996\n",
            "Epoch 27/30\n",
            "1750/1750 [==============================] - 7s 4ms/step - loss: 0.9905 - acc: 0.9982 - val_loss: 0.0109 - val_acc: 0.9996\n",
            "Epoch 28/30\n",
            "1750/1750 [==============================] - 8s 4ms/step - loss: 0.7899 - acc: 0.9978 - val_loss: 0.0118 - val_acc: 0.9996\n",
            "Epoch 29/30\n",
            "1750/1750 [==============================] - 6s 3ms/step - loss: 0.9897 - acc: 0.9991 - val_loss: 0.0086 - val_acc: 0.9996\n",
            "Epoch 30/30\n",
            "1750/1750 [==============================] - 4s 2ms/step - loss: 0.9548 - acc: 0.9979 - val_loss: 0.0064 - val_acc: 0.9996\n"
          ]
        }
      ]
    },
    {
      "cell_type": "code",
      "source": [
        "from sklearn.metrics import roc_auc_score, confusion_matrix\n",
        "\n",
        "predictions = model.predict(test_data)\n",
        "roc_auc_score(test_label, predictions)"
      ],
      "metadata": {
        "id": "XhZp9WlK9VjU",
        "colab": {
          "base_uri": "https://localhost:8080/"
        },
        "outputId": "e384e8ee-d221-434d-a7a9-649bc68e0735"
      },
      "execution_count": null,
      "outputs": [
        {
          "output_type": "execute_result",
          "data": {
            "text/plain": [
              "0.9581979344456796"
            ]
          },
          "metadata": {},
          "execution_count": 17
        }
      ]
    },
    {
      "cell_type": "code",
      "source": [
        "predictions = np.around(predictions)"
      ],
      "metadata": {
        "id": "SevQIreF-D5x"
      },
      "execution_count": null,
      "outputs": []
    },
    {
      "cell_type": "code",
      "source": [
        "predictions"
      ],
      "metadata": {
        "id": "lr6JFY1kBKjG",
        "colab": {
          "base_uri": "https://localhost:8080/"
        },
        "outputId": "2339048e-a00a-4b6f-8ee9-9b8487f33dc8"
      },
      "execution_count": null,
      "outputs": [
        {
          "output_type": "execute_result",
          "data": {
            "text/plain": [
              "array([[0.],\n",
              "       [0.],\n",
              "       [0.],\n",
              "       ...,\n",
              "       [0.],\n",
              "       [0.],\n",
              "       [0.]], dtype=float32)"
            ]
          },
          "metadata": {},
          "execution_count": 19
        }
      ]
    },
    {
      "cell_type": "code",
      "source": [
        "from sklearn.metrics import classification_report\n",
        "\n",
        "print(classification_report(test_label, predictions))"
      ],
      "metadata": {
        "id": "ZL8mtaZe-Fbo",
        "colab": {
          "base_uri": "https://localhost:8080/"
        },
        "outputId": "65e9d71a-82c5-473b-b424-1c4546599f9e"
      },
      "execution_count": null,
      "outputs": [
        {
          "output_type": "stream",
          "name": "stdout",
          "text": [
            "              precision    recall  f1-score   support\n",
            "\n",
            "         0.0       1.00      1.00      1.00     29934\n",
            "         1.0       0.94      0.70      0.80        66\n",
            "\n",
            "    accuracy                           1.00     30000\n",
            "   macro avg       0.97      0.85      0.90     30000\n",
            "weighted avg       1.00      1.00      1.00     30000\n",
            "\n"
          ]
        }
      ]
    },
    {
      "cell_type": "code",
      "source": [
        "import seaborn as sns\n",
        "\n",
        "cm = confusion_matrix(test_label,predictions)\n",
        "print('Confusion Matrix :\\n',cm)\n",
        "sns.heatmap(cm, annot=True)"
      ],
      "metadata": {
        "id": "LkbRp8ap-Nko",
        "colab": {
          "base_uri": "https://localhost:8080/",
          "height": 334
        },
        "outputId": "916c4897-24f0-4a2f-fa06-a0112411bd4c"
      },
      "execution_count": null,
      "outputs": [
        {
          "output_type": "stream",
          "name": "stdout",
          "text": [
            "Confusion Matrix :\n",
            " [[29931     3]\n",
            " [   20    46]]\n"
          ]
        },
        {
          "output_type": "execute_result",
          "data": {
            "text/plain": [
              "<matplotlib.axes._subplots.AxesSubplot at 0x7ffb258f1b90>"
            ]
          },
          "metadata": {},
          "execution_count": 21
        },
        {
          "output_type": "display_data",
          "data": {
            "text/plain": [
              "<Figure size 432x288 with 2 Axes>"
            ],
            "image/png": "[encoded data removed]"
          },
          "metadata": {
            "needs_background": "light"
          }
        }
      ]
    }
  ]
}